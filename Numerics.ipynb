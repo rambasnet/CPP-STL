{
 "cells": [
  {
   "cell_type": "markdown",
   "metadata": {},
   "source": [
    "# Numeric library\n",
    "- includes common mathematical functional and types as well as optimized numeric arrays and support for random number generation\n",
    "- defined in header `<numeric>`\n",
    "\n",
    "## Table of Contents\n",
    "- [iota](#iota)\n",
    "- [accumulate](#accumulate)\n",
    "- [inner_product](#inner_product)\n",
    "- [partial_sum](#partial_sum)\n",
    "\n",
    "- C++17, and C++20 functions are omitted..."
   ]
  },
  {
   "cell_type": "markdown",
   "metadata": {},
   "source": [
    "## header includes and namespace required for this notebook"
   ]
  },
  {
   "cell_type": "code",
   "execution_count": 13,
   "metadata": {},
   "outputs": [],
   "source": [
    "// header includes\n",
    "#include <iostream>\n",
    "#include <numeric>\n",
    "#include <functional> // multiplies<int>\n",
    "#include <iterator> // ostream_iterator\n",
    "\n",
    "using namespace std;"
   ]
  },
  {
   "cell_type": "code",
   "execution_count": 2,
   "metadata": {},
   "outputs": [],
   "source": [
    "// operator<< overloaded to print a vector\n",
    "template<class T>\n",
    "ostream& operator<<(ostream& out, const vector<T>& v) {\n",
    "    char comma[3] = {'\\0', ' ', '\\0'};\n",
    "    out << '[';\n",
    "    for (auto& e: v) {\n",
    "        out << comma << e;\n",
    "        comma[0] = ',';\n",
    "    }\n",
    "    out << ']';\n",
    "    return out;\n",
    "}"
   ]
  },
  {
   "cell_type": "markdown",
   "metadata": {},
   "source": [
    "<a id=\"iota\"></a>"
   ]
  },
  {
   "cell_type": "markdown",
   "metadata": {},
   "source": [
    "## iota\n",
    "- fills a range with successive increments of the starting value\n",
    "- similar to fill() in algorithm library that fills with the same value"
   ]
  },
  {
   "cell_type": "code",
   "execution_count": 3,
   "metadata": {},
   "outputs": [],
   "source": [
    "vector<int> nums(10);"
   ]
  },
  {
   "cell_type": "code",
   "execution_count": 4,
   "metadata": {},
   "outputs": [],
   "source": [
    "// fill nums starting at with -4 and incrementing each value by 1\n",
    "iota(nums.begin(), nums.end(), -4);"
   ]
  },
  {
   "cell_type": "code",
   "execution_count": 8,
   "metadata": {},
   "outputs": [
    {
     "name": "stdout",
     "output_type": "stream",
     "text": [
      "[-4, -3, -2, -1, 0, 1, 2, 3, 4, 5]"
     ]
    }
   ],
   "source": [
    "cout << nums;"
   ]
  },
  {
   "cell_type": "markdown",
   "metadata": {},
   "source": [
    "<a id=\"accumulate\"></a>"
   ]
  },
  {
   "cell_type": "markdown",
   "metadata": {},
   "source": [
    "## accumulate\n",
    "- computes and returns the sum of the given value init and the elements in the range `[first, last)`"
   ]
  },
  {
   "cell_type": "code",
   "execution_count": 9,
   "metadata": {},
   "outputs": [],
   "source": [
    "vector<int> v1(10);"
   ]
  },
  {
   "cell_type": "code",
   "execution_count": 11,
   "metadata": {},
   "outputs": [
    {
     "name": "stdout",
     "output_type": "stream",
     "text": [
      "[1, 2, 3, 4, 5, 6, 7, 8, 9, 10]"
     ]
    }
   ],
   "source": [
    "iota(v1.begin(), v1.end(), 1);\n",
    "cout << v1;"
   ]
  },
  {
   "cell_type": "code",
   "execution_count": 12,
   "metadata": {},
   "outputs": [],
   "source": [
    "int sum, product = 0;"
   ]
  },
  {
   "cell_type": "code",
   "execution_count": 13,
   "metadata": {},
   "outputs": [],
   "source": [
    "sum = accumulate(v1.begin(), v1.end(), 0);"
   ]
  },
  {
   "cell_type": "code",
   "execution_count": 14,
   "metadata": {},
   "outputs": [
    {
     "name": "stdout",
     "output_type": "stream",
     "text": [
      "sum = 55"
     ]
    }
   ],
   "source": [
    "cout << \"sum = \" << sum;"
   ]
  },
  {
   "cell_type": "code",
   "execution_count": 15,
   "metadata": {},
   "outputs": [],
   "source": [
    "// same as factorial of 10\n",
    "product = accumulate(v1.begin(), v1.end(), 1, multiplies<int>());"
   ]
  },
  {
   "cell_type": "code",
   "execution_count": 16,
   "metadata": {},
   "outputs": [
    {
     "name": "stdout",
     "output_type": "stream",
     "text": [
      "product = 3628800"
     ]
    }
   ],
   "source": [
    "cout << \"product = \" << product;"
   ]
  },
  {
   "cell_type": "markdown",
   "metadata": {},
   "source": [
    "## inner_product\n",
    "- computes inner_product (i.e. sum of products) or performs ordered map/reduce operation on the range `[first, last)` and the range beginning at `first2`"
   ]
  },
  {
   "cell_type": "code",
   "execution_count": 17,
   "metadata": {},
   "outputs": [],
   "source": [
    "vector<int> a{0, 1, 2, 3, 4};\n",
    "vector<int> b{5, 4, 2, 3, 1};"
   ]
  },
  {
   "cell_type": "code",
   "execution_count": 18,
   "metadata": {},
   "outputs": [
    {
     "name": "stdout",
     "output_type": "stream",
     "text": [
      "inner product = 21"
     ]
    }
   ],
   "source": [
    "cout << \"inner product = \" << inner_product(a.begin(), a.end(), b.begin(), 0);"
   ]
  },
  {
   "cell_type": "markdown",
   "metadata": {},
   "source": [
    "<a id=\"adjacent_difference\"></a>"
   ]
  },
  {
   "cell_type": "markdown",
   "metadata": {},
   "source": [
    "## adjacent_difference\n",
    "- computes the differences between the second and the first of each adjacent pair of elements of the range `[first, last)` and writes them to the range beginning at `d_first + 1`\n",
    "    - unmodified copy of \\*first is written to \\*d_first\n",
    "- parameters:\n",
    "    - first, last - the range of elements\n",
    "    - d_first - the beginning of the destination range\n",
    "    - op - binary operation function object that will be applied"
   ]
  },
  {
   "cell_type": "code",
   "execution_count": 15,
   "metadata": {},
   "outputs": [],
   "source": [
    "vector<int> v2 = {1, 4, 6, 8, 10, 12, 14, 16, 18, 20};"
   ]
  },
  {
   "cell_type": "code",
   "execution_count": 16,
   "metadata": {},
   "outputs": [
    {
     "name": "stdout",
     "output_type": "stream",
     "text": [
      "[1, 3, 2, 2, 2, 2, 2, 2, 2, 2]"
     ]
    }
   ],
   "source": [
    "adjacent_difference(v2.begin(), v2.end(), v2.begin(), minus<int>());\n",
    "cout << v2;"
   ]
  },
  {
   "cell_type": "code",
   "execution_count": 5,
   "metadata": {},
   "outputs": [],
   "source": [
    "// first 10 values of Fibonacci sequence \n",
    "vector<int> v3(10);"
   ]
  },
  {
   "cell_type": "code",
   "execution_count": 17,
   "metadata": {},
   "outputs": [],
   "source": [
    "v3[0] = 1;\n",
    "adjacent_difference(v3.begin(), prev(v3.end()), next(v3.begin()), plus<>());"
   ]
  },
  {
   "cell_type": "code",
   "execution_count": 18,
   "metadata": {},
   "outputs": [
    {
     "name": "stdout",
     "output_type": "stream",
     "text": [
      "fibs: [1, 1, 2, 3, 5, 8, 13, 21, 34, 55]"
     ]
    }
   ],
   "source": [
    "cout << \"fibs: \" << v3;"
   ]
  },
  {
   "cell_type": "markdown",
   "metadata": {},
   "source": [
    "<a id=\"partial_sum\"></a>"
   ]
  },
  {
   "cell_type": "markdown",
   "metadata": {},
   "source": [
    "## partial_sum\n",
    "- computes partial sums of the elements in the subranges of the range `[first, last)` and writes them to the range beginning at `d_first`\n",
    "    - also takes binary operator function object as an optional argument"
   ]
  },
  {
   "cell_type": "code",
   "execution_count": 8,
   "metadata": {},
   "outputs": [],
   "source": [
    "vector<int> v4(10, 2); //or = {2, 2, 2, 2, 2, 2, 2, 2, 2, 2};"
   ]
  },
  {
   "cell_type": "code",
   "execution_count": 9,
   "metadata": {},
   "outputs": [
    {
     "name": "stdout",
     "output_type": "stream",
     "text": [
      "[2, 2, 2, 2, 2, 2, 2, 2, 2, 2]"
     ]
    }
   ],
   "source": [
    "cout << v4;"
   ]
  },
  {
   "cell_type": "code",
   "execution_count": 12,
   "metadata": {},
   "outputs": [
    {
     "name": "stdout",
     "output_type": "stream",
     "text": [
      "1st 10 even numbers are: 2 4 6 8 10 12 14 16 18 20 "
     ]
    }
   ],
   "source": [
    "cout << \"1st 10 even numbers are: \";\n",
    "partial_sum(v4.begin(), v4.end(), ostream_iterator<int>(cout, \" \"));"
   ]
  },
  {
   "cell_type": "code",
   "execution_count": 19,
   "metadata": {},
   "outputs": [],
   "source": [
    "partial_sum(v4.begin(), v4.end(), v4.begin(), multiplies<>());"
   ]
  },
  {
   "cell_type": "code",
   "execution_count": 20,
   "metadata": {},
   "outputs": [
    {
     "name": "stdout",
     "output_type": "stream",
     "text": [
      "1st 10 powers of 2 are: [2, 4, 8, 16, 32, 64, 128, 256, 512, 1024]"
     ]
    }
   ],
   "source": [
    "cout << \"1st 10 powers of 2 are: \";\n",
    "cout << v4;"
   ]
  },
  {
   "cell_type": "code",
   "execution_count": null,
   "metadata": {},
   "outputs": [],
   "source": []
  }
 ],
 "metadata": {
  "kernelspec": {
   "display_name": "C++14",
   "language": "C++14",
   "name": "xeus-cling-cpp14"
  },
  "language_info": {
   "codemirror_mode": "text/x-c++src",
   "file_extension": ".cpp",
   "mimetype": "text/x-c++src",
   "name": "c++",
   "version": "-std=c++14"
  }
 },
 "nbformat": 4,
 "nbformat_minor": 2
}
