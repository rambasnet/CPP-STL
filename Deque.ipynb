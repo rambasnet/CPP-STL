{
 "cells": [
  {
   "cell_type": "markdown",
   "metadata": {},
   "source": [
    "# STL Deque\n",
    "https://en.cppreference.com/w/cpp/container/deque\n",
    "\n",
    "## Table of Contents\n",
    "- [deque](#deque)\n",
    "- [declare deque](#declare)\n",
    "- [access elements](#access)\n",
    "- [modifiers](#modifiers)\n",
    "- [comparisons](#comparisons)\n",
    "- [iterators](#iterators)"
   ]
  },
  {
   "cell_type": "markdown",
   "metadata": {},
   "source": [
    "<a id=\"deque\"></a>\n",
    "## deque (double-ended queue)\n",
    "- indexed sequence container that allows fast insertion and deletion at both ends\n",
    "- storage is automatically expanded and contracted as needed\n",
    "- the complexity (efficiency) of common operations on deques is as follows:\n",
    "    - random access - constant `O(1)`\n",
    "    - insertion or removal of elements at the end or beginning - constant `O(1)`\n",
    "    - insertion or removal of elements - linear `O(n)`"
   ]
  },
  {
   "cell_type": "markdown",
   "metadata": {},
   "source": [
    "<a id=\"declare\"></a>\n",
    "## declare deque\n",
    "- must include deque header and use namespace std;\n",
    "- deque is a template class designed to store any data type"
   ]
  },
  {
   "cell_type": "code",
   "execution_count": 1,
   "metadata": {
    "code_folding": []
   },
   "outputs": [],
   "source": [
    "// include header files\n",
    "#include <iostream>\n",
    "#include <deque>\n",
    "#include <string>\n",
    "\n",
    "using namespace std;"
   ]
  },
  {
   "cell_type": "code",
   "execution_count": 2,
   "metadata": {
    "code_folding": []
   },
   "outputs": [],
   "source": [
    "// operator<< overloaded to print a deque container\n",
    "template<class T>\n",
    "ostream& operator<<(ostream& out, const deque<T>& v) {\n",
    "    char comma[3] = {'\\0', ' ', '\\0'};\n",
    "    out << '[';\n",
    "    for (auto& e: v) {\n",
    "        out << comma << e;\n",
    "        comma[0] = ',';\n",
    "    }\n",
    "    out << ']';\n",
    "    return out;\n",
    "}"
   ]
  },
  {
   "cell_type": "code",
   "execution_count": 4,
   "metadata": {
    "code_folding": []
   },
   "outputs": [],
   "source": [
    "// declare\n",
    "deque<string> names;\n",
    "deque<float> tests;\n",
    "deque<int> numbers;"
   ]
  },
  {
   "cell_type": "code",
   "execution_count": 4,
   "metadata": {
    "code_folding": []
   },
   "outputs": [],
   "source": [
    "// declare and initialize\n",
    "deque<string> words = {\"i\", \"love\", \"c++\", \"deque\"};\n",
    "deque<float> prices = {1.99, 199, 2.99, 200.85, 45.71};\n",
    "deque<float> dupPrices = prices;"
   ]
  },
  {
   "cell_type": "code",
   "execution_count": 5,
   "metadata": {},
   "outputs": [
    {
     "name": "stdout",
     "output_type": "stream",
     "text": [
      "names contents: []\n",
      "words contents: [i, love, c++, deque]\n",
      "[1.99, 199, 2.99, 200.85, 45.71]"
     ]
    }
   ],
   "source": [
    "// print vector contents using cout operator<< overloaded function\n",
    "cout << \"names contents: \" << names << endl;\n",
    "cout << \"words contents: \"<< words << endl;\n",
    "cout << prices;"
   ]
  },
  {
   "cell_type": "markdown",
   "metadata": {},
   "source": [
    "<a id=\"access\"></a>\n",
    "## access elements\n",
    "- at : access specified element with bounds checking\n",
    "- operator[ ] : access specified element by index\n",
    "- front : access the first element\n",
    "- back : access the last element"
   ]
  },
  {
   "cell_type": "code",
   "execution_count": 6,
   "metadata": {},
   "outputs": [
    {
     "name": "stdout",
     "output_type": "stream",
     "text": [
      "i\n"
     ]
    }
   ],
   "source": [
    "cout << words[0] << endl;"
   ]
  },
  {
   "cell_type": "code",
   "execution_count": 7,
   "metadata": {
    "code_folding": []
   },
   "outputs": [
    {
     "name": "stdout",
     "output_type": "stream",
     "text": [
      "[I, love, c++, deque]\n",
      "199\n",
      "200.85\n",
      "1.99\n",
      "45.71\n"
     ]
    }
   ],
   "source": [
    "// access elements\n",
    "// change i to I in words\n",
    "words[0] = \"I\";\n",
    "// print 2nd price\n",
    "cout << words << endl;\n",
    "cout << dupPrices[1] << endl;\n",
    "cout << dupPrices.at(3) << endl;\n",
    "cout << prices.front() << endl;\n",
    "cout << dupPrices.back() << endl;"
   ]
  },
  {
   "cell_type": "markdown",
   "metadata": {},
   "source": [
    "<a id=\"capacity\"></a>\n",
    "## capacity\n",
    "- empty : checks whethere the container is empty\n",
    "- size : returns the number of elements\n",
    "- max_size : returns the maximum possible number of elements\n",
    "- shrink_to_fit : reduces memory usage by freeing unused memory"
   ]
  },
  {
   "cell_type": "code",
   "execution_count": 8,
   "metadata": {},
   "outputs": [
    {
     "name": "stdout",
     "output_type": "stream",
     "text": [
      "is prices vector empty? false\n",
      "size of prices: 5\n",
      "max_size of prices : 4611686018427387903\n"
     ]
    }
   ],
   "source": [
    "cout << boolalpha; // convert boolean to text true/false\n",
    "cout << \"is prices vector empty? \" << prices.empty() << endl;\n",
    "cout << \"size of prices: \" << prices.size() << endl;\n",
    "cout << \"max_size of prices : \" << prices.max_size() << endl;"
   ]
  },
  {
   "cell_type": "markdown",
   "metadata": {},
   "source": [
    "<a id=\"modifiers\"></a>\n",
    "## modifiers\n",
    "- clear : clears the contents\n",
    "- insert : inserts elements\n",
    "- erase : erases elements\n",
    "- push_back : adds an element to the end\n",
    "- pop_back : removes the last element\n",
    "- push_front : inserts an element in the beginning\n",
    "- pop_front : removes the first element\n",
    "- swap : swaps the contents"
   ]
  },
  {
   "cell_type": "code",
   "execution_count": 9,
   "metadata": {},
   "outputs": [],
   "source": [
    "deque<int> age = {21, 34, 46, 48, 46};"
   ]
  },
  {
   "cell_type": "code",
   "execution_count": 10,
   "metadata": {},
   "outputs": [
    {
     "name": "stdout",
     "output_type": "stream",
     "text": [
      "[21, 34, 46, 48, 46]\n",
      "[]\n"
     ]
    }
   ],
   "source": [
    "cout << age << endl;\n",
    "age.clear();\n",
    "cout << age << endl;"
   ]
  },
  {
   "cell_type": "code",
   "execution_count": 11,
   "metadata": {},
   "outputs": [
    {
     "name": "stdout",
     "output_type": "stream",
     "text": [
      "[10]\n"
     ]
    }
   ],
   "source": [
    "auto it = age.begin();\n",
    "age.insert(it, 10);\n",
    "cout << age << endl;"
   ]
  },
  {
   "cell_type": "code",
   "execution_count": 12,
   "metadata": {},
   "outputs": [
    {
     "name": "stdout",
     "output_type": "stream",
     "text": [
      "[10, 12]"
     ]
    }
   ],
   "source": [
    "it++;\n",
    "age.insert(it, 12);\n",
    "cout << age;"
   ]
  },
  {
   "cell_type": "code",
   "execution_count": 13,
   "metadata": {},
   "outputs": [
    {
     "name": "stdout",
     "output_type": "stream",
     "text": [
      "[10]"
     ]
    }
   ],
   "source": [
    "age.erase(it);\n",
    "cout << age;"
   ]
  },
  {
   "cell_type": "code",
   "execution_count": 14,
   "metadata": {},
   "outputs": [
    {
     "name": "stdout",
     "output_type": "stream",
     "text": [
      "[25, 10]\n"
     ]
    }
   ],
   "source": [
    "it--;\n",
    "age.insert(it, 25);\n",
    "cout << age << endl;"
   ]
  },
  {
   "cell_type": "code",
   "execution_count": 15,
   "metadata": {},
   "outputs": [
    {
     "name": "stdout",
     "output_type": "stream",
     "text": [
      "[25, 10, 50, 55]"
     ]
    }
   ],
   "source": [
    "age.push_back(50);\n",
    "age.push_back(55);\n",
    "cout << age;"
   ]
  },
  {
   "cell_type": "code",
   "execution_count": 14,
   "metadata": {},
   "outputs": [
    {
     "name": "stdout",
     "output_type": "stream",
     "text": [
      "[18, 20, 10, 21, 34]\n"
     ]
    }
   ],
   "source": [
    "age.pop_back();\n",
    "cout << age << endl;"
   ]
  },
  {
   "cell_type": "code",
   "execution_count": 12,
   "metadata": {},
   "outputs": [
    {
     "name": "stdout",
     "output_type": "stream",
     "text": [
      "[18, 20, 10, 21, 34, 46, 48]\n"
     ]
    }
   ],
   "source": [
    "age.push_front(18);\n",
    "cout << age << endl;"
   ]
  },
  {
   "cell_type": "code",
   "execution_count": 18,
   "metadata": {},
   "outputs": [
    {
     "name": "stdout",
     "output_type": "stream",
     "text": [
      "[25, 10, 50]\n"
     ]
    }
   ],
   "source": [
    "age.pop_front();\n",
    "cout << age << endl;"
   ]
  },
  {
   "cell_type": "code",
   "execution_count": 8,
   "metadata": {},
   "outputs": [],
   "source": [
    "deque<int> age1 = {1, 1, 1, 1, 1};"
   ]
  },
  {
   "cell_type": "code",
   "execution_count": 10,
   "metadata": {},
   "outputs": [
    {
     "name": "stdout",
     "output_type": "stream",
     "text": [
      "[20, 10, 21, 34, 46, 48, 46]\n"
     ]
    }
   ],
   "source": [
    "age.push_front(10);\n",
    "age.push_front(20);\n",
    "cout << age << endl;"
   ]
  },
  {
   "cell_type": "code",
   "execution_count": 19,
   "metadata": {},
   "outputs": [
    {
     "name": "stdout",
     "output_type": "stream",
     "text": [
      "[18, 20, 10, 21, 34]\n",
      "[1, 1, 1, 1, 1]\n",
      "[1, 1, 1, 1, 1]\n",
      "[18, 20, 10, 21, 34]\n"
     ]
    }
   ],
   "source": [
    "cout << age << endl;\n",
    "cout << age1 << endl;\n",
    "age1.swap(age);\n",
    "cout << age << endl;\n",
    "cout << age1 << endl;"
   ]
  },
  {
   "cell_type": "markdown",
   "metadata": {},
   "source": [
    "<a id=\"comparisons\"></a>\n",
    "## aggregate comparisons\n",
    "- comparison operators ==, !=, <, <=, and >= are overloaded\n",
    "- elements are compared lexicographically in the two vectors"
   ]
  },
  {
   "cell_type": "code",
   "execution_count": 20,
   "metadata": {},
   "outputs": [
    {
     "name": "stdout",
     "output_type": "stream",
     "text": [
      "age and age1 contains same elements compared lexicographically!\n"
     ]
    }
   ],
   "source": [
    "if (age == age1)\n",
    "    cout << \"age and age1 contains same elements compared lexicographically!\" << endl;\n",
    "else\n",
    "    cout << \"age and age1 do not contain same element(s)\" << endl;"
   ]
  },
  {
   "cell_type": "markdown",
   "metadata": {},
   "source": [
    "<a id=\"iterators\"></a>\n",
    "## iterators\n",
    "- begin - returns iterator to the first element\n",
    "- end - returns iterator to the end (past the last element)\n",
    "- rbegin - returns reverse iterator to the last element\n",
    "- rend - returns a reverse iterator to the beginnning (prior to the first element)\n",
    "<img src=\"./resources/range-rbegin-rend.svg\" />"
   ]
  },
  {
   "cell_type": "code",
   "execution_count": 5,
   "metadata": {},
   "outputs": [],
   "source": [
    "deque<int> nums = {10, 15, 20, 30, 35};"
   ]
  },
  {
   "cell_type": "code",
   "execution_count": 6,
   "metadata": {},
   "outputs": [
    {
     "name": "stdout",
     "output_type": "stream",
     "text": [
      "10 15 20 30 35 \n"
     ]
    }
   ],
   "source": [
    "for(auto iterator = nums.begin(); iterator != nums.end(); iterator++)\n",
    "    cout << *iterator << \" \";\n",
    "cout << endl;"
   ]
  },
  {
   "cell_type": "code",
   "execution_count": 7,
   "metadata": {},
   "outputs": [
    {
     "name": "stdout",
     "output_type": "stream",
     "text": [
      "35 30 20 15 10 \n"
     ]
    }
   ],
   "source": [
    "for(auto iterator = nums.rbegin(); iterator != nums.rend(); iterator++)\n",
    "    cout << *iterator << \" \";\n",
    "cout << endl;"
   ]
  },
  {
   "cell_type": "code",
   "execution_count": 3,
   "metadata": {},
   "outputs": [],
   "source": [
    "using di = deque<int>;"
   ]
  },
  {
   "cell_type": "code",
   "execution_count": 4,
   "metadata": {},
   "outputs": [
    {
     "name": "stdout",
     "output_type": "stream",
     "text": [
      "[1, 2, 3, 4, 5]\n"
     ]
    }
   ],
   "source": [
    "di dq = {1, 2, 3, 4, 5};\n",
    "cout << dq << endl;"
   ]
  },
  {
   "cell_type": "code",
   "execution_count": 5,
   "metadata": {},
   "outputs": [
    {
     "name": "stdout",
     "output_type": "stream",
     "text": [
      "1\n"
     ]
    }
   ],
   "source": [
    "// next function to advance iterator\n",
    "auto iter = dq.begin();\n",
    "cout << *iter << endl;"
   ]
  },
  {
   "cell_type": "code",
   "execution_count": 6,
   "metadata": {},
   "outputs": [
    {
     "name": "stdout",
     "output_type": "stream",
     "text": [
      "2\n"
     ]
    }
   ],
   "source": [
    "iter = next(iter); // one location at a time\n",
    "cout << *iter << endl;"
   ]
  },
  {
   "cell_type": "code",
   "execution_count": 8,
   "metadata": {},
   "outputs": [
    {
     "name": "stdout",
     "output_type": "stream",
     "text": [
      "5\n"
     ]
    }
   ],
   "source": [
    "iter = next(iter, 3);\n",
    "cout << *iter << endl;"
   ]
  },
  {
   "cell_type": "code",
   "execution_count": null,
   "metadata": {},
   "outputs": [],
   "source": []
  }
 ],
 "metadata": {
  "kernelspec": {
   "display_name": "C++14",
   "language": "C++14",
   "name": "xeus-cling-cpp14"
  },
  "language_info": {
   "codemirror_mode": "text/x-c++src",
   "file_extension": ".cpp",
   "mimetype": "text/x-c++src",
   "name": "c++",
   "version": "-std=c++14"
  }
 },
 "nbformat": 4,
 "nbformat_minor": 2
}
