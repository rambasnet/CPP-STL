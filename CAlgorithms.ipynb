{
 "cells": [
  {
   "cell_type": "markdown",
   "metadata": {},
   "source": [
    "# C Algorithms Library\n",
    "- defined in header `<cstdlib>`\n",
    "\n",
    "## Table of Contents\n",
    "- [qsort](#qsort)\n",
    "- [bsearch](#bsearch)"
   ]
  },
  {
   "cell_type": "markdown",
   "metadata": {},
   "source": [
    "## required header includes for this notebook"
   ]
  },
  {
   "cell_type": "code",
   "execution_count": 4,
   "metadata": {},
   "outputs": [],
   "source": [
    "// header includes\n",
    "#include <iostream>\n",
    "#include <cstdlib>\n",
    "#include <climits>\n",
    "\n",
    "using namespace std;"
   ]
  },
  {
   "cell_type": "markdown",
   "metadata": {},
   "source": [
    "<a id=\"qsort\"></a>"
   ]
  },
  {
   "cell_type": "markdown",
   "metadata": {},
   "source": [
    "### qsort\n",
    "- sorts a range of elements with unspecified type in ascending order\n",
    "- qsort(void* ptr, size_t count, size_t size, comp);\n",
    "    - ptr: pointer to the array to sort\n",
    "    - count : number of elements in the array\n",
    "    - size : size of each element in the array in bytes\n",
    "    - comp : comparison function"
   ]
  },
  {
   "cell_type": "code",
   "execution_count": 2,
   "metadata": {},
   "outputs": [],
   "source": [
    "int nums[] = {-2, 99, 0, -743, 2, INT_MIN, 4};"
   ]
  },
  {
   "cell_type": "code",
   "execution_count": 5,
   "metadata": {},
   "outputs": [
    {
     "name": "stdout",
     "output_type": "stream",
     "text": [
      "-2 99 0 -743 2 -2147483648 4 "
     ]
    }
   ],
   "source": [
    "for(auto e:nums) cout << e << ' ';"
   ]
  },
  {
   "cell_type": "code",
   "execution_count": 6,
   "metadata": {},
   "outputs": [],
   "source": [
    "size_t arrLen = sizeof nums / sizeof *nums; // find total no. of elements in nums array"
   ]
  },
  {
   "cell_type": "code",
   "execution_count": 7,
   "metadata": {},
   "outputs": [],
   "source": [
    "qsort(nums, arrLen, sizeof *nums, [](const void* arg1, const void* arg2) {\n",
    "   int a = *(int*)(arg1);\n",
    "   int b = *(int*)(arg2);\n",
    "   if(a < b) return -1;\n",
    "   if (a > b) return 1;\n",
    "   else return 0;\n",
    "});"
   ]
  },
  {
   "cell_type": "markdown",
   "metadata": {},
   "source": [
    "<a id=\"bsearch\"></a>"
   ]
  },
  {
   "cell_type": "markdown",
   "metadata": {},
   "source": [
    "### bsearch\n",
    "- performs binary search on sorted sequence\n",
    "- returns pointer to the found element or null pointer if the element not found\n",
    "- complexity of O (lg N)\n",
    "\n",
    "- prototype:\n",
    "    **bsearch( const void* key, const void* ptr, size_t count, size_t size);**\n",
    "    - key - pointer to the element to search for\n",
    "    - ptr - pointer to the array to examine\n",
    "    - count - number of elements in the array\n",
    "    - size of each element in the array in bytes\n",
    "    - comp - comparison function\n",
    "        - returns -1 if the first argument is less than the second\n",
    "        - returns 1 if the first argument is greater than the second\n",
    "        - returns 0 if the two arguments are equal"
   ]
  },
  {
   "cell_type": "code",
   "execution_count": 8,
   "metadata": {},
   "outputs": [],
   "source": [
    "const int ARR_SIZE = 8;\n",
    "int arr[ARR_SIZE] = { 1, 2, 3, 4, 5, 6, 7, 8 };"
   ]
  },
  {
   "cell_type": "code",
   "execution_count": 9,
   "metadata": {},
   "outputs": [],
   "source": [
    "int key = 4;"
   ]
  },
  {
   "cell_type": "code",
   "execution_count": 10,
   "metadata": {},
   "outputs": [],
   "source": [
    "int compare(const void *arg1, const void *arg2)\n",
    "{\n",
    "    const int *a = (int *) arg1;\n",
    "    const int *b = (int *) arg2;\n",
    "    if(*a < *b) return -1;\n",
    "    else if(*a > *b) return 1;\n",
    "    else return 0;\n",
    "}"
   ]
  },
  {
   "cell_type": "code",
   "execution_count": 11,
   "metadata": {},
   "outputs": [],
   "source": [
    "int *p1 = (int *) bsearch(&key, arr, ARR_SIZE, sizeof(arr[0]), compare);"
   ]
  },
  {
   "cell_type": "code",
   "execution_count": 12,
   "metadata": {},
   "outputs": [
    {
     "name": "stdout",
     "output_type": "stream",
     "text": [
      "value 4 found at position 3\n"
     ]
    }
   ],
   "source": [
    "if (p1) // not NULL \n",
    "    cout << \"value \" << key << \" found at position \" << p1 - arr << '\\n';\n",
    "else\n",
    "    cout << \"value \" << key << \" not found\\n\";"
   ]
  },
  {
   "cell_type": "code",
   "execution_count": 13,
   "metadata": {},
   "outputs": [],
   "source": [
    "int key2 = 9;"
   ]
  },
  {
   "cell_type": "code",
   "execution_count": 14,
   "metadata": {},
   "outputs": [],
   "source": [
    "int *p2 = (int *) bsearch(&key2, arr, ARR_SIZE, sizeof(arr[0]), compare);"
   ]
  },
  {
   "cell_type": "code",
   "execution_count": 15,
   "metadata": {},
   "outputs": [
    {
     "name": "stdout",
     "output_type": "stream",
     "text": [
      "value 9 not found\n"
     ]
    }
   ],
   "source": [
    "if (p2) // not NULL \n",
    "    cout << \"value \" << key2 << \" found at position \" << p2 - arr << '\\n';\n",
    "else\n",
    "    cout << \"value \" << key2 << \" not found\\n\";"
   ]
  },
  {
   "cell_type": "code",
   "execution_count": null,
   "metadata": {},
   "outputs": [],
   "source": []
  }
 ],
 "metadata": {
  "kernelspec": {
   "display_name": "C++14",
   "language": "C++14",
   "name": "xeus-cling-cpp14"
  },
  "language_info": {
   "codemirror_mode": "text/x-c++src",
   "file_extension": ".cpp",
   "mimetype": "text/x-c++src",
   "name": "c++",
   "version": "-std=c++14"
  }
 },
 "nbformat": 4,
 "nbformat_minor": 2
}
