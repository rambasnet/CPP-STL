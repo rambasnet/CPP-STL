{
 "cells": [
  {
   "cell_type": "markdown",
   "metadata": {},
   "source": [
    "# Priority Queue\n",
    "https://en.cppreference.com/w/cpp/container/priority_queue\n",
    "\n",
    "## Table of Contents\n",
    "- [Priority Queue definition](#queue)\n",
    "- [Declare](#declare)\n",
    "- [Modifiers](#modifiers)\n",
    "- [Access elements](#access)\n",
    "- [Comparisons](#comparisons)\n",
    "- [Iterators](#iterators)\n",
    "- [Lookup operations](#operations)"
   ]
  },
  {
   "cell_type": "markdown",
   "metadata": {},
   "source": [
    "<a id=\"queue\"></a>"
   ]
  },
  {
   "cell_type": "markdown",
   "metadata": {},
   "source": [
    "## Priority Queue\n",
    "- container adapter that provides contstant time `O(1)` lookup of the largest (by default) element\n",
    "    - insertion and extraction takes `O(lg n)` time, however\n",
    "- user-provided Compare function can be supplied to change the ordering\n",
    "    - e.g., using std::greater<T> would cause smallest element to appear as the top()\n",
    "- working with priority queue is similar to managing a [heap](#https://en.cppreference.com/w/cpp/container/priority_queue) in random access container"
   ]
  },
  {
   "cell_type": "markdown",
   "metadata": {},
   "source": [
    "<a id=\"declare\"></a>"
   ]
  },
  {
   "cell_type": "markdown",
   "metadata": {},
   "source": [
    "## Declare priority_queue\n",
    "- must include header file queue and use namespace std;\n",
    "- a template class designed to store any data types that can be compared"
   ]
  },
  {
   "cell_type": "markdown",
   "metadata": {},
   "source": [
    "### all header includes required for this notebook"
   ]
  },
  {
   "cell_type": "code",
   "execution_count": 2,
   "metadata": {
    "code_folding": []
   },
   "outputs": [],
   "source": [
    "// include header files\n",
    "#include <iostream>\n",
    "#include <string>\n",
    "#include <queue>\n",
    "#include <functional>\n",
    "#include <vector>\n",
    "#include <utility>\n",
    "\n",
    "using namespace std;"
   ]
  },
  {
   "cell_type": "code",
   "execution_count": 2,
   "metadata": {
    "code_folding": []
   },
   "outputs": [],
   "source": [
    "// operator<< overloaded to print a priority_queue container\n",
    "template<class T>\n",
    "ostream& operator<<(ostream& out, priority_queue<T>& q) {\n",
    "    char comma[3] = {'\\0', ' ', '\\0'};\n",
    "    out << '[';\n",
    "    while (!q.empty()) {\n",
    "        out << comma << q.top();\n",
    "        q.pop();\n",
    "        comma[0] = ',';\n",
    "    }\n",
    "    out << ']';\n",
    "    return out;\n",
    "}"
   ]
  },
  {
   "cell_type": "code",
   "execution_count": 3,
   "metadata": {
    "code_folding": []
   },
   "outputs": [],
   "source": [
    "// declare priority_queues\n",
    "priority_queue<string> customers; // vip bank customers based on alphabetical order\n",
    "\n",
    "// type, container, Compare templates\n",
    "priority_queue<int, vector<int>, greater<int> > passengers;\n",
    "// priority boarding on airlines based on passender id"
   ]
  },
  {
   "cell_type": "markdown",
   "metadata": {},
   "source": [
    "<a id=\"modifiers\"></a>"
   ]
  },
  {
   "cell_type": "markdown",
   "metadata": {},
   "source": [
    "## modifiers\n",
    "- **push** : inserts element and sorts the underlying container\n",
    "- **pop** : removes the top element\n",
    "- **swap** : swaps the contents"
   ]
  },
  {
   "cell_type": "code",
   "execution_count": 4,
   "metadata": {},
   "outputs": [],
   "source": [
    "customers.push(\"John\");\n",
    "customers.push(\"Jake\");\n",
    "customers.push(\"Emily\");\n",
    "customers.push(\"Rosa\");"
   ]
  },
  {
   "cell_type": "code",
   "execution_count": 5,
   "metadata": {},
   "outputs": [
    {
     "name": "stdout",
     "output_type": "stream",
     "text": [
      "[Rosa, John, Jake, Emily]\n"
     ]
    },
    {
     "data": {
      "text/plain": [
       "@0x10a0a5ec0"
      ]
     },
     "execution_count": 5,
     "metadata": {},
     "output_type": "execute_result"
    }
   ],
   "source": [
    "cout << customers << endl; // serve all the customers\n",
    "// all elements of customers are popped off!"
   ]
  },
  {
   "cell_type": "code",
   "execution_count": 6,
   "metadata": {},
   "outputs": [
    {
     "name": "stdout",
     "output_type": "stream",
     "text": [
      "[]\n"
     ]
    },
    {
     "data": {
      "text/plain": [
       "@0x10a0a5ec0"
      ]
     },
     "execution_count": 6,
     "metadata": {},
     "output_type": "execute_result"
    }
   ],
   "source": [
    "cout << customers << endl; // must be empty!"
   ]
  },
  {
   "cell_type": "code",
   "execution_count": 7,
   "metadata": {},
   "outputs": [],
   "source": [
    "customers.push(\"John\");\n",
    "customers.push(\"Jake\");\n",
    "customers.push(\"Emily\");\n",
    "customers.push(\"Rosa\");"
   ]
  },
  {
   "cell_type": "code",
   "execution_count": 8,
   "metadata": {},
   "outputs": [
    {
     "name": "stdout",
     "output_type": "stream",
     "text": [
      "front cust: Rosa\n",
      "front cust: John\n"
     ]
    }
   ],
   "source": [
    "cout << \"front cust: \" << customers.top() << endl;\n",
    "customers.pop();\n",
    "cout << \"front cust: \" << customers.top() << endl;"
   ]
  },
  {
   "cell_type": "code",
   "execution_count": 9,
   "metadata": {},
   "outputs": [],
   "source": [
    "passengers.push(100);\n",
    "passengers.push(10);\n",
    "passengers.push(75);\n",
    "passengers.push(1);"
   ]
  },
  {
   "cell_type": "code",
   "execution_count": 10,
   "metadata": {},
   "outputs": [
    {
     "name": "stdout",
     "output_type": "stream",
     "text": [
      "1\n"
     ]
    }
   ],
   "source": [
    "cout << passengers.top() << endl;"
   ]
  },
  {
   "cell_type": "code",
   "execution_count": 11,
   "metadata": {},
   "outputs": [
    {
     "name": "stdout",
     "output_type": "stream",
     "text": [
      "1 10 75 100 "
     ]
    }
   ],
   "source": [
    "while (!passengers.empty()) {\n",
    "    cout << passengers.top() << \" \";\n",
    "    passengers.pop();\n",
    "}"
   ]
  },
  {
   "cell_type": "markdown",
   "metadata": {},
   "source": [
    "### priority_queue for objects (with 2 or more relevant information)"
   ]
  },
  {
   "cell_type": "code",
   "execution_count": 12,
   "metadata": {},
   "outputs": [],
   "source": [
    "struct employee {\n",
    "    int id, salary;  \n",
    "    string name;\n",
    "    // used by max priority queue\n",
    "    bool operator>(const employee &other) const {\n",
    "        return this->salary > other.salary;\n",
    "    }\n",
    "    // used by min priority queue\n",
    "    bool operator<(const employee &other) const {\n",
    "        return this->salary < other.salary;\n",
    "    }\n",
    "};"
   ]
  },
  {
   "cell_type": "code",
   "execution_count": 13,
   "metadata": {},
   "outputs": [],
   "source": [
    "priority_queue<employee, vector<employee> > maxPQ;"
   ]
  },
  {
   "cell_type": "code",
   "execution_count": 14,
   "metadata": {},
   "outputs": [],
   "source": [
    "maxPQ.push({100, 10000, \"John Doe\"});\n",
    "maxPQ.push({10, 5000, \"Jane Doe\"});\n",
    "maxPQ.push({200, 20000, \"Michael Jordan\"});"
   ]
  },
  {
   "cell_type": "code",
   "execution_count": 15,
   "metadata": {},
   "outputs": [
    {
     "name": "stdout",
     "output_type": "stream",
     "text": [
      "id: 200 salary: 20000 name: Michael Jordan\n"
     ]
    }
   ],
   "source": [
    "employee emp = maxPQ.top();\n",
    "maxPQ.pop();\n",
    "cout << \"id: \" << emp.id << \" salary: \" << emp.salary << \" \" << \"name: \" << emp.name << endl;"
   ]
  },
  {
   "cell_type": "code",
   "execution_count": 16,
   "metadata": {},
   "outputs": [
    {
     "name": "stdout",
     "output_type": "stream",
     "text": [
      "id: 100 salary: 10000 name: John Doe\n",
      "id: 10 salary: 5000 name: Jane Doe\n"
     ]
    }
   ],
   "source": [
    "while(!maxPQ.empty()) {\n",
    "    employee emp = maxPQ.top();\n",
    "    maxPQ.pop();\n",
    "    cout << \"id: \" << emp.id << \" salary: \" << emp.salary << \" \" << \"name: \" << emp.name << endl;\n",
    "}"
   ]
  },
  {
   "cell_type": "markdown",
   "metadata": {},
   "source": [
    "## Min Priority Queue"
   ]
  },
  {
   "cell_type": "code",
   "execution_count": 17,
   "metadata": {},
   "outputs": [],
   "source": [
    "priority_queue<employee, vector<employee>, greater<employee> > minPQ;"
   ]
  },
  {
   "cell_type": "code",
   "execution_count": 18,
   "metadata": {},
   "outputs": [],
   "source": [
    "minPQ.push({100, 10000, \"John Doe\"});\n",
    "minPQ.push({10, 5000, \"Jane Doe\"});\n",
    "minPQ.push({200, 20000, \"Michael Jordan\"});"
   ]
  },
  {
   "cell_type": "code",
   "execution_count": 19,
   "metadata": {},
   "outputs": [
    {
     "name": "stdout",
     "output_type": "stream",
     "text": [
      "id: 10 salary: 5000 name: Jane Doe\n",
      "id: 100 salary: 10000 name: John Doe\n",
      "id: 200 salary: 20000 name: Michael Jordan\n"
     ]
    }
   ],
   "source": [
    "while(!minPQ.empty()) {\n",
    "    employee emp = minPQ.top();\n",
    "    minPQ.pop();\n",
    "    cout << \"id: \" << emp.id << \" salary: \" << emp.salary << \" \" << \"name: \" << emp.name << endl;\n",
    "}"
   ]
  },
  {
   "cell_type": "markdown",
   "metadata": {},
   "source": [
    "<a id=\"access\"></a>"
   ]
  },
  {
   "cell_type": "markdown",
   "metadata": {},
   "source": [
    "## access elements\n",
    "- **top** : access the top (highest priority) element"
   ]
  },
  {
   "cell_type": "code",
   "execution_count": 22,
   "metadata": {},
   "outputs": [
    {
     "name": "stdout",
     "output_type": "stream",
     "text": [
      "front: John\n"
     ]
    }
   ],
   "source": [
    "// access elements\n",
    "cout << \"front: \" << customers.top() << endl;"
   ]
  },
  {
   "cell_type": "markdown",
   "metadata": {},
   "source": [
    "<a id=\"capacity\"></a>"
   ]
  },
  {
   "cell_type": "markdown",
   "metadata": {},
   "source": [
    "\n",
    "## capacity\n",
    "- **empty** : checks whether the underlying container is empty\n",
    "- **size** : returns the number of elements"
   ]
  },
  {
   "cell_type": "code",
   "execution_count": 23,
   "metadata": {},
   "outputs": [
    {
     "name": "stdout",
     "output_type": "stream",
     "text": [
      "is customers q empty? false\n",
      "is passengers q empty? true\n"
     ]
    }
   ],
   "source": [
    "cout << boolalpha; // convert boolean to text true/false\n",
    "cout << \"is customers q empty? \" << customers.empty() << endl;\n",
    "cout << \"is passengers q empty? \" << passengers.empty() << endl;"
   ]
  },
  {
   "cell_type": "markdown",
   "metadata": {},
   "source": [
    "<a id=\"comparisons\"></a>"
   ]
  },
  {
   "cell_type": "markdown",
   "metadata": {},
   "source": [
    "## Aggregate comparisons\n",
    "- none overloaded!"
   ]
  },
  {
   "cell_type": "markdown",
   "metadata": {},
   "source": [
    "<a id=\"iterators\"></a>"
   ]
  },
  {
   "cell_type": "markdown",
   "metadata": {},
   "source": [
    "## Iterators\n",
    "- none supported!"
   ]
  },
  {
   "cell_type": "markdown",
   "metadata": {},
   "source": [
    "<a id=\"operations\"></a>"
   ]
  },
  {
   "cell_type": "markdown",
   "metadata": {},
   "source": [
    "## Lookup operations\n",
    "- no look up operations\n",
    "- can't search through the priority_queue without popping or deleting or copying elements to another priority_queue"
   ]
  },
  {
   "cell_type": "code",
   "execution_count": null,
   "metadata": {},
   "outputs": [],
   "source": []
  }
 ],
 "metadata": {
  "kernelspec": {
   "display_name": "C++14",
   "language": "C++14",
   "name": "xcpp14"
  },
  "language_info": {
   "codemirror_mode": "text/x-c++src",
   "file_extension": ".cpp",
   "mimetype": "text/x-c++src",
   "name": "c++",
   "version": "14"
  }
 },
 "nbformat": 4,
 "nbformat_minor": 2
}
