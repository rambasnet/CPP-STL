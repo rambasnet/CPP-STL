{
 "cells": [
  {
   "cell_type": "markdown",
   "metadata": {},
   "source": [
    "# Priority Queue\n",
    "https://en.cppreference.com/w/cpp/container/priority_queue\n",
    "\n",
    "## Table of Contents\n",
    "- [Priority Queue definition](#queue)\n",
    "- [Declare](#declare)\n",
    "- [Modifiers](#modifiers)\n",
    "- [Access elements](#access)\n",
    "- [Comparisons](#comparisons)\n",
    "- [Iterators](#iterators)\n",
    "- [Lookup operations](#operations)"
   ]
  },
  {
   "cell_type": "markdown",
   "metadata": {},
   "source": [
    "<a id=\"queue\"></a>\n",
    "## Priority Queue\n",
    "- container adapter that provides contstant time `O(1)` lookup of the largest (by default) element\n",
    "    - insertion and extraction takes `O(lg n)` time, however\n",
    "- user-provided Compare function can be supplied to change the ordering\n",
    "    - e.g., using std::greater<T> would cause smallest element to appear as the top()"
   ]
  },
  {
   "cell_type": "markdown",
   "metadata": {},
   "source": [
    "<a id=\"declare\"></a>\n",
    "## Declare priority_queue\n",
    "- must include header file queue and use namespace std;\n",
    "- a template class designed to store any data types that can be comapred"
   ]
  },
  {
   "cell_type": "code",
   "execution_count": 1,
   "metadata": {
    "code_folding": []
   },
   "outputs": [],
   "source": [
    "// include header files\n",
    "#include <iostream>\n",
    "#include <string>\n",
    "#include <queue>\n",
    "#include <functional>\n",
    "#include <vector>\n",
    "#include <utility>\n",
    "\n",
    "using namespace std;"
   ]
  },
  {
   "cell_type": "code",
   "execution_count": 2,
   "metadata": {
    "code_folding": []
   },
   "outputs": [],
   "source": [
    "// operator<< overloaded to print a priority_queue container\n",
    "template<class T>\n",
    "ostream& operator<<(ostream& out, priority_queue<T>& q) {\n",
    "    char comma[3] = {'\\0', ' ', '\\0'};\n",
    "    out << '[';\n",
    "    while (!q.empty()) {\n",
    "        out << comma << q.top();\n",
    "        q.pop();\n",
    "        comma[0] = ',';\n",
    "    }\n",
    "    out << ']';\n",
    "    return out;\n",
    "}"
   ]
  },
  {
   "cell_type": "code",
   "execution_count": 3,
   "metadata": {
    "code_folding": []
   },
   "outputs": [],
   "source": [
    "// declare priority_queues\n",
    "priority_queue<string> customers; // vip bank customers based on alphabetical order :)\n",
    "priority_queue<int, vector<int>, greater<int> > passengers; // priority boarding on airlines based on passender id"
   ]
  },
  {
   "cell_type": "markdown",
   "metadata": {},
   "source": [
    "<a id=\"modifiers\"></a>\n",
    "## modifiers\n",
    "- **push** : inserts element and sorts the underlying container\n",
    "- **pop** : removes the top element\n",
    "- **swap** : swaps the contents"
   ]
  },
  {
   "cell_type": "code",
   "execution_count": 4,
   "metadata": {},
   "outputs": [],
   "source": [
    "customers.push(\"John\");\n",
    "customers.push(\"Jake\");\n",
    "customers.push(\"Emily\");\n",
    "customers.push(\"Rosa\");"
   ]
  },
  {
   "cell_type": "code",
   "execution_count": 5,
   "metadata": {},
   "outputs": [
    {
     "name": "stdout",
     "output_type": "stream",
     "text": [
      "[Rosa, John, Jake, Emily]\n"
     ]
    },
    {
     "data": {
      "text/plain": [
       "@0x1101cd010"
      ]
     },
     "execution_count": 5,
     "metadata": {},
     "output_type": "execute_result"
    }
   ],
   "source": [
    "cout << customers << endl; // serve all the customers"
   ]
  },
  {
   "cell_type": "code",
   "execution_count": 6,
   "metadata": {},
   "outputs": [
    {
     "name": "stdout",
     "output_type": "stream",
     "text": [
      "[]\n"
     ]
    },
    {
     "data": {
      "text/plain": [
       "@0x1101cd010"
      ]
     },
     "execution_count": 6,
     "metadata": {},
     "output_type": "execute_result"
    }
   ],
   "source": [
    "cout << customers << endl; // must be empty!"
   ]
  },
  {
   "cell_type": "code",
   "execution_count": 7,
   "metadata": {},
   "outputs": [],
   "source": [
    "customers.push(\"John\");\n",
    "customers.push(\"Jake\");\n",
    "customers.push(\"Emily\");\n",
    "customers.push(\"Rosa\");"
   ]
  },
  {
   "cell_type": "code",
   "execution_count": 8,
   "metadata": {},
   "outputs": [
    {
     "name": "stdout",
     "output_type": "stream",
     "text": [
      "front cust: Rosa\n",
      "front cust: John\n"
     ]
    }
   ],
   "source": [
    "cout << \"front cust: \" << customers.top() << endl;\n",
    "customers.pop();\n",
    "cout << \"front cust: \" << customers.top() << endl;"
   ]
  },
  {
   "cell_type": "code",
   "execution_count": 9,
   "metadata": {},
   "outputs": [],
   "source": [
    "passengers.push(100);\n",
    "passengers.push(10);\n",
    "passengers.push(75);\n",
    "passengers.push(1);"
   ]
  },
  {
   "cell_type": "code",
   "execution_count": 10,
   "metadata": {},
   "outputs": [
    {
     "name": "stdout",
     "output_type": "stream",
     "text": [
      "1\n"
     ]
    }
   ],
   "source": [
    "cout << passengers.top() << endl;"
   ]
  },
  {
   "cell_type": "code",
   "execution_count": 11,
   "metadata": {},
   "outputs": [
    {
     "name": "stdout",
     "output_type": "stream",
     "text": [
      "1 10 75 100 "
     ]
    }
   ],
   "source": [
    "while (!passengers.empty()) {\n",
    "    cout << passengers.top() << \" \";\n",
    "    passengers.pop();\n",
    "}"
   ]
  },
  {
   "cell_type": "code",
   "execution_count": 12,
   "metadata": {},
   "outputs": [],
   "source": [
    "// example priority_queue storing pairs (two values)\n",
    "using my_pair_t = pair<size_t, bool>;\n",
    "using my_container_t = vector<my_pair_t>;"
   ]
  },
  {
   "cell_type": "code",
   "execution_count": 13,
   "metadata": {},
   "outputs": [
    {
     "name": "stdout",
     "output_type": "stream",
     "text": [
      "3 false\n",
      "5 true\n",
      "7 true\n"
     ]
    }
   ],
   "source": [
    " auto my_comp =\n",
    "        [](const my_pair_t& e1, const my_pair_t& e2) \n",
    "        { return e1.first > e2.first; };\n",
    "\n",
    "std::priority_queue<my_pair_t,\n",
    "                    my_container_t,\n",
    "                    decltype(my_comp)> queue(my_comp);\n",
    "queue.push(std::make_pair(5, true));\n",
    "queue.push(std::make_pair(3, false));\n",
    "queue.push(std::make_pair(7, true));\n",
    "std::cout << std::boolalpha;\n",
    "while(!queue.empty()) \n",
    "{\n",
    "    const auto& p = queue.top();\n",
    "    std::cout << p.first << \" \" << p.second << \"\\n\";\n",
    "    queue.pop();\n",
    "}"
   ]
  },
  {
   "cell_type": "markdown",
   "metadata": {},
   "source": [
    "<a id=\"access\"></a>\n",
    "## access elements\n",
    "- **top** : access the top (highest priority) element"
   ]
  },
  {
   "cell_type": "code",
   "execution_count": 16,
   "metadata": {},
   "outputs": [
    {
     "name": "stdout",
     "output_type": "stream",
     "text": [
      "front: John\n"
     ]
    }
   ],
   "source": [
    "// access elements\n",
    "cout << \"front: \" << customers.top() << endl;"
   ]
  },
  {
   "cell_type": "markdown",
   "metadata": {},
   "source": [
    "<a id=\"capacity\"></a>\n",
    "## capacity\n",
    "- **empty** : checks whethere the underlying container is empty\n",
    "- **size** : returns the number of elements"
   ]
  },
  {
   "cell_type": "code",
   "execution_count": 12,
   "metadata": {},
   "outputs": [
    {
     "name": "stdout",
     "output_type": "stream",
     "text": [
      "is customers q empty? false\n",
      "is passengers q empty? true\n"
     ]
    }
   ],
   "source": [
    "cout << boolalpha; // convert boolean to text true/false\n",
    "cout << \"is customers q empty? \" << customers.empty() << endl;\n",
    "cout << \"is passengers q empty? \" << passengers.empty() << endl;"
   ]
  },
  {
   "cell_type": "markdown",
   "metadata": {},
   "source": [
    "<a id=\"comparisons\"></a>\n",
    "## Aggregate comparisons\n",
    "- None overloaded!"
   ]
  },
  {
   "cell_type": "markdown",
   "metadata": {},
   "source": [
    "<a id=\"iterators\"></a>\n",
    "## Iterators\n",
    "- no iterators"
   ]
  },
  {
   "cell_type": "markdown",
   "metadata": {},
   "source": [
    "<a id=\"operations\"></a>\n",
    "## Lookup operations\n",
    "- no look up operations\n",
    "- can't search through the priority_queue without poping or deleting or copying elements to another priority_queue"
   ]
  },
  {
   "cell_type": "code",
   "execution_count": null,
   "metadata": {},
   "outputs": [],
   "source": []
  }
 ],
 "metadata": {
  "kernelspec": {
   "display_name": "C++14",
   "language": "C++14",
   "name": "xeus-cling-cpp14"
  },
  "language_info": {
   "codemirror_mode": "text/x-c++src",
   "file_extension": ".cpp",
   "mimetype": "text/x-c++src",
   "name": "c++",
   "version": "-std=c++14"
  }
 },
 "nbformat": 4,
 "nbformat_minor": 2
}
