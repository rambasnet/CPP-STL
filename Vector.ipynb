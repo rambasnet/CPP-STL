{
 "cells": [
  {
   "cell_type": "markdown",
   "metadata": {},
   "source": [
    "# STL vector\n",
    "https://en.cppreference.com/w/cpp/container/vector\n",
    "\n",
    "## Table of Contents\n",
    "- [vector](#vector)\n",
    "- [declare vectors](#declare)\n",
    "- [access elements](#access)\n",
    "- [modifiers](#modifiers)\n",
    "- [comparisons](#comparisons)\n",
    "- [iterators](#iterators)"
   ]
  },
  {
   "cell_type": "markdown",
   "metadata": {},
   "source": [
    "<a id=\"vector\"></a>"
   ]
  },
  {
   "cell_type": "markdown",
   "metadata": {},
   "source": [
    "## vector\n",
    "- uses dynamic array to store elements\n",
    "- usually occupy more space than static array to account for future growth\n",
    "- provides capacity() method to query allocated memory\n",
    "- provides shrink_to_fit() method to release the extra memory back to the system\n",
    "- the complexity (efficiency) of common operations on vectors is as follows:\n",
    "    - random access - constant `O(1)`\n",
    "    - insertion or removal of elements at the end - amortized constant `O(1)`\n",
    "    - insertion or removal of elements - linear in the distance to the end of the vector `O(n)`"
   ]
  },
  {
   "cell_type": "markdown",
   "metadata": {},
   "source": [
    "<a id=\"declare\"></a>"
   ]
  },
  {
   "cell_type": "markdown",
   "metadata": {},
   "source": [
    "## include header files required for this notebook"
   ]
  },
  {
   "cell_type": "code",
   "execution_count": 1,
   "metadata": {
    "code_folding": []
   },
   "outputs": [],
   "source": [
    "// include header files\n",
    "#include <iostream>\n",
    "#include <vector>\n",
    "#include <string>\n",
    "\n",
    "using namespace std;"
   ]
  },
  {
   "cell_type": "code",
   "execution_count": 2,
   "metadata": {
    "code_folding": []
   },
   "outputs": [],
   "source": [
    "// printVector helper function\n",
    "template<class T>\n",
    "void printVector(const vector<T>& v) {\n",
    "    char comma[3] = {'\\0', ' ', '\\0'};\n",
    "    cout << '[';\n",
    "    for (const auto& e: v) {\n",
    "        cout << comma << e;\n",
    "        comma[0] = ',';\n",
    "    }\n",
    "    cout << \"]\\n\";\n",
    "}"
   ]
  },
  {
   "cell_type": "code",
   "execution_count": 3,
   "metadata": {
    "code_folding": []
   },
   "outputs": [],
   "source": [
    "// operator<< overloaded to print a vector\n",
    "template<class T>\n",
    "ostream& operator<<(ostream& out, const vector<T>& v) {\n",
    "    char comma[3] = {'\\0', ' ', '\\0'};\n",
    "    out << '[';\n",
    "    for (auto& e: v) {\n",
    "        out << comma << e;\n",
    "        comma[0] = ',';\n",
    "    }\n",
    "    out << \"]\\n\";\n",
    "    return out;\n",
    "}"
   ]
  },
  {
   "cell_type": "markdown",
   "metadata": {},
   "source": [
    "## declare vectors\n",
    "- must include vector header and use namespace std;\n",
    "- vector is a template class designed to store any data type"
   ]
  },
  {
   "cell_type": "code",
   "execution_count": 4,
   "metadata": {
    "code_folding": []
   },
   "outputs": [],
   "source": [
    "// declare vectors\n",
    "vector<string> names;\n",
    "vector<float> tests;\n",
    "vector<int> numbers;"
   ]
  },
  {
   "cell_type": "code",
   "execution_count": 5,
   "metadata": {
    "code_folding": []
   },
   "outputs": [],
   "source": [
    "// declare and initialize vectors\n",
    "vector<string> words = {\"i\", \"love\", \"c++\", \"vectors\"};\n",
    "vector<float> prices = {1.99, 199, 2.99, 200.85, 45.71};\n",
    "vector<float> dupPrices = prices;"
   ]
  },
  {
   "cell_type": "code",
   "execution_count": 6,
   "metadata": {},
   "outputs": [
    {
     "name": "stdout",
     "output_type": "stream",
     "text": [
      "names contents: []\n",
      "words contents: [i, love, c++, vectors]\n"
     ]
    }
   ],
   "source": [
    "// print vector contents using printVector function\n",
    "cout << \"names contents: \";\n",
    "printVector(names);\n",
    "cout << \"words contents: \";\n",
    "printVector(words);"
   ]
  },
  {
   "cell_type": "code",
   "execution_count": 7,
   "metadata": {},
   "outputs": [
    {
     "name": "stdout",
     "output_type": "stream",
     "text": [
      "names contents: []\n",
      "\n",
      "words contents: [i, love, c++, vectors]\n",
      "\n",
      "[1.99, 199, 2.99, 200.85, 45.71]\n"
     ]
    }
   ],
   "source": [
    "// print vector contents using cout operator<< overloaded function\n",
    "cout << \"names contents: \" << names << endl;\n",
    "cout << \"words contents: \"<< words << endl;\n",
    "cout << prices;"
   ]
  },
  {
   "cell_type": "markdown",
   "metadata": {},
   "source": [
    "<a id=\"access\"></a>"
   ]
  },
  {
   "cell_type": "markdown",
   "metadata": {},
   "source": [
    "## access elements\n",
    "- at : access specified element with bounds checking\n",
    "- operator[ ] : access specified element by index\n",
    "- front : access the first element\n",
    "- back : access the last element"
   ]
  },
  {
   "cell_type": "code",
   "execution_count": 8,
   "metadata": {
    "code_folding": []
   },
   "outputs": [
    {
     "name": "stdout",
     "output_type": "stream",
     "text": [
      "199\n",
      "200.85\n",
      "1.99\n",
      "45.71\n"
     ]
    }
   ],
   "source": [
    "// access elements\n",
    "// change i to I in words\n",
    "words[0] = \"I\";\n",
    "// print 2nd price\n",
    "cout << dupPrices[1] << endl;\n",
    "cout << dupPrices.at(3) << endl;\n",
    "cout << prices.front() << endl;\n",
    "cout << dupPrices.back() << endl;"
   ]
  },
  {
   "cell_type": "markdown",
   "metadata": {},
   "source": [
    "<a id=\"capacity\"></a>"
   ]
  },
  {
   "cell_type": "markdown",
   "metadata": {},
   "source": [
    "## capacity\n",
    "- **empty** : checks whether the container is empty\n",
    "- **size** : returns the number of elements\n",
    "- **max_size** : returns the maximum possible number of elements\n",
    "- **capacity** : returns the number of elements that can be held in currently allocated storage\n",
    "- **shrink_to_fit** : reduces memory usage by freeing unused memory"
   ]
  },
  {
   "cell_type": "code",
   "execution_count": 9,
   "metadata": {},
   "outputs": [
    {
     "name": "stdout",
     "output_type": "stream",
     "text": [
      "is prices vector empty? false\n",
      "size of prices: 5\n",
      "max_size of prices : 4611686018427387903\n",
      "capacity: 5\n"
     ]
    }
   ],
   "source": [
    "cout << boolalpha; // convert boolean to text true/false\n",
    "cout << \"is prices vector empty? \" << prices.empty() << endl;\n",
    "cout << \"size of prices: \" << prices.size() << endl;\n",
    "cout << \"max_size of prices : \" << prices.max_size() << endl;\n",
    "cout << \"capacity: \" << prices.capacity() << endl;"
   ]
  },
  {
   "cell_type": "markdown",
   "metadata": {},
   "source": [
    "<a id=\"modifiers\"></a>"
   ]
  },
  {
   "cell_type": "markdown",
   "metadata": {},
   "source": [
    "## modifiers\n",
    "- **clear** : clears the contents\n",
    "- **insert** : inserts elements\n",
    "- **erase** : erases elements\n",
    "- **push_back** : adds an element to the end\n",
    "- **pop_back** : removes the last element\n",
    "- **swap** : swaps the contents"
   ]
  },
  {
   "cell_type": "code",
   "execution_count": 10,
   "metadata": {},
   "outputs": [],
   "source": [
    "vector<int> age = {21, 34, 46, 48, 46};"
   ]
  },
  {
   "cell_type": "code",
   "execution_count": 11,
   "metadata": {},
   "outputs": [
    {
     "name": "stdout",
     "output_type": "stream",
     "text": [
      "[21, 34, 46, 48, 46]\n",
      "[]\n"
     ]
    }
   ],
   "source": [
    "cout << age;\n",
    "age.clear();\n",
    "cout << age;"
   ]
  },
  {
   "cell_type": "code",
   "execution_count": 12,
   "metadata": {},
   "outputs": [
    {
     "name": "stdout",
     "output_type": "stream",
     "text": [
      "[10]\n"
     ]
    }
   ],
   "source": [
    "auto it = age.begin();\n",
    "age.insert(it, 10);\n",
    "cout << age;"
   ]
  },
  {
   "cell_type": "code",
   "execution_count": 13,
   "metadata": {},
   "outputs": [
    {
     "name": "stdout",
     "output_type": "stream",
     "text": [
      "[10, 12]\n"
     ]
    }
   ],
   "source": [
    "it++;\n",
    "age.insert(it, 12);\n",
    "cout << age;"
   ]
  },
  {
   "cell_type": "code",
   "execution_count": 14,
   "metadata": {},
   "outputs": [
    {
     "name": "stdout",
     "output_type": "stream",
     "text": [
      "[10]\n"
     ]
    }
   ],
   "source": [
    "age.erase(it);\n",
    "cout << age;"
   ]
  },
  {
   "cell_type": "code",
   "execution_count": 15,
   "metadata": {},
   "outputs": [
    {
     "name": "stdout",
     "output_type": "stream",
     "text": [
      "[25, 10]\n"
     ]
    }
   ],
   "source": [
    "it--;\n",
    "age.insert(it, 25);\n",
    "cout << age;"
   ]
  },
  {
   "cell_type": "code",
   "execution_count": 16,
   "metadata": {},
   "outputs": [
    {
     "name": "stdout",
     "output_type": "stream",
     "text": [
      "[25, 10, 150, 200]\n"
     ]
    }
   ],
   "source": [
    "age.push_back(150);\n",
    "age.push_back(200);\n",
    "cout << age;"
   ]
  },
  {
   "cell_type": "code",
   "execution_count": 17,
   "metadata": {},
   "outputs": [
    {
     "name": "stdout",
     "output_type": "stream",
     "text": [
      "[25, 10, 150]\n"
     ]
    }
   ],
   "source": [
    "age.pop_back();\n",
    "cout << age;"
   ]
  },
  {
   "cell_type": "code",
   "execution_count": 18,
   "metadata": {},
   "outputs": [],
   "source": [
    "vector<int> age1 = {1, 1, 1, 1, 1};"
   ]
  },
  {
   "cell_type": "code",
   "execution_count": 19,
   "metadata": {},
   "outputs": [
    {
     "name": "stdout",
     "output_type": "stream",
     "text": [
      "before swap: age1 = [1, 1, 1, 1, 1]\n",
      "\n",
      "after swap: age1 = [25, 10, 150]\n",
      "\n",
      "age = [1, 1, 1, 1, 1]\n",
      "\n"
     ]
    }
   ],
   "source": [
    "// inorder to swap, two vectors have to be of same type \n",
    "// # no. of elements do not have to be equal\n",
    "cout << \"before swap: age1 = \";\n",
    "cout << age1 << endl;\n",
    "age1.swap(age);\n",
    "cout << \"after swap: age1 = \";\n",
    "cout << age1 << endl; \n",
    "cout << \"age = \" << age << endl;"
   ]
  },
  {
   "cell_type": "markdown",
   "metadata": {},
   "source": [
    "<a id=\"comparisons\"></a>"
   ]
  },
  {
   "cell_type": "markdown",
   "metadata": {},
   "source": [
    "## aggregate comparisons\n",
    "- comparison operators ==, !=, <, <=, and >= are overloaded\n",
    "    - two vector objects can be compared\n",
    "- elements are compared lexicographically in the two vectors"
   ]
  },
  {
   "cell_type": "code",
   "execution_count": 20,
   "metadata": {},
   "outputs": [
    {
     "name": "stdout",
     "output_type": "stream",
     "text": [
      "age and age1 do not contain same element(s)\n"
     ]
    }
   ],
   "source": [
    "if (age == age1)\n",
    "    cout << \"age and age1 contains same elements compared lexicographically!\" << endl;\n",
    "else\n",
    "    cout << \"age and age1 do not contain same element(s)\" << endl;"
   ]
  },
  {
   "cell_type": "markdown",
   "metadata": {},
   "source": [
    "<a id=\"iterators\"></a>"
   ]
  },
  {
   "cell_type": "markdown",
   "metadata": {},
   "source": [
    "## iterators\n",
    "- **begin** - returns iterator to the first element\n",
    "- **end** - returns iterator to the end (past the last element)\n",
    "- **rbegin** - returns reverse iterator to the last element\n",
    "- **rend** - returns a reverse iterator to the beginning (prior to the first element)\n",
    "<img src=\"./resources/range-rbegin-rend.svg\" />"
   ]
  },
  {
   "cell_type": "code",
   "execution_count": 21,
   "metadata": {},
   "outputs": [],
   "source": [
    "vector<int> nums = {10, 15, 20, 30, 35};"
   ]
  },
  {
   "cell_type": "code",
   "execution_count": 22,
   "metadata": {},
   "outputs": [
    {
     "name": "stdout",
     "output_type": "stream",
     "text": [
      "10 15 20 30 35 \n"
     ]
    }
   ],
   "source": [
    "for(auto iterator = nums.begin(); iterator != nums.end(); iterator++)\n",
    "    cout << *iterator << \" \";\n",
    "cout << endl;"
   ]
  },
  {
   "cell_type": "code",
   "execution_count": 23,
   "metadata": {},
   "outputs": [
    {
     "name": "stdout",
     "output_type": "stream",
     "text": [
      "35 30 20 15 10 \n"
     ]
    }
   ],
   "source": [
    "for(auto iterator = nums.rbegin(); iterator != nums.rend(); iterator++)\n",
    "    cout << *iterator << \" \";\n",
    "cout << endl;"
   ]
  },
  {
   "cell_type": "code",
   "execution_count": 24,
   "metadata": {},
   "outputs": [],
   "source": [
    "// type alias\n",
    "using vi = vector<int>;"
   ]
  },
  {
   "cell_type": "code",
   "execution_count": 25,
   "metadata": {},
   "outputs": [
    {
     "name": "stdout",
     "output_type": "stream",
     "text": [
      "[1, 2, 3, 4, 5]\n",
      "\n"
     ]
    }
   ],
   "source": [
    "vi values = {1, 2, 3, 4, 5};\n",
    "cout << values << endl;"
   ]
  },
  {
   "cell_type": "code",
   "execution_count": 26,
   "metadata": {},
   "outputs": [
    {
     "name": "stdout",
     "output_type": "stream",
     "text": [
      "1\n"
     ]
    }
   ],
   "source": [
    "// next function to advance iterator\n",
    "auto iter = values.begin();\n",
    "cout << *iter << endl;"
   ]
  },
  {
   "cell_type": "code",
   "execution_count": 27,
   "metadata": {},
   "outputs": [
    {
     "name": "stdout",
     "output_type": "stream",
     "text": [
      "2\n"
     ]
    }
   ],
   "source": [
    "iter = next(iter); // one location at a time\n",
    "cout << *iter << endl;"
   ]
  },
  {
   "cell_type": "code",
   "execution_count": 28,
   "metadata": {},
   "outputs": [
    {
     "name": "stdout",
     "output_type": "stream",
     "text": [
      "5\n"
     ]
    }
   ],
   "source": [
    "iter = next(iter, 3);\n",
    "cout << *iter << endl;"
   ]
  },
  {
   "cell_type": "code",
   "execution_count": null,
   "metadata": {},
   "outputs": [],
   "source": []
  }
 ],
 "metadata": {
  "kernelspec": {
   "display_name": "C++14",
   "language": "C++14",
   "name": "xeus-cling-cpp14"
  },
  "language_info": {
   "codemirror_mode": "text/x-c++src",
   "file_extension": ".cpp",
   "mimetype": "text/x-c++src",
   "name": "c++",
   "version": "-std=c++14"
  }
 },
 "nbformat": 4,
 "nbformat_minor": 2
}
