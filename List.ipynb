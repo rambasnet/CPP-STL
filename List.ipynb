{
 "cells": [
  {
   "cell_type": "markdown",
   "metadata": {},
   "source": [
    "# STL List\n",
    "https://en.cppreference.com/w/cpp/container/list\n",
    "\n",
    "## Table of Contents\n",
    "- [list](#list)\n",
    "- [declare](#declare)\n",
    "- [access elements](#access)\n",
    "- [modifiers](#modifiers)\n",
    "- [comparisons](#comparisons)\n",
    "- [iterators](#iterators)\n",
    "- [operations](#operations)"
   ]
  },
  {
   "cell_type": "markdown",
   "metadata": {},
   "source": [
    "<a id=\"list\"></a>\n",
    "## list\n",
    "- sequence container that allows constant insertion and deletion of elements from anywhere in the container\n",
    "- fast random access via indexing is not supported\n",
    "- implemented as doubly-linked list\n",
    "- less space efficient compared to forward_list as it offers bidirectional iteration\n",
    "- the complexity (efficiency) of common operations on deques is as follows:\n",
    "    - random access - not supported\n",
    "    - insertion or removal of elements - constant `O(1)`"
   ]
  },
  {
   "cell_type": "markdown",
   "metadata": {},
   "source": [
    "<a id=\"declare\"></a>\n",
    "## declare list\n",
    "- must include list header and use namespace std;\n",
    "- a template class designed to store any data type"
   ]
  },
  {
   "cell_type": "code",
   "execution_count": 1,
   "metadata": {
    "code_folding": []
   },
   "outputs": [],
   "source": [
    "// include header files\n",
    "#include <iostream>\n",
    "#include <list>\n",
    "#include <string>\n",
    "\n",
    "using namespace std;"
   ]
  },
  {
   "cell_type": "code",
   "execution_count": 2,
   "metadata": {
    "code_folding": []
   },
   "outputs": [],
   "source": [
    "// operator<< overloaded to print a list container\n",
    "template<class T>\n",
    "ostream& operator<<(ostream& out, const list<T>& v) {\n",
    "    char comma[3] = {'\\0', ' ', '\\0'};\n",
    "    out << '[';\n",
    "    for (auto& e: v) {\n",
    "        out << comma << e;\n",
    "        comma[0] = ',';\n",
    "    }\n",
    "    out << ']';\n",
    "    return out;\n",
    "}"
   ]
  },
  {
   "cell_type": "code",
   "execution_count": 3,
   "metadata": {
    "code_folding": []
   },
   "outputs": [],
   "source": [
    "// declare\n",
    "list<string> names;\n",
    "list<float> tests;\n",
    "list<int> numbers;"
   ]
  },
  {
   "cell_type": "code",
   "execution_count": 4,
   "metadata": {
    "code_folding": []
   },
   "outputs": [],
   "source": [
    "// declare and initialize\n",
    "list<string> words = {\"i\", \"love\", \"C++\", \"!\"};\n",
    "list<float> prices = {1.99, 199, 2.99, 200.85, 45.71};\n",
    "list<float> dupPrices = prices;"
   ]
  },
  {
   "cell_type": "code",
   "execution_count": 5,
   "metadata": {},
   "outputs": [
    {
     "name": "stdout",
     "output_type": "stream",
     "text": [
      "names contents: []\n",
      "words contents: [i, love, C++, !]\n",
      "[1.99, 199, 2.99, 200.85, 45.71]\n"
     ]
    }
   ],
   "source": [
    "// print container contents using cout operator<< overloaded function\n",
    "cout << \"names contents: \" << names << endl;\n",
    "cout << \"words contents: \"<< words << endl;\n",
    "cout << prices << endl;"
   ]
  },
  {
   "cell_type": "markdown",
   "metadata": {},
   "source": [
    "<a id=\"access\"></a>\n",
    "## access elements\n",
    "- front : access the first element\n",
    "- back : access the last element"
   ]
  },
  {
   "cell_type": "code",
   "execution_count": 6,
   "metadata": {},
   "outputs": [
    {
     "name": "stdout",
     "output_type": "stream",
     "text": [
      "i\n",
      "1.99\n",
      "!\n",
      "45.71\n"
     ]
    }
   ],
   "source": [
    "cout << words.front() << endl;\n",
    "cout << prices.front() << endl;\n",
    "cout << words.back() << endl;\n",
    "cout << prices.back() << endl;"
   ]
  },
  {
   "cell_type": "markdown",
   "metadata": {},
   "source": [
    "<a id=\"capacity\"></a>\n",
    "## capacity\n",
    "- empty : checks whethere the container is empty\n",
    "- size : returns the number of elements\n",
    "- max_size : returns the maximum possible number of elements"
   ]
  },
  {
   "cell_type": "code",
   "execution_count": 7,
   "metadata": {},
   "outputs": [
    {
     "name": "stdout",
     "output_type": "stream",
     "text": [
      "is names empty? false\n",
      "is prices empty? false\n",
      "size of prices: 5\n",
      "max_size of prices: 768614336404564650\n"
     ]
    }
   ],
   "source": [
    "cout << boolalpha; // convert boolean to text true/false\n",
    "cout << \"is names empty? \" << prices.empty() << endl;\n",
    "cout << \"is prices empty? \" << prices.empty() << endl;\n",
    "cout << \"size of prices: \" << prices.size() << endl;\n",
    "cout << \"max_size of prices: \" << prices.max_size() << endl;"
   ]
  },
  {
   "cell_type": "markdown",
   "metadata": {},
   "source": [
    "<a id=\"modifiers\"></a>\n",
    "## modifiers\n",
    "- clear : clears the contents\n",
    "- insert : inserts elements before the specified location\n",
    "- erase : erases elements at the specified location\n",
    "- push_back : inserts an element to the end\n",
    "- pop_back : removes the last element\n",
    "- push_front : inserts an elemetn to the beginning\n",
    "- pop_front : removes the first element\n",
    "- swap : swaps the contents"
   ]
  },
  {
   "cell_type": "code",
   "execution_count": 8,
   "metadata": {},
   "outputs": [],
   "source": [
    "list<int> age = {21, 34, 46, 48, 46};"
   ]
  },
  {
   "cell_type": "code",
   "execution_count": 9,
   "metadata": {},
   "outputs": [
    {
     "name": "stdout",
     "output_type": "stream",
     "text": [
      "[21, 34, 46, 48, 46]\n",
      "[]\n"
     ]
    }
   ],
   "source": [
    "cout << age << endl;\n",
    "age.clear();\n",
    "cout << age << endl;"
   ]
  },
  {
   "cell_type": "code",
   "execution_count": 10,
   "metadata": {},
   "outputs": [
    {
     "name": "stdout",
     "output_type": "stream",
     "text": [
      "[10]\n"
     ]
    }
   ],
   "source": [
    "// user iterator to insert elements\n",
    "auto it = age.begin();\n",
    "age.insert(it, 10);\n",
    "cout << age << endl;"
   ]
  },
  {
   "cell_type": "code",
   "execution_count": 11,
   "metadata": {},
   "outputs": [
    {
     "name": "stdout",
     "output_type": "stream",
     "text": [
      "[12, 10]"
     ]
    }
   ],
   "source": [
    "it++;\n",
    "age.insert(it, 12);\n",
    "cout << age;"
   ]
  },
  {
   "cell_type": "code",
   "execution_count": 12,
   "metadata": {},
   "outputs": [
    {
     "name": "stdout",
     "output_type": "stream",
     "text": [
      "10\n",
      "age: [12]"
     ]
    }
   ],
   "source": [
    "cout << *it << endl;\n",
    "age.erase(it);\n",
    "cout << \"age: \" << age;"
   ]
  },
  {
   "cell_type": "code",
   "execution_count": 13,
   "metadata": {},
   "outputs": [
    {
     "name": "stdout",
     "output_type": "stream",
     "text": [
      "[12, 15]\n"
     ]
    }
   ],
   "source": [
    "age.push_back(15);\n",
    "cout << age << endl;"
   ]
  },
  {
   "cell_type": "code",
   "execution_count": 14,
   "metadata": {},
   "outputs": [
    {
     "name": "stdout",
     "output_type": "stream",
     "text": [
      "[100, 12, 15]\n"
     ]
    }
   ],
   "source": [
    "age.push_front(100);\n",
    "cout << age << endl;"
   ]
  },
  {
   "cell_type": "code",
   "execution_count": 15,
   "metadata": {},
   "outputs": [
    {
     "name": "stdout",
     "output_type": "stream",
     "text": [
      "[50, 100, 12, 15, 55]"
     ]
    }
   ],
   "source": [
    "age.push_front(50);\n",
    "age.push_back(55);\n",
    "cout << age;"
   ]
  },
  {
   "cell_type": "code",
   "execution_count": 16,
   "metadata": {},
   "outputs": [
    {
     "name": "stdout",
     "output_type": "stream",
     "text": [
      "[100, 12, 15, 55]\n"
     ]
    }
   ],
   "source": [
    "age.pop_front();\n",
    "cout << age << endl;"
   ]
  },
  {
   "cell_type": "code",
   "execution_count": 17,
   "metadata": {},
   "outputs": [
    {
     "name": "stdout",
     "output_type": "stream",
     "text": [
      "[100, 12, 15]\n"
     ]
    }
   ],
   "source": [
    "age.pop_back();\n",
    "cout << age << endl;"
   ]
  },
  {
   "cell_type": "code",
   "execution_count": 18,
   "metadata": {},
   "outputs": [],
   "source": [
    "list<int> age1 = {1, 1, 1, 1, 1};"
   ]
  },
  {
   "cell_type": "code",
   "execution_count": 19,
   "metadata": {},
   "outputs": [
    {
     "name": "stdout",
     "output_type": "stream",
     "text": [
      "[100, 12, 15]\n",
      "[1, 1, 1, 1, 1]\n"
     ]
    }
   ],
   "source": [
    "cout << age << endl;\n",
    "cout << age1 << endl;"
   ]
  },
  {
   "cell_type": "code",
   "execution_count": 20,
   "metadata": {},
   "outputs": [
    {
     "name": "stdout",
     "output_type": "stream",
     "text": [
      "[1, 1, 1, 1, 1]\n",
      "[100, 12, 15]\n"
     ]
    }
   ],
   "source": [
    "// inorder to swap, number of elements between the containers have to be equal\n",
    "age1.swap(age);\n",
    "cout << age << endl;\n",
    "cout << age1 << endl;"
   ]
  },
  {
   "cell_type": "markdown",
   "metadata": {},
   "source": [
    "<a id=\"comparisons\"></a>\n",
    "## aggregate comparisons\n",
    "- comparison operators ==, !=, <, <=, and >= are overloaded\n",
    "- elements are compared lexicographically"
   ]
  },
  {
   "cell_type": "code",
   "execution_count": 21,
   "metadata": {},
   "outputs": [
    {
     "name": "stdout",
     "output_type": "stream",
     "text": [
      "age and age1 do not contain same element(s)\n"
     ]
    }
   ],
   "source": [
    "if (age == age1)\n",
    "    cout << \"age and age1 contains same elements compared lexicographically!\" << endl;\n",
    "else\n",
    "    cout << \"age and age1 do not contain same element(s)\" << endl;"
   ]
  },
  {
   "cell_type": "markdown",
   "metadata": {},
   "source": [
    "<a id=\"iterators\"></a>\n",
    "## iterators\n",
    "- before_begin - returns an iterator to the element before beginning\n",
    "- begin - returns iterator to the first element\n",
    "- end - returns iterator to the end (past the last element)\n",
    "<img src=\"./resources/range-rbegin-rend.svg\" />"
   ]
  },
  {
   "cell_type": "code",
   "execution_count": 22,
   "metadata": {},
   "outputs": [],
   "source": [
    "list<int> nums = {10, 15, 20, 30, 35};"
   ]
  },
  {
   "cell_type": "code",
   "execution_count": 23,
   "metadata": {},
   "outputs": [
    {
     "name": "stdout",
     "output_type": "stream",
     "text": [
      "10 15 20 30 35 \n"
     ]
    }
   ],
   "source": [
    "for(auto iterator = nums.begin(); iterator != nums.end(); iterator++)\n",
    "    cout << *iterator << \" \";\n",
    "cout << endl;"
   ]
  },
  {
   "cell_type": "code",
   "execution_count": 24,
   "metadata": {},
   "outputs": [],
   "source": [
    "using li = list<int>;"
   ]
  },
  {
   "cell_type": "code",
   "execution_count": 25,
   "metadata": {},
   "outputs": [
    {
     "name": "stdout",
     "output_type": "stream",
     "text": [
      "[1, 2, 3, 4, 5]\n"
     ]
    }
   ],
   "source": [
    "li alist = {1, 2, 3, 4, 5};\n",
    "cout << alist << endl;"
   ]
  },
  {
   "cell_type": "code",
   "execution_count": 26,
   "metadata": {},
   "outputs": [
    {
     "name": "stdout",
     "output_type": "stream",
     "text": [
      "1\n"
     ]
    }
   ],
   "source": [
    "// move iterators using next function\n",
    "auto iter = alist.begin();\n",
    "cout << *iter << endl;"
   ]
  },
  {
   "cell_type": "code",
   "execution_count": 27,
   "metadata": {},
   "outputs": [
    {
     "name": "stdout",
     "output_type": "stream",
     "text": [
      "2\n"
     ]
    }
   ],
   "source": [
    "iter = next(iter);\n",
    "cout << *iter << endl;"
   ]
  },
  {
   "cell_type": "code",
   "execution_count": 28,
   "metadata": {},
   "outputs": [
    {
     "name": "stdout",
     "output_type": "stream",
     "text": [
      "5\n"
     ]
    }
   ],
   "source": [
    "iter = next(iter, 3);\n",
    "cout << *iter << endl;"
   ]
  },
  {
   "cell_type": "markdown",
   "metadata": {},
   "source": [
    "<a id=\"operations\"></a>\n",
    "## operations\n",
    "- same operations as in forward_list\n",
    "- merge : merges two sorted lists\n",
    "- remove, remove_if : removes elements satisfying specific criteria\n",
    "- reverse : reverses the order of the elements\n",
    "- unique : removes consecutive duplicate elements\n",
    "- sort : sorts the elements"
   ]
  },
  {
   "cell_type": "code",
   "execution_count": 29,
   "metadata": {},
   "outputs": [],
   "source": [
    "list<int> list1 = {5, 9, 100, 15, 75};\n",
    "list<int> list2 = {30, 11, 11, 7, 75};"
   ]
  },
  {
   "cell_type": "code",
   "execution_count": 30,
   "metadata": {},
   "outputs": [
    {
     "name": "stdout",
     "output_type": "stream",
     "text": [
      "[5, 9, 15, 75, 100]\n",
      "[7, 11, 11, 30, 75]\n"
     ]
    }
   ],
   "source": [
    "list1.sort();\n",
    "list2.sort();\n",
    "cout << list1 << endl;\n",
    "cout << list2 << endl;"
   ]
  },
  {
   "cell_type": "code",
   "execution_count": 31,
   "metadata": {},
   "outputs": [
    {
     "name": "stdout",
     "output_type": "stream",
     "text": [
      "[5, 7, 9, 11, 11, 15, 30, 75, 75, 100]\n"
     ]
    }
   ],
   "source": [
    "list1.merge(list2);\n",
    "cout << list1 << endl;"
   ]
  },
  {
   "cell_type": "code",
   "execution_count": 32,
   "metadata": {},
   "outputs": [
    {
     "name": "stdout",
     "output_type": "stream",
     "text": [
      "[100, 75, 75, 30, 15, 11, 11, 9, 7, 5]\n"
     ]
    }
   ],
   "source": [
    "list1.reverse();\n",
    "cout << list1 << endl;"
   ]
  },
  {
   "cell_type": "code",
   "execution_count": 33,
   "metadata": {},
   "outputs": [],
   "source": [
    "list<int> list3 = {90, 11, 0, 7, 75};"
   ]
  },
  {
   "cell_type": "code",
   "execution_count": 34,
   "metadata": {},
   "outputs": [
    {
     "name": "stdout",
     "output_type": "stream",
     "text": [
      "[90, 75, 11, 7, 0]\n"
     ]
    }
   ],
   "source": [
    "// sort in descending order\n",
    "#include <functional> // for greater function\n",
    "list3.sort(greater<int>()); // use greater() function as the comparison function\n",
    "cout << list3 << endl;"
   ]
  },
  {
   "cell_type": "code",
   "execution_count": 35,
   "metadata": {},
   "outputs": [
    {
     "name": "stdout",
     "output_type": "stream",
     "text": [
      "[0, 7, 11, 75, 90]\n"
     ]
    }
   ],
   "source": [
    "list3.reverse();\n",
    "cout << list3 << endl;"
   ]
  },
  {
   "cell_type": "code",
   "execution_count": 36,
   "metadata": {},
   "outputs": [],
   "source": [
    "// use lambda function\n",
    "list3.sort([](int x, int y) { return x > y; });"
   ]
  },
  {
   "cell_type": "code",
   "execution_count": 37,
   "metadata": {},
   "outputs": [
    {
     "name": "stdout",
     "output_type": "stream",
     "text": [
      "[90, 75, 11, 7, 0]\n"
     ]
    }
   ],
   "source": [
    "cout << list3 << endl;"
   ]
  },
  {
   "cell_type": "code",
   "execution_count": 38,
   "metadata": {},
   "outputs": [
    {
     "name": "stdout",
     "output_type": "stream",
     "text": [
      "[90, 75, 11, 0]\n"
     ]
    }
   ],
   "source": [
    "list3.remove(7);\n",
    "cout << list3 << endl;"
   ]
  },
  {
   "cell_type": "code",
   "execution_count": 39,
   "metadata": {},
   "outputs": [
    {
     "name": "stdout",
     "output_type": "stream",
     "text": [
      "[11, 0]\n"
     ]
    }
   ],
   "source": [
    "// remove all elements greater than 11\n",
    "list3.remove_if([](int n){ return n>11; });\n",
    "cout << list3 << endl;"
   ]
  },
  {
   "cell_type": "code",
   "execution_count": 40,
   "metadata": {},
   "outputs": [],
   "source": [
    "// unique method\n",
    "list<int> x = {1, 2, 2, 3, 3, 2, 1, 1, 2, 3};"
   ]
  },
  {
   "cell_type": "code",
   "execution_count": 41,
   "metadata": {},
   "outputs": [
    {
     "name": "stdout",
     "output_type": "stream",
     "text": [
      "[1, 2, 3, 2, 1, 2, 3]\n"
     ]
    }
   ],
   "source": [
    "x.unique();\n",
    "cout << x << endl;"
   ]
  },
  {
   "cell_type": "code",
   "execution_count": null,
   "metadata": {},
   "outputs": [],
   "source": []
  }
 ],
 "metadata": {
  "kernelspec": {
   "display_name": "C++14",
   "language": "C++14",
   "name": "xeus-cling-cpp14"
  },
  "language_info": {
   "codemirror_mode": "text/x-c++src",
   "file_extension": ".cpp",
   "mimetype": "text/x-c++src",
   "name": "c++",
   "version": "-std=c++14"
  }
 },
 "nbformat": 4,
 "nbformat_minor": 2
}
