{
 "cells": [
  {
   "cell_type": "markdown",
   "metadata": {},
   "source": [
    "# STL Forward List\n",
    "https://en.cppreference.com/w/cpp/container/forward_list\n",
    "\n",
    "## Table of Contents\n",
    "- [forward_list](#flist)\n",
    "- [declare](#declare)\n",
    "- [access elements](#access)\n",
    "- [modifiers](#modifiers)\n",
    "- [comparisons](#comparisons)\n",
    "- [iterators](#iterators)\n",
    "- [operations](#operations)"
   ]
  },
  {
   "cell_type": "markdown",
   "metadata": {},
   "source": [
    "<a id=\"flist\"></a>\n",
    "## forward_list\n",
    "- sequence container that allows fast insertion and deletion of elements from anywhere in the container\n",
    "- fast randome access via indexing is not supported\n",
    "- implemented as singly-linked list\n",
    "- more space efficient compared to list when bidirectional iteration is not needed\n",
    "- the complexity (efficiency) of common operations on deques is as follows:\n",
    "    - random access - not supported\n",
    "    - insertion or removal of elements - constant `O(1)`"
   ]
  },
  {
   "cell_type": "markdown",
   "metadata": {},
   "source": [
    "<a id=\"declare\"></a>\n",
    "## declare forward_list\n",
    "- must include forward_list header and use namespace std;\n",
    "- a template class designed to store any data type"
   ]
  },
  {
   "cell_type": "code",
   "execution_count": 1,
   "metadata": {
    "code_folding": []
   },
   "outputs": [],
   "source": [
    "// include header files\n",
    "#include <iostream>\n",
    "#include <forward_list>\n",
    "#include <string>\n",
    "\n",
    "using namespace std;"
   ]
  },
  {
   "cell_type": "code",
   "execution_count": 2,
   "metadata": {
    "code_folding": []
   },
   "outputs": [],
   "source": [
    "// operator<< overloaded to print a forward_list container\n",
    "template<class T>\n",
    "ostream& operator<<(ostream& out, const forward_list<T>& v) {\n",
    "    char comma[3] = {'\\0', ' ', '\\0'};\n",
    "    out << '[';\n",
    "    for (auto& e: v) {\n",
    "        out << comma << e;\n",
    "        comma[0] = ',';\n",
    "    }\n",
    "    out << ']';\n",
    "    return out;\n",
    "}"
   ]
  },
  {
   "cell_type": "code",
   "execution_count": 3,
   "metadata": {
    "code_folding": []
   },
   "outputs": [],
   "source": [
    "// declare\n",
    "forward_list<string> names;\n",
    "forward_list<float> tests;\n",
    "forward_list<int> numbers;"
   ]
  },
  {
   "cell_type": "code",
   "execution_count": 4,
   "metadata": {
    "code_folding": []
   },
   "outputs": [],
   "source": [
    "// declare and initialize\n",
    "forward_list<string> words = {\"i\", \"love\", \"c++\", \"!\"};\n",
    "forward_list<float> prices = {1.99, 199, 2.99, 200.85, 45.71};\n",
    "forward_list<float> dupPrices = prices;"
   ]
  },
  {
   "cell_type": "code",
   "execution_count": 5,
   "metadata": {},
   "outputs": [
    {
     "name": "stdout",
     "output_type": "stream",
     "text": [
      "names contents: []\n",
      "words contents: [i, love, c++, deque]\n",
      "[1.99, 199, 2.99, 200.85, 45.71]\n"
     ]
    }
   ],
   "source": [
    "// print vector contents using cout operator<< overloaded function\n",
    "cout << \"names contents: \" << names << endl;\n",
    "cout << \"words contents: \"<< words << endl;\n",
    "cout << prices << endl;"
   ]
  },
  {
   "cell_type": "markdown",
   "metadata": {},
   "source": [
    "<a id=\"access\"></a>\n",
    "## access elements\n",
    "- front : access the first element"
   ]
  },
  {
   "cell_type": "code",
   "execution_count": 6,
   "metadata": {},
   "outputs": [
    {
     "name": "stdout",
     "output_type": "stream",
     "text": [
      "i\n",
      "1.99\n"
     ]
    }
   ],
   "source": [
    "cout << words.front() << endl;\n",
    "cout << prices.front() << endl;"
   ]
  },
  {
   "cell_type": "markdown",
   "metadata": {},
   "source": [
    "<a id=\"capacity\"></a>\n",
    "## capacity\n",
    "- empty : checks whethere the container is empty\n",
    "- max_size : returns the maximum possible number of elements"
   ]
  },
  {
   "cell_type": "code",
   "execution_count": 7,
   "metadata": {},
   "outputs": [
    {
     "name": "stdout",
     "output_type": "stream",
     "text": [
      "is names vector empty? false\n",
      "is prices vector empty? false\n",
      "max_size of prices: 1152921504606846975\n"
     ]
    }
   ],
   "source": [
    "cout << boolalpha; // convert boolean to text true/false\n",
    "cout << \"is names vector empty? \" << prices.empty() << endl;\n",
    "cout << \"is prices vector empty? \" << prices.empty() << endl;\n",
    "cout << \"max_size of prices: \" << prices.max_size() << endl;"
   ]
  },
  {
   "cell_type": "markdown",
   "metadata": {},
   "source": [
    "<a id=\"modifiers\"></a>\n",
    "## modifiers\n",
    "- clear : clears the contents\n",
    "- insert_after : inserts an element after an element\n",
    "- erase_after : erases an element after an element\n",
    "- push_front : inserts an element to the beginning\n",
    "- pop_front : removes the first element\n",
    "- swap : swaps the contents"
   ]
  },
  {
   "cell_type": "code",
   "execution_count": 3,
   "metadata": {},
   "outputs": [],
   "source": [
    "forward_list<int> age = {21, 34, 46, 48, 46};"
   ]
  },
  {
   "cell_type": "code",
   "execution_count": 4,
   "metadata": {},
   "outputs": [
    {
     "name": "stdout",
     "output_type": "stream",
     "text": [
      "[21, 34, 46, 48, 46]\n",
      "[]\n"
     ]
    }
   ],
   "source": [
    "cout << age << endl;\n",
    "age.clear();\n",
    "cout << age << endl;"
   ]
  },
  {
   "cell_type": "code",
   "execution_count": 5,
   "metadata": {},
   "outputs": [
    {
     "name": "stdout",
     "output_type": "stream",
     "text": [
      "[10]\n"
     ]
    }
   ],
   "source": [
    "// forward_list has before_begin iterator that points before the first element\n",
    "auto it = age.before_begin();\n",
    "age.insert_after(it, 10);\n",
    "cout << age << endl;"
   ]
  },
  {
   "cell_type": "code",
   "execution_count": 6,
   "metadata": {},
   "outputs": [
    {
     "name": "stdout",
     "output_type": "stream",
     "text": [
      "[10, 12]"
     ]
    }
   ],
   "source": [
    "it++;\n",
    "age.insert_after(it, 12);\n",
    "cout << age;"
   ]
  },
  {
   "cell_type": "code",
   "execution_count": 7,
   "metadata": {},
   "outputs": [
    {
     "name": "stdout",
     "output_type": "stream",
     "text": [
      "10[10]"
     ]
    }
   ],
   "source": [
    "cout << *it;\n",
    "age.erase_after(it);\n",
    "cout << age;"
   ]
  },
  {
   "cell_type": "code",
   "execution_count": 8,
   "metadata": {},
   "outputs": [
    {
     "name": "stdout",
     "output_type": "stream",
     "text": [
      "[10, 15]\n"
     ]
    }
   ],
   "source": [
    "age.insert_after(it, 15);\n",
    "cout << age << endl;"
   ]
  },
  {
   "cell_type": "code",
   "execution_count": 9,
   "metadata": {},
   "outputs": [
    {
     "name": "stdout",
     "output_type": "stream",
     "text": [
      "[10, 100, 100, 100, 15]\n"
     ]
    }
   ],
   "source": [
    "// parameters: pos, count, value\n",
    "age.insert_after(it, 3, 100); // insert 3 copies of 100\n",
    "cout << age << endl;"
   ]
  },
  {
   "cell_type": "code",
   "execution_count": 10,
   "metadata": {},
   "outputs": [
    {
     "name": "stdout",
     "output_type": "stream",
     "text": [
      "[10, 100, 100, 15]\n"
     ]
    }
   ],
   "source": [
    "age.erase_after(it);\n",
    "cout << age << endl;"
   ]
  },
  {
   "cell_type": "code",
   "execution_count": 11,
   "metadata": {},
   "outputs": [
    {
     "name": "stdout",
     "output_type": "stream",
     "text": [
      "[55, 50, 10, 100, 100, 15]"
     ]
    }
   ],
   "source": [
    "age.push_front(50);\n",
    "age.push_front(55);\n",
    "cout << age;"
   ]
  },
  {
   "cell_type": "code",
   "execution_count": 12,
   "metadata": {},
   "outputs": [
    {
     "name": "stdout",
     "output_type": "stream",
     "text": [
      "[50, 10, 100, 100, 15]\n"
     ]
    }
   ],
   "source": [
    "age.pop_front();\n",
    "cout << age << endl;"
   ]
  },
  {
   "cell_type": "code",
   "execution_count": 19,
   "metadata": {},
   "outputs": [
    {
     "name": "stdout",
     "output_type": "stream",
     "text": [
      "[100, 100, 15]\n"
     ]
    }
   ],
   "source": [
    "age.pop_front();\n",
    "cout << age << endl;"
   ]
  },
  {
   "cell_type": "code",
   "execution_count": 4,
   "metadata": {},
   "outputs": [],
   "source": [
    "forward_list<int> age1 = {1, 1, 1, 1, 1};"
   ]
  },
  {
   "cell_type": "code",
   "execution_count": 7,
   "metadata": {},
   "outputs": [
    {
     "name": "stdout",
     "output_type": "stream",
     "text": [
      "[1, 1, 1, 1, 1]\n",
      "[21, 34, 46, 48, 46]\n"
     ]
    }
   ],
   "source": [
    "cout << age << endl;\n",
    "cout << age1 << endl;"
   ]
  },
  {
   "cell_type": "code",
   "execution_count": 8,
   "metadata": {},
   "outputs": [
    {
     "name": "stdout",
     "output_type": "stream",
     "text": [
      "[21, 34, 46, 48, 46]\n",
      "[1, 1, 1, 1, 1]\n"
     ]
    }
   ],
   "source": [
    "// inorder to swap, number of elements between the containers have to be equal\n",
    "age1.swap(age);\n",
    "cout << age << endl;\n",
    "cout << age1 << endl;"
   ]
  },
  {
   "cell_type": "markdown",
   "metadata": {},
   "source": [
    "<a id=\"comparisons\"></a>\n",
    "## aggregate comparisons\n",
    "- comparison operators ==, !=, <, <=, and >= are overloaded\n",
    "- elements are compared lexicographically in the two vectors"
   ]
  },
  {
   "cell_type": "code",
   "execution_count": 9,
   "metadata": {},
   "outputs": [
    {
     "name": "stdout",
     "output_type": "stream",
     "text": [
      "age and age1 do not contain same element(s)\n"
     ]
    }
   ],
   "source": [
    "if (age == age1)\n",
    "    cout << \"age and age1 contains same elements compared lexicographically!\" << endl;\n",
    "else\n",
    "    cout << \"age and age1 do not contain same element(s)\" << endl;"
   ]
  },
  {
   "cell_type": "markdown",
   "metadata": {},
   "source": [
    "<a id=\"iterators\"></a>\n",
    "## iterators\n",
    "- before_begin - returns an iterator to the element before beginning\n",
    "- begin - returns iterator to the first element\n",
    "- end - returns iterator to the end (past the last element)\n",
    "<img src=\"./resources/range-begin-end.svg\" />"
   ]
  },
  {
   "cell_type": "code",
   "execution_count": 10,
   "metadata": {},
   "outputs": [],
   "source": [
    "forward_list<int> nums = {10, 15, 20, 30, 35};"
   ]
  },
  {
   "cell_type": "code",
   "execution_count": 11,
   "metadata": {},
   "outputs": [
    {
     "name": "stdout",
     "output_type": "stream",
     "text": [
      "10 15 20 30 35 \n"
     ]
    }
   ],
   "source": [
    "for(auto iterator = nums.begin(); iterator != nums.end(); iterator++)\n",
    "    cout << *iterator << \" \";\n",
    "cout << endl;"
   ]
  },
  {
   "cell_type": "code",
   "execution_count": 13,
   "metadata": {},
   "outputs": [],
   "source": [
    "using fli = forward_list<int>;"
   ]
  },
  {
   "cell_type": "code",
   "execution_count": 14,
   "metadata": {},
   "outputs": [
    {
     "name": "stdout",
     "output_type": "stream",
     "text": [
      "[1, 2, 3, 4, 5]\n"
     ]
    }
   ],
   "source": [
    "fli alist = {1, 2, 3, 4, 5};\n",
    "cout << alist << endl;"
   ]
  },
  {
   "cell_type": "code",
   "execution_count": 16,
   "metadata": {},
   "outputs": [
    {
     "name": "stdout",
     "output_type": "stream",
     "text": [
      "1\n"
     ]
    }
   ],
   "source": [
    "// move iterators using next function\n",
    "auto iter = alist.begin();\n",
    "cout << *iter << endl;"
   ]
  },
  {
   "cell_type": "code",
   "execution_count": 19,
   "metadata": {},
   "outputs": [
    {
     "name": "stdout",
     "output_type": "stream",
     "text": [
      "2\n"
     ]
    }
   ],
   "source": [
    "iter = next(iter);\n",
    "cout << *iter << endl;"
   ]
  },
  {
   "cell_type": "code",
   "execution_count": 20,
   "metadata": {},
   "outputs": [
    {
     "name": "stdout",
     "output_type": "stream",
     "text": [
      "5\n"
     ]
    }
   ],
   "source": [
    "iter = next(iter, 3);\n",
    "cout << *iter << endl;"
   ]
  },
  {
   "cell_type": "markdown",
   "metadata": {},
   "source": [
    "<a id=\"operations\"></a>\n",
    "## operations\n",
    "- merge : merges two sorted lists\n",
    "- remove, remove_if : removes elements satisfying specific criteria\n",
    "- reverse : reverses the order of the elements\n",
    "- unique : removes consecutive duplicate elements\n",
    "- sort : sorts the elements"
   ]
  },
  {
   "cell_type": "code",
   "execution_count": 21,
   "metadata": {},
   "outputs": [],
   "source": [
    "forward_list<int> list1 = {5, 9, 100, 15, 75};\n",
    "forward_list<int> list2 = {30, 11, 11, 7, 75};"
   ]
  },
  {
   "cell_type": "code",
   "execution_count": 22,
   "metadata": {},
   "outputs": [
    {
     "name": "stdout",
     "output_type": "stream",
     "text": [
      "[5, 9, 15, 75, 100]\n",
      "[7, 11, 11, 30, 75]\n"
     ]
    }
   ],
   "source": [
    "list1.sort();\n",
    "list2.sort();\n",
    "cout << list1 << endl;\n",
    "cout << list2 << endl;"
   ]
  },
  {
   "cell_type": "code",
   "execution_count": 23,
   "metadata": {},
   "outputs": [
    {
     "name": "stdout",
     "output_type": "stream",
     "text": [
      "[5, 7, 9, 11, 11, 15, 30, 75, 75, 100]\n"
     ]
    }
   ],
   "source": [
    "list1.merge(list2);\n",
    "cout << list1 << endl;"
   ]
  },
  {
   "cell_type": "code",
   "execution_count": 24,
   "metadata": {},
   "outputs": [
    {
     "name": "stdout",
     "output_type": "stream",
     "text": [
      "[100, 75, 75, 30, 15, 11, 11, 9, 7, 5]\n"
     ]
    }
   ],
   "source": [
    "list1.reverse();\n",
    "cout << list1 << endl;"
   ]
  },
  {
   "cell_type": "code",
   "execution_count": 25,
   "metadata": {},
   "outputs": [],
   "source": [
    "forward_list<int> list3 = {90, 11, 0, 7, 75};"
   ]
  },
  {
   "cell_type": "code",
   "execution_count": 27,
   "metadata": {},
   "outputs": [
    {
     "name": "stdout",
     "output_type": "stream",
     "text": [
      "[90, 75, 11, 7, 0]\n"
     ]
    }
   ],
   "source": [
    "// sort in descending order\n",
    "#include <functional> // for greater function\n",
    "list3.sort(greater<int>()); // use greater() function as the comparison function\n",
    "cout << list3 << endl;"
   ]
  },
  {
   "cell_type": "code",
   "execution_count": 31,
   "metadata": {},
   "outputs": [
    {
     "name": "stdout",
     "output_type": "stream",
     "text": [
      "[0, 7, 11, 75, 90]\n"
     ]
    }
   ],
   "source": [
    "list3.reverse();\n",
    "cout << list3 << endl;"
   ]
  },
  {
   "cell_type": "code",
   "execution_count": 32,
   "metadata": {},
   "outputs": [],
   "source": [
    "// use lambda function\n",
    "list3.sort([](int x, int y) { return x > y; });"
   ]
  },
  {
   "cell_type": "code",
   "execution_count": 33,
   "metadata": {},
   "outputs": [
    {
     "name": "stdout",
     "output_type": "stream",
     "text": [
      "[90, 75, 11, 7, 0]\n"
     ]
    }
   ],
   "source": [
    "cout << list3 << endl;"
   ]
  },
  {
   "cell_type": "code",
   "execution_count": 34,
   "metadata": {},
   "outputs": [
    {
     "name": "stdout",
     "output_type": "stream",
     "text": [
      "[90, 75, 11, 0]\n"
     ]
    }
   ],
   "source": [
    "list3.remove(7);\n",
    "cout << list3 << endl;"
   ]
  },
  {
   "cell_type": "code",
   "execution_count": 36,
   "metadata": {},
   "outputs": [
    {
     "name": "stdout",
     "output_type": "stream",
     "text": [
      "[11, 0]\n"
     ]
    }
   ],
   "source": [
    "// remove all elements greater than 11\n",
    "list3.remove_if([](int n){ return n>11; });\n",
    "cout << list3 << endl;"
   ]
  },
  {
   "cell_type": "code",
   "execution_count": 37,
   "metadata": {},
   "outputs": [],
   "source": [
    "// unique method\n",
    "forward_list<int> x = {1, 2, 2, 3, 3, 2, 1, 1, 2, 3};"
   ]
  },
  {
   "cell_type": "code",
   "execution_count": 38,
   "metadata": {},
   "outputs": [
    {
     "name": "stdout",
     "output_type": "stream",
     "text": [
      "[1, 2, 3, 2, 1, 2, 3]\n"
     ]
    }
   ],
   "source": [
    "x.unique();\n",
    "cout << x << endl;"
   ]
  },
  {
   "cell_type": "code",
   "execution_count": null,
   "metadata": {},
   "outputs": [],
   "source": []
  }
 ],
 "metadata": {
  "kernelspec": {
   "display_name": "C++14",
   "language": "C++14",
   "name": "xeus-cling-cpp14"
  },
  "language_info": {
   "codemirror_mode": "text/x-c++src",
   "file_extension": ".cpp",
   "mimetype": "text/x-c++src",
   "name": "c++",
   "version": "-std=c++14"
  }
 },
 "nbformat": 4,
 "nbformat_minor": 2
}
