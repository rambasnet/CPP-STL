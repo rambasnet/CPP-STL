{
 "cells": [
  {
   "cell_type": "markdown",
   "metadata": {},
   "source": [
    "# Queue\n",
    "https://en.cppreference.com/w/cpp/container/queue\n",
    "\n",
    "## Table of Contents\n",
    "- [Queue definition](#queue)\n",
    "- [Declare](#declare)\n",
    "- [Modifiers](#modifiers)\n",
    "- [Access elements](#access)\n",
    "- [Comparisons](#comparisons)\n",
    "- [Iterators](#iterators)\n",
    "- [Lookup operations](#operations)"
   ]
  },
  {
   "cell_type": "markdown",
   "metadata": {},
   "source": [
    "<a id=\"queue\"></a>\n",
    "## Queue\n",
    "- container adapter that works like a real-world queue esp. a FIFO (a first-in, first-out, or last-in, last-out (LILO)) data structure\n",
    "- a wrapper/adapter for underlying container (forward_list, vector, or array)\n",
    "- the queue pushes elements on the back of the underlying container and pops them from the front"
   ]
  },
  {
   "cell_type": "markdown",
   "metadata": {},
   "source": [
    "<a id=\"declare\"></a>\n",
    "## Declare queue\n",
    "- must include header file queue and use namespace std;\n",
    "- a template class designed to store any data types that can be comapred"
   ]
  },
  {
   "cell_type": "code",
   "execution_count": 1,
   "metadata": {
    "code_folding": []
   },
   "outputs": [],
   "source": [
    "// include header files\n",
    "#include <iostream>\n",
    "#include <string>\n",
    "#include <queue>\n",
    "\n",
    "using namespace std;"
   ]
  },
  {
   "cell_type": "code",
   "execution_count": 2,
   "metadata": {
    "code_folding": []
   },
   "outputs": [],
   "source": [
    "// operator<< overloaded to print a queue container\n",
    "template<class T>\n",
    "ostream& operator<<(ostream& out, queue<T>& q) {\n",
    "    char comma[3] = {'\\0', ' ', '\\0'};\n",
    "    out << '[';\n",
    "    while (!q.empty()) {\n",
    "        out << comma << q.front();\n",
    "        q.pop();\n",
    "        comma[0] = ',';\n",
    "    }\n",
    "    out << ']';\n",
    "    return out;\n",
    "}"
   ]
  },
  {
   "cell_type": "code",
   "execution_count": 3,
   "metadata": {
    "code_folding": []
   },
   "outputs": [],
   "source": [
    "// declare queues\n",
    "queue<string> customers; // bank customers\n",
    "queue<int> passengers; // airline"
   ]
  },
  {
   "cell_type": "markdown",
   "metadata": {},
   "source": [
    "<a id=\"modifiers\"></a>\n",
    "## modifiers\n",
    "- **push** : inserts element at the top/end\n",
    "- **pop** : removes the next/first element\n",
    "- **swap** : swaps the contents"
   ]
  },
  {
   "cell_type": "code",
   "execution_count": 4,
   "metadata": {},
   "outputs": [],
   "source": [
    "customers.push(\"John\");\n",
    "customers.push(\"Jake\");\n",
    "customers.push(\"Emily\");\n",
    "customers.push(\"Rosa\");"
   ]
  },
  {
   "cell_type": "code",
   "execution_count": 5,
   "metadata": {},
   "outputs": [
    {
     "name": "stdout",
     "output_type": "stream",
     "text": [
      "[John, Jake, Emily, Rosa]\n"
     ]
    },
    {
     "data": {
      "text/plain": [
       "@0x10b7a9010"
      ]
     },
     "execution_count": 5,
     "metadata": {},
     "output_type": "execute_result"
    }
   ],
   "source": [
    "cout << customers << endl; // queues will be empty now!"
   ]
  },
  {
   "cell_type": "code",
   "execution_count": 6,
   "metadata": {},
   "outputs": [
    {
     "name": "stdout",
     "output_type": "stream",
     "text": [
      "[]\n"
     ]
    }
   ],
   "source": [
    "cout << customers << endl;"
   ]
  },
  {
   "cell_type": "code",
   "execution_count": 7,
   "metadata": {},
   "outputs": [],
   "source": [
    "customers.push(\"John\");\n",
    "customers.push(\"Jake\");\n",
    "customers.push(\"Emily\");\n",
    "customers.push(\"Rosa\");"
   ]
  },
  {
   "cell_type": "code",
   "execution_count": 8,
   "metadata": {},
   "outputs": [
    {
     "name": "stdout",
     "output_type": "stream",
     "text": [
      "front cust: John\n",
      "front cust: Jake\n"
     ]
    }
   ],
   "source": [
    "cout << \"front cust: \" << customers.front() << endl;\n",
    "customers.pop();\n",
    "cout << \"front cust: \" << customers.front() << endl;"
   ]
  },
  {
   "cell_type": "markdown",
   "metadata": {},
   "source": [
    "<a id=\"access\"></a>\n",
    "## access elements\n",
    "- **front** : access the first element\n",
    "- **back** : access the last element"
   ]
  },
  {
   "cell_type": "code",
   "execution_count": 9,
   "metadata": {},
   "outputs": [
    {
     "name": "stdout",
     "output_type": "stream",
     "text": [
      "front: Jake\n",
      "back: Rosa\n"
     ]
    }
   ],
   "source": [
    "// access elements\n",
    "cout << \"front: \" << customers.front() << endl;\n",
    "cout << \"back: \" << customers.back() << endl;"
   ]
  },
  {
   "cell_type": "markdown",
   "metadata": {},
   "source": [
    "<a id=\"capacity\"></a>\n",
    "## capacity\n",
    "- **empty** : checks whethere the container is empty\n",
    "- **size** : returns the number of elements"
   ]
  },
  {
   "cell_type": "code",
   "execution_count": 10,
   "metadata": {},
   "outputs": [
    {
     "name": "stdout",
     "output_type": "stream",
     "text": [
      "is customers q empty? false\n",
      "is passengers q empty? true\n"
     ]
    }
   ],
   "source": [
    "cout << boolalpha; // convert boolean to text true/false\n",
    "cout << \"is customers q empty? \" << customers.empty() << endl;\n",
    "cout << \"is passengers q empty? \" << passengers.empty() << endl;"
   ]
  },
  {
   "cell_type": "markdown",
   "metadata": {},
   "source": [
    "<a id=\"comparisons\"></a>\n",
    "## Aggregate comparisons\n",
    "- comparison operators ==, !=, <, >, <=, and >= are overloaded\n",
    "- elements are compared lexicographically"
   ]
  },
  {
   "cell_type": "markdown",
   "metadata": {},
   "source": [
    "<a id=\"iterators\"></a>\n",
    "## Iterators\n",
    "- no iterators"
   ]
  },
  {
   "cell_type": "markdown",
   "metadata": {},
   "source": [
    "<a id=\"operations\"></a>\n",
    "## Lookup operations\n",
    "- no look up operations\n",
    "- can't search through the queue without poping or deleting or copying elements to another queue"
   ]
  },
  {
   "cell_type": "code",
   "execution_count": null,
   "metadata": {},
   "outputs": [],
   "source": []
  }
 ],
 "metadata": {
  "kernelspec": {
   "display_name": "C++14",
   "language": "C++14",
   "name": "xeus-cling-cpp14"
  },
  "language_info": {
   "codemirror_mode": "text/x-c++src",
   "file_extension": ".cpp",
   "mimetype": "text/x-c++src",
   "name": "c++",
   "version": "-std=c++14"
  }
 },
 "nbformat": 4,
 "nbformat_minor": 2
}
