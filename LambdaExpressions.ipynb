{
 "cells": [
  {
   "cell_type": "markdown",
   "metadata": {},
   "source": [
    "## Lambda Expressions\n",
    "https://en.cppreference.com/w/cpp/language/lambda\n",
    "\n",
    "- lambda is an unnamed (anonymous) function object capable of capturing variables in scope\n",
    "- syntaxes:\n",
    "\n",
    "```c++\n",
    "1. [captures](params) -> type {body}\n",
    "2. [captures](params) {body}\n",
    "3. [captures]{body}\n",
    "```\n",
    "\n",
    "- **captures** : a comma-separated list of zero or more captures (two types)\n",
    "    - & : capture the automatic variables by reference\n",
    "    - = : capture the automatic variables by value\n",
    "    - not a focus of the notebook\n",
    "- **params** : list of parameters, as in named functions\n",
    "- **type** : return type. If not present it's implied by the function return statements \n",
    "- **body** : function body\n",
    "- notebook uses 2nd syntax mostly"
   ]
  },
  {
   "cell_type": "code",
   "execution_count": 1,
   "metadata": {},
   "outputs": [],
   "source": [
    "#include <iostream>\n",
    "#include <vector>\n",
    "\n",
    "using namespace std;"
   ]
  },
  {
   "cell_type": "code",
   "execution_count": 2,
   "metadata": {},
   "outputs": [
    {
     "name": "stdout",
     "output_type": "stream",
     "text": [
      "105"
     ]
    }
   ],
   "source": [
    "// declare lambda function and assign to func1 function object\n",
    "// NOTE: In notebook, must call the lambda function object at least once after declaration \n",
    "// inside the same cell; otherwise it seems to crash the kernel\n",
    "auto func1 = [](int i) { return i+5; };\n",
    "cout << func1(100);"
   ]
  },
  {
   "cell_type": "code",
   "execution_count": 3,
   "metadata": {},
   "outputs": [
    {
     "name": "stdout",
     "output_type": "stream",
     "text": [
      "15\n",
      "6\n",
      "7\n"
     ]
    }
   ],
   "source": [
    "// call func1 just like regular functions\n",
    "cout << func1(10) << endl;\n",
    "cout << func1(1) << endl;\n",
    "cout << func1(2) << endl;"
   ]
  },
  {
   "cell_type": "code",
   "execution_count": 4,
   "metadata": {},
   "outputs": [
    {
     "name": "stdout",
     "output_type": "stream",
     "text": [
      "125\n"
     ]
    }
   ],
   "source": [
    "auto func2 = [](int a, float b) { return a*b; };\n",
    "cout << func2(10, 12.5) << endl;"
   ]
  },
  {
   "cell_type": "code",
   "execution_count": 5,
   "metadata": {},
   "outputs": [
    {
     "name": "stdout",
     "output_type": "stream",
     "text": [
      "5\n"
     ]
    }
   ],
   "source": [
    "cout << func2(2, 2.5) << endl;"
   ]
  },
  {
   "cell_type": "code",
   "execution_count": 6,
   "metadata": {},
   "outputs": [
    {
     "name": "stdout",
     "output_type": "stream",
     "text": [
      "100\n"
     ]
    }
   ],
   "source": [
    "auto func3 = [](int n = 10) { return n*10; }; // provide default value of 10 for n\n",
    "cout << func3() << endl;"
   ]
  },
  {
   "cell_type": "code",
   "execution_count": 7,
   "metadata": {},
   "outputs": [
    {
     "name": "stdout",
     "output_type": "stream",
     "text": [
      "20\n"
     ]
    }
   ],
   "source": [
    "cout << func3(2) << endl;"
   ]
  },
  {
   "cell_type": "markdown",
   "metadata": {},
   "source": [
    "## usage\n",
    "- used in higher order functions that take function as argument"
   ]
  },
  {
   "cell_type": "code",
   "execution_count": 8,
   "metadata": {},
   "outputs": [],
   "source": [
    "vector<int> v = {1, 2, 3, 4, 5, 6, 7};"
   ]
  },
  {
   "cell_type": "code",
   "execution_count": 9,
   "metadata": {},
   "outputs": [
    {
     "name": "stdout",
     "output_type": "stream",
     "text": [
      "1 2 3 4 "
     ]
    }
   ],
   "source": [
    "int x = 5;\n",
    "for_each(v.begin(), v.end(), [x](int i){ if (i < x) cout << i << ' '; });"
   ]
  },
  {
   "cell_type": "code",
   "execution_count": 10,
   "metadata": {},
   "outputs": [],
   "source": [
    "vector<int> v1 = {1, 2, 3, 4, 5, 6, 7, 8, 9, 10};"
   ]
  },
  {
   "cell_type": "code",
   "execution_count": 11,
   "metadata": {},
   "outputs": [
    {
     "name": "stdout",
     "output_type": "stream",
     "text": [
      "2 4 6 8 10 "
     ]
    }
   ],
   "source": [
    "for_each(v1.begin(), v1.end(), [](int i) { if (i%2 == 0) cout << i << ' '; });"
   ]
  },
  {
   "cell_type": "code",
   "execution_count": null,
   "metadata": {},
   "outputs": [],
   "source": []
  }
 ],
 "metadata": {
  "kernelspec": {
   "display_name": "C++14",
   "language": "C++14",
   "name": "xcpp14"
  },
  "language_info": {
   "codemirror_mode": "text/x-c++src",
   "file_extension": ".cpp",
   "mimetype": "text/x-c++src",
   "name": "c++",
   "version": "14"
  }
 },
 "nbformat": 4,
 "nbformat_minor": 2
}
