{
 "cells": [
  {
   "cell_type": "markdown",
   "metadata": {},
   "source": [
    "# Unordered Map\n",
    "https://en.cppreference.com/w/cpp/container/unordered_map\n",
    "\n",
    "## Table of Contents\n",
    "- [Unordered map definition](#map)\n",
    "- [Declare](#declare)\n",
    "- [Access elements](#access)\n",
    "- [Modifiers](#modifiers)\n",
    "- [Comparisons](#comparisons)\n",
    "- [Iterators](#iterators)\n",
    "- [Lookup operations](#operations)"
   ]
  },
  {
   "cell_type": "markdown",
   "metadata": {},
   "source": [
    "<a id=\"map\"></a>\n",
    "## Unordered map\n",
    "- associative container that contains key-value pairs with unique keys\n",
    "- internally, the elements are not sorted in any particular oder, but organized into buckets\n",
    "    - which bucket an element is placed into depends entirely on the hash of its key\n",
    "- the complexity (efficiency) of common operations such as search, removal, and insertion operations is constant $O(1)$"
   ]
  },
  {
   "cell_type": "markdown",
   "metadata": {},
   "source": [
    "<a id=\"declare\"></a>\n",
    "## declare unordered_map\n",
    "- must include header file unordered_map and use namespace std;\n",
    "- a template class designed to store any data types that can be comapred"
   ]
  },
  {
   "cell_type": "code",
   "execution_count": 1,
   "metadata": {
    "code_folding": []
   },
   "outputs": [],
   "source": [
    "// include header files\n",
    "#include <iostream>\n",
    "#include <string>\n",
    "#include <unordered_map>\n",
    "#include <utility> // make_pair function\n",
    "#include <vector>\n",
    "\n",
    "using namespace std;"
   ]
  },
  {
   "cell_type": "code",
   "execution_count": 2,
   "metadata": {
    "code_folding": []
   },
   "outputs": [],
   "source": [
    "// operator<< overloaded to print a unordered_map container\n",
    "template<class T1, class T2>\n",
    "ostream& operator<<(ostream& out, const unordered_map<T1, T2>& m) {\n",
    "    char comma[3] = {'\\0', ' ', '\\0'};\n",
    "    out << '{';\n",
    "    for (auto& e: m) {\n",
    "        out << comma << e.first << ':' << e.second;\n",
    "        comma[0] = ',';\n",
    "    }\n",
    "    out << '}';\n",
    "    return out;\n",
    "}"
   ]
  },
  {
   "cell_type": "code",
   "execution_count": 3,
   "metadata": {
    "code_folding": []
   },
   "outputs": [],
   "source": [
    "// declare unordered_map\n",
    "unordered_map<string, string> eng2Span;\n",
    "unordered_map<char, int> charToNum;\n",
    "unordered_map<int, char> numToChar;"
   ]
  },
  {
   "cell_type": "code",
   "execution_count": 4,
   "metadata": {
    "code_folding": []
   },
   "outputs": [],
   "source": [
    "// declare and initialize\n",
    "unordered_map<string, int> words = {\n",
    "        {\"i\", 10},\n",
    "        {\"love\", 20},\n",
    "        {\"C++\", 30},\n",
    "        {\"!\", 40},\n",
    "    };\n",
    "unordered_map<string, float> prices = {{\"apple\", 1.99}, {\"orange\", 1.99}, {\"banana\", 2.99}, {\"lobster\", 20.85}};\n",
    "unordered_map<string, float> dupPrices = prices;"
   ]
  },
  {
   "cell_type": "code",
   "execution_count": 5,
   "metadata": {},
   "outputs": [
    {
     "name": "stdout",
     "output_type": "stream",
     "text": [
      "words contents: {!:40, C++:30, love:20, i:10}\n",
      "prices contents: {lobster:20.85, banana:2.99, orange:1.99, apple:1.99}\n"
     ]
    }
   ],
   "source": [
    "// print contents using cout operator<< overloaded function\n",
    "cout << \"words contents: \" << words << endl;\n",
    "cout << \"prices contents: \" << prices << endl;"
   ]
  },
  {
   "cell_type": "markdown",
   "metadata": {},
   "source": [
    "<a id=\"access\"></a>\n",
    "## access elements\n",
    "- **at** : access specified element with bounds checking\n",
    "- **operator[]** : access or insert specified element based on key"
   ]
  },
  {
   "cell_type": "code",
   "execution_count": 6,
   "metadata": {},
   "outputs": [
    {
     "name": "stdout",
     "output_type": "stream",
     "text": [
      "love = 20\n",
      "apple = 1.99\n",
      "ball = "
     ]
    },
    {
     "ename": "Standard Exception",
     "evalue": "unordered_map::at: key not found",
     "output_type": "error",
     "traceback": [
      "Standard Exception: unordered_map::at: key not found"
     ]
    }
   ],
   "source": [
    "cout << \"love = \" << words.at(\"love\") << endl;\n",
    "cout << \"apple = \" << prices.at(\"apple\") << endl;\n",
    "cout << \"ball = \" << prices.at(\"ball\") << endl; // throws exception as ball doesn't exist"
   ]
  },
  {
   "cell_type": "code",
   "execution_count": 7,
   "metadata": {},
   "outputs": [
    {
     "name": "stdout",
     "output_type": "stream",
     "text": [
      "love = 20\n",
      "apple = 1.99\n",
      "ball = 0\n"
     ]
    },
    {
     "data": {
      "text/plain": [
       "@0x106d09ec0"
      ]
     },
     "execution_count": 7,
     "metadata": {},
     "output_type": "execute_result"
    }
   ],
   "source": [
    "// access elements\n",
    "cout << \"love = \" << words[\"love\"] << endl;\n",
    "cout << \"apple = \" << prices[\"apple\"] << endl;\n",
    "cout << \"ball = \" << prices[\"ball\"] << endl; // \"ball doesn't exist; returns 0\""
   ]
  },
  {
   "cell_type": "code",
   "execution_count": 8,
   "metadata": {},
   "outputs": [
    {
     "name": "stdout",
     "output_type": "stream",
     "text": [
      "{}\n"
     ]
    },
    {
     "data": {
      "text/plain": [
       "@0x106d09ec0"
      ]
     },
     "execution_count": 8,
     "metadata": {},
     "output_type": "execute_result"
    }
   ],
   "source": [
    "cout << eng2Span << endl; // should be empty map"
   ]
  },
  {
   "cell_type": "code",
   "execution_count": 9,
   "metadata": {},
   "outputs": [],
   "source": [
    "// add elements\n",
    "eng2Span[\"one\"] = \"uno\";\n",
    "eng2Span[\"two\"] = \"dos\";\n",
    "eng2Span[\"three\"] = \"tres\";\n",
    "eng2Span[\"four\"] = \"cinco\";"
   ]
  },
  {
   "cell_type": "code",
   "execution_count": 10,
   "metadata": {},
   "outputs": [
    {
     "data": {
      "text/plain": [
       "{ \"four\" => \"cinco\", \"three\" => \"tres\", \"two\" => \"dos\", \"one\" => \"uno\" }"
      ]
     },
     "execution_count": 10,
     "metadata": {},
     "output_type": "execute_result"
    }
   ],
   "source": [
    "eng2Span"
   ]
  },
  {
   "cell_type": "code",
   "execution_count": 11,
   "metadata": {},
   "outputs": [],
   "source": [
    "// update existing values based on keys\n",
    "eng2Span[\"one\"] = \"Uno\";\n",
    "eng2Span[\"four\"] = \"Cinco\";"
   ]
  },
  {
   "cell_type": "code",
   "execution_count": 12,
   "metadata": {},
   "outputs": [
    {
     "data": {
      "text/plain": [
       "{ \"four\" => \"Cinco\", \"three\" => \"tres\", \"two\" => \"dos\", \"one\" => \"Uno\" }"
      ]
     },
     "execution_count": 12,
     "metadata": {},
     "output_type": "execute_result"
    }
   ],
   "source": [
    "eng2Span"
   ]
  },
  {
   "cell_type": "markdown",
   "metadata": {},
   "source": [
    "<a id=\"capacity\"></a>\n",
    "## capacity\n",
    "- **empty** : checks whethere the container is empty\n",
    "- **size** : returns the number of elements\n",
    "- **max_size** : returns the maximum possible number of elements"
   ]
  },
  {
   "cell_type": "code",
   "execution_count": 13,
   "metadata": {},
   "outputs": [
    {
     "name": "stdout",
     "output_type": "stream",
     "text": [
      "is eng2Span empty? false\n",
      "is prices map empty? false\n",
      "size of prices: 5\n",
      "max_size of prices: 384307168202282325\n"
     ]
    }
   ],
   "source": [
    "cout << boolalpha; // convert boolean to text true/false\n",
    "cout << \"is eng2Span empty? \" << eng2Span.empty() << endl;\n",
    "cout << \"is prices map empty? \" << prices.empty() << endl;\n",
    "cout << \"size of prices: \" << prices.size() << endl;\n",
    "cout << \"max_size of prices: \" << prices.max_size() << endl;"
   ]
  },
  {
   "cell_type": "markdown",
   "metadata": {},
   "source": [
    "<a id=\"modifiers\"></a>\n",
    "## modifiers\n",
    "- **clear** : clears the contents\n",
    "- **insert** : inserts elements into the container, if the container doesn't already contain an element with an quivalent key\n",
    "- **erase** : erases elements at the specified location or key\n",
    "- **swap** : swaps the contents"
   ]
  },
  {
   "cell_type": "code",
   "execution_count": 14,
   "metadata": {},
   "outputs": [],
   "source": [
    "unordered_map<string, int> age = {{\"John\", 21}, {\"Maya\", 74}, {\"Jenny\", 46}, {\"Jordan\", 48}, {\"Mike\", 46}};"
   ]
  },
  {
   "cell_type": "code",
   "execution_count": 15,
   "metadata": {},
   "outputs": [
    {
     "name": "stdout",
     "output_type": "stream",
     "text": [
      "{Mike:46, Jenny:46, Jordan:48, Maya:74, John:21}\n",
      "{}\n"
     ]
    }
   ],
   "source": [
    "cout << age << endl;\n",
    "age.clear();\n",
    "cout << age << endl;"
   ]
  },
  {
   "cell_type": "code",
   "execution_count": 16,
   "metadata": {},
   "outputs": [
    {
     "name": "stdout",
     "output_type": "stream",
     "text": [
      "{Jake:25}\n"
     ]
    }
   ],
   "source": [
    "// make pair of (string, int) values and insert as (key, val) pair to map\n",
    "age.insert(make_pair(\"Jake\", 25));\n",
    "cout << age << endl;"
   ]
  },
  {
   "cell_type": "code",
   "execution_count": 17,
   "metadata": {},
   "outputs": [
    {
     "name": "stdout",
     "output_type": "stream",
     "text": [
      "{Jordan:22, Jake:25}"
     ]
    }
   ],
   "source": [
    "age.insert(make_pair(\"Jordan\", 22));\n",
    "cout << age;"
   ]
  },
  {
   "cell_type": "code",
   "execution_count": 18,
   "metadata": {},
   "outputs": [
    {
     "name": "stdout",
     "output_type": "stream",
     "text": [
      "Jordan -> 22\n",
      "age = {Jake:25}"
     ]
    }
   ],
   "source": [
    "auto it = age.begin();\n",
    "// it points to a pair -> first:key and second:value\n",
    "cout << it->first << \" -> \" << it->second << endl;\n",
    "age.erase(it);\n",
    "cout << \"age = \" << age;"
   ]
  },
  {
   "cell_type": "code",
   "execution_count": 19,
   "metadata": {},
   "outputs": [
    {
     "name": "stdout",
     "output_type": "stream",
     "text": [
      "{Sally:25, Jake:25}\n"
     ]
    }
   ],
   "source": [
    "age.insert(make_pair(\"Sally\", 25));\n",
    "cout << age << endl;"
   ]
  },
  {
   "cell_type": "code",
   "execution_count": 20,
   "metadata": {},
   "outputs": [
    {
     "name": "stdout",
     "output_type": "stream",
     "text": [
      "{Bill:100, Sally:25, Jake:25}\n"
     ]
    }
   ],
   "source": [
    "age.insert(make_pair(\"Bill\", 100));\n",
    "cout << age << endl;"
   ]
  },
  {
   "cell_type": "code",
   "execution_count": 21,
   "metadata": {},
   "outputs": [
    {
     "name": "stdout",
     "output_type": "stream",
     "text": [
      "{Nancy:55, Macy:50, Bill:100, Sally:25, Jake:25}"
     ]
    }
   ],
   "source": [
    "age.insert(make_pair(\"Macy\", 50));\n",
    "age.insert(make_pair(\"Nancy\", 55));\n",
    "age.insert(make_pair(\"Nancy\", 25)); // this one will be ignored\n",
    "cout << age;"
   ]
  },
  {
   "cell_type": "code",
   "execution_count": 22,
   "metadata": {},
   "outputs": [],
   "source": [
    "unordered_map<string, int> age1 = {{\"kid1\", 1}, {\"kid2\", 2}, {\"kid3\", 3}, {\"kid4\", 4}, {\"kid5\", 5}};"
   ]
  },
  {
   "cell_type": "code",
   "execution_count": 23,
   "metadata": {},
   "outputs": [
    {
     "name": "stdout",
     "output_type": "stream",
     "text": [
      "{Nancy:55, Macy:50, Bill:100, Sally:25, Jake:25}\n",
      "{kid5:5, kid4:4, kid3:3, kid2:2, kid1:1}\n"
     ]
    }
   ],
   "source": [
    "cout << age << endl;\n",
    "cout << age1 << endl;"
   ]
  },
  {
   "cell_type": "code",
   "execution_count": 24,
   "metadata": {},
   "outputs": [
    {
     "name": "stdout",
     "output_type": "stream",
     "text": [
      "{kid5:5, kid4:4, kid3:3, kid2:2, kid1:1}\n",
      "{Nancy:55, Macy:50, Bill:100, Sally:25, Jake:25}\n"
     ]
    }
   ],
   "source": [
    "// inorder to swap, number of elements between the containers do not have to be equal\n",
    "age1.swap(age);\n",
    "cout << age << endl;\n",
    "cout << age1 << endl;"
   ]
  },
  {
   "cell_type": "markdown",
   "metadata": {},
   "source": [
    "<a id=\"comparisons\"></a>\n",
    "## aggregate comparisons\n",
    "- comparison operators ==, !=, <, >, <=, and >= are overloaded\n",
    "- elements are compared lexicographically"
   ]
  },
  {
   "cell_type": "code",
   "execution_count": 25,
   "metadata": {},
   "outputs": [
    {
     "name": "stdout",
     "output_type": "stream",
     "text": [
      "two maps are NOT equal\n"
     ]
    }
   ],
   "source": [
    "if (age == age1) {\n",
    "    cout << \"two maps are equal!\" << endl;\n",
    "}\n",
    "else\n",
    "    cout << \"two maps are NOT equal\" << endl;"
   ]
  },
  {
   "cell_type": "markdown",
   "metadata": {},
   "source": [
    "<a id=\"iterators\"></a>\n",
    "## iterators\n",
    "- **begin** - returns an iterator to the beginning (first element)\n",
    "- **end** - returns an iterator to the end (past the last element)\n",
    "<img src=\"./resources/range-begin-end.svg\" />"
   ]
  },
  {
   "cell_type": "code",
   "execution_count": 26,
   "metadata": {},
   "outputs": [],
   "source": [
    "unordered_map<int, string> amap = {{10, \"val1\"}, {15, \"val2\"}, {20, \"val3\"}, {30, \"val4\"}, {35, \"val5\"}};"
   ]
  },
  {
   "cell_type": "code",
   "execution_count": 27,
   "metadata": {},
   "outputs": [
    {
     "name": "stdout",
     "output_type": "stream",
     "text": [
      "35 => val5\n",
      "30 => val4\n",
      "20 => val3\n",
      "15 => val2\n",
      "10 => val1\n"
     ]
    }
   ],
   "source": [
    "for(auto iterator = amap.begin(); iterator != amap.end(); iterator++)\n",
    "    cout << (*iterator).first << \" => \" << iterator->second << endl;"
   ]
  },
  {
   "cell_type": "code",
   "execution_count": 28,
   "metadata": {},
   "outputs": [],
   "source": [
    "// type alias\n",
    "using umii = unordered_map<int, int>;"
   ]
  },
  {
   "cell_type": "code",
   "execution_count": 29,
   "metadata": {},
   "outputs": [
    {
     "name": "stdout",
     "output_type": "stream",
     "text": [
      "{5:50, 4:40, 3:30, 2:20, 1:10}\n"
     ]
    }
   ],
   "source": [
    "umii map1 = {{1,10}, {2,20}, {3,30}, {4,40}, {5,50}};\n",
    "cout << map1 << endl;"
   ]
  },
  {
   "cell_type": "code",
   "execution_count": 30,
   "metadata": {},
   "outputs": [
    {
     "name": "stdout",
     "output_type": "stream",
     "text": [
      "5 => 50\n"
     ]
    }
   ],
   "source": [
    "// move iterators using next function\n",
    "auto iter = map1.begin();\n",
    "cout << iter->first << \" => \" << iter->second << endl;"
   ]
  },
  {
   "cell_type": "code",
   "execution_count": 31,
   "metadata": {},
   "outputs": [
    {
     "name": "stdout",
     "output_type": "stream",
     "text": [
      "4 => 40\n"
     ]
    }
   ],
   "source": [
    "iter = next(iter);\n",
    "cout << iter->first << \" => \" << iter->second << endl;"
   ]
  },
  {
   "cell_type": "code",
   "execution_count": 32,
   "metadata": {},
   "outputs": [
    {
     "name": "stdout",
     "output_type": "stream",
     "text": [
      "1 => 10\n"
     ]
    }
   ],
   "source": [
    "iter = next(iter, 3);\n",
    "cout << iter->first << \" => \" << iter->second << endl;"
   ]
  },
  {
   "cell_type": "markdown",
   "metadata": {},
   "source": [
    "<a id=\"operations\"></a>\n",
    "## lookup operations\n",
    "- **count** : returns the number of elements matching specific key (always 1 if exists, 0 otherwise)\n",
    "- **find** : finds elements with specific key, returns iterator"
   ]
  },
  {
   "cell_type": "code",
   "execution_count": 33,
   "metadata": {},
   "outputs": [],
   "source": [
    "unordered_map<char, int> mapci = {{'a', 5}, {'b', 9}, {'c', 100}, {'d', 15}, {'e', 75}};"
   ]
  },
  {
   "cell_type": "code",
   "execution_count": 34,
   "metadata": {},
   "outputs": [
    {
     "name": "stdout",
     "output_type": "stream",
     "text": [
      "{e:75, d:15, c:100, b:9, a:5}\n"
     ]
    }
   ],
   "source": [
    "cout << mapci << endl;"
   ]
  },
  {
   "cell_type": "code",
   "execution_count": 35,
   "metadata": {},
   "outputs": [
    {
     "name": "stdout",
     "output_type": "stream",
     "text": [
      "1\n",
      "0\n"
     ]
    }
   ],
   "source": [
    "cout << mapci.count('a') << endl;\n",
    "cout << mapci.count('z') << endl;"
   ]
  },
  {
   "cell_type": "code",
   "execution_count": 36,
   "metadata": {},
   "outputs": [
    {
     "name": "stdout",
     "output_type": "stream",
     "text": [
      "Found!"
     ]
    }
   ],
   "source": [
    "if (mapci.count('a') == 1)\n",
    "    cout << \"Found!\";\n",
    "else\n",
    "    cout << \"Not found!\";"
   ]
  },
  {
   "cell_type": "code",
   "execution_count": 37,
   "metadata": {},
   "outputs": [
    {
     "name": "stdout",
     "output_type": "stream",
     "text": [
      "found d => 15\n"
     ]
    }
   ],
   "source": [
    "// find method; returns iterator\n",
    "auto search = mapci.find('d');\n",
    "if (search != mapci.end())\n",
    "    cout << \"found \" << search->first << \" => \" << search->second << endl;\n",
    "else\n",
    "    cout << \"NOT found!\";"
   ]
  },
  {
   "cell_type": "markdown",
   "metadata": {},
   "source": [
    "### unordered map of int to vector examples"
   ]
  },
  {
   "cell_type": "code",
   "execution_count": 38,
   "metadata": {},
   "outputs": [],
   "source": [
    "// keep track of numbers in various languages\n",
    "unordered_map<int, vector<string> > numdict; // notice the space between > >"
   ]
  },
  {
   "cell_type": "code",
   "execution_count": 39,
   "metadata": {},
   "outputs": [],
   "source": [
    "vector<string> one = {\"One\", \"Uno\", \"Ek\"};"
   ]
  },
  {
   "cell_type": "code",
   "execution_count": 40,
   "metadata": {},
   "outputs": [],
   "source": [
    "// utility library has make_pair function\n",
    "// insert a pair of {int, vector} as one element\n",
    "numdict.insert(make_pair(1, one));"
   ]
  },
  {
   "cell_type": "code",
   "execution_count": 41,
   "metadata": {},
   "outputs": [],
   "source": [
    "numdict.insert(make_pair(2, vector<string>{\"Two\", \"Dos\", \"Dui\"}));"
   ]
  },
  {
   "cell_type": "code",
   "execution_count": 42,
   "metadata": {},
   "outputs": [],
   "source": [
    "numdict.insert(make_pair(3, vector<string>()));"
   ]
  },
  {
   "cell_type": "code",
   "execution_count": 43,
   "metadata": {},
   "outputs": [],
   "source": [
    "numdict[4] = vector<string>();"
   ]
  },
  {
   "cell_type": "code",
   "execution_count": 44,
   "metadata": {},
   "outputs": [],
   "source": [
    "numdict[3].push_back(\"Three\");"
   ]
  },
  {
   "cell_type": "code",
   "execution_count": 45,
   "metadata": {},
   "outputs": [],
   "source": [
    "numdict[3].push_back(\"Tin\");"
   ]
  },
  {
   "cell_type": "code",
   "execution_count": 46,
   "metadata": {},
   "outputs": [],
   "source": [
    "numdict[4].push_back(\"Quatro\");"
   ]
  },
  {
   "cell_type": "code",
   "execution_count": 47,
   "metadata": {},
   "outputs": [
    {
     "name": "stdout",
     "output_type": "stream",
     "text": [
      "4=>Quatro \n",
      "3=>Three Tin \n",
      "2=>Two Dos Dui \n",
      "1=>One Uno Ek \n"
     ]
    }
   ],
   "source": [
    "for(auto it=numdict.begin(); it != numdict.end(); it++) {\n",
    "    cout << it->first << \"=>\";\n",
    "    // loop through second element which is a vector of string\n",
    "    for(auto &v:it->second) {\n",
    "        cout << v << \" \";\n",
    "    }\n",
    "    cout << endl;\n",
    "}"
   ]
  },
  {
   "cell_type": "markdown",
   "metadata": {},
   "source": [
    "## unordered_map of int to map examples"
   ]
  },
  {
   "cell_type": "code",
   "execution_count": 48,
   "metadata": {},
   "outputs": [],
   "source": [
    "#include <map>"
   ]
  },
  {
   "cell_type": "code",
   "execution_count": 49,
   "metadata": {},
   "outputs": [],
   "source": [
    "// database of grocery inventory\n",
    "// maps ID -> {name -> [price, quantity, ...]}\n",
    "unordered_map<int, map<string, vector<float> > > items;"
   ]
  },
  {
   "cell_type": "code",
   "execution_count": 50,
   "metadata": {},
   "outputs": [],
   "source": [
    "map<string, vector<float> > item1;"
   ]
  },
  {
   "cell_type": "code",
   "execution_count": 51,
   "metadata": {},
   "outputs": [],
   "source": [
    "// item1 is empty\n",
    "items[1] = item1;"
   ]
  },
  {
   "cell_type": "code",
   "execution_count": 52,
   "metadata": {},
   "outputs": [],
   "source": [
    "// item # 2's description is also empty map\n",
    "items[2] = map<string, vector<float> >();"
   ]
  },
  {
   "cell_type": "code",
   "execution_count": 53,
   "metadata": {},
   "outputs": [],
   "source": [
    "// add [price, quantity] for regular apple\n",
    "items[1][\"apple\"] = {2.5, 1000};"
   ]
  },
  {
   "cell_type": "code",
   "execution_count": 54,
   "metadata": {},
   "outputs": [],
   "source": [
    "// gala apple\n",
    "items[1][\"gala apple\"] = {3.5, 200};"
   ]
  },
  {
   "cell_type": "code",
   "execution_count": 55,
   "metadata": {},
   "outputs": [],
   "source": [
    "items[2][\"banana\"] = {1.99, 5000.55};"
   ]
  },
  {
   "cell_type": "code",
   "execution_count": 56,
   "metadata": {},
   "outputs": [],
   "source": [
    "items[3][\"carrot\"] = {1.55, 2000};"
   ]
  },
  {
   "cell_type": "code",
   "execution_count": 57,
   "metadata": {},
   "outputs": [
    {
     "name": "stdout",
     "output_type": "stream",
     "text": [
      "1.55"
     ]
    }
   ],
   "source": [
    "// what is the price of item no. 3 -> regular carror\n",
    "cout << items[3][\"carrot\"][0];"
   ]
  },
  {
   "cell_type": "code",
   "execution_count": 58,
   "metadata": {},
   "outputs": [
    {
     "name": "stdout",
     "output_type": "stream",
     "text": [
      "5000.55"
     ]
    }
   ],
   "source": [
    "// how much of banana left in inventory?\n",
    "cout << items[2][\"banana\"][1];"
   ]
  },
  {
   "cell_type": "code",
   "execution_count": 59,
   "metadata": {},
   "outputs": [],
   "source": [
    "// let's say the store sold 30.5 pounds of carrort; subtract from the inventory\n",
    "items[3][\"carrot\"][1] -= 30.5;"
   ]
  },
  {
   "cell_type": "code",
   "execution_count": 60,
   "metadata": {},
   "outputs": [
    {
     "name": "stdout",
     "output_type": "stream",
     "text": [
      "1969.5 lbs left!"
     ]
    }
   ],
   "source": [
    "// how much of carrot left now?\n",
    "cout << items[3][\"carrot\"][1] << \" lbs left!\";"
   ]
  },
  {
   "cell_type": "code",
   "execution_count": 64,
   "metadata": {},
   "outputs": [
    {
     "name": "stdout",
     "output_type": "stream",
     "text": [
      "3 -> { carrot => 1.55 1969.5 }\n",
      "2 -> { banana => 1.99 5000.55 }\n",
      "1 -> { apple => 2.5 1000 }{ gala apple => 3.5 200 }\n"
     ]
    }
   ],
   "source": [
    "// report the invontory\n",
    "for(auto iter1 = items.begin(); iter1 != items.end(); iter1++) {\n",
    "    cout << iter1->first << \" -> \";\n",
    "    // iterate through inner map\n",
    "    for (auto iter2=iter1->second.begin(); iter2!=iter1->second.end(); iter2++) {\n",
    "        cout << \"{ \" << iter2->first << \" => \";\n",
    "        // iterate through vector\n",
    "        for(auto val : iter2->second) {\n",
    "            cout << val << \" \"; \n",
    "        }\n",
    "        cout << \"}\";\n",
    "    }\n",
    "    cout << endl;\n",
    "}"
   ]
  },
  {
   "cell_type": "markdown",
   "metadata": {},
   "source": [
    "## Exercises\n",
    "### Kattis problems that can be solved using map or unordered_map\n",
    "1. I've Been Everywhere, Man - https://open.kattis.com/problems/everywhere\n",
    "- Seven Wonders - https://open.kattis.com/problems/sevenwonders\n",
    "- Variable Arithmetic - https://open.kattis.com/problems/variablearithmetic\n",
    "- ACM Contest Scoring - https://open.kattis.com/problems/acm\n",
    "- Stacking Cups - https://open.kattis.com/problems/cups\n",
    "- A New Alphabet - https://open.kattis.com/problems/anewalphabet\n",
    "- Words for Numbers - https://open.kattis.com/problems/wordsfornumbers\n",
    "- Babelfish - https://open.kattis.com/problems/babelfish\n",
    "- Popular Vote - https://open.kattis.com/problems/vote\n",
    "- Adding Words - https://open.kattis.com/problems/addingwords\n",
    "- Grandpa Bernie - https://open.kattis.com/problems/grandpabernie\n",
    "- Judging Troubles - https://open.kattis.com/problems/judging\n",
    "- Not Amused - https://open.kattis.com/problems/notamused\n",
    "- Engineering English - https://open.kattis.com/problems/engineeringenglish\n",
    "- Hardwood Species - https://open.kattis.com/problems/hardwoodspecies\n",
    "- Conformity - https://open.kattis.com/problems/conformity\n",
    "- Galactic Collegiate Programming Contest - https://open.kattis.com/problems/gcpc\n",
    "- Simplicity - https://open.kattis.com/problems/simplicity"
   ]
  },
  {
   "cell_type": "code",
   "execution_count": null,
   "metadata": {},
   "outputs": [],
   "source": []
  }
 ],
 "metadata": {
  "kernelspec": {
   "display_name": "C++14",
   "language": "C++14",
   "name": "xcpp14"
  },
  "language_info": {
   "codemirror_mode": "text/x-c++src",
   "file_extension": ".cpp",
   "mimetype": "text/x-c++src",
   "name": "c++",
   "version": "14"
  }
 },
 "nbformat": 4,
 "nbformat_minor": 2
}
