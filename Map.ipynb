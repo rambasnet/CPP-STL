{
 "cells": [
  {
   "cell_type": "markdown",
   "metadata": {},
   "source": [
    "# Map\n",
    "https://en.cppreference.com/w/cpp/container/map\n",
    "\n",
    "## Table of Contents\n",
    "- [map definition](#map)\n",
    "- [Declare](#declare)\n",
    "- [Access elements](#access)\n",
    "- [Modifiers](#modifiers)\n",
    "- [Comparisons](#comparisons)\n",
    "- [Iterators](#iterators)\n",
    "- [Lookup operations](#operations)\n",
    "- [Applications](#applications)"
   ]
  },
  {
   "cell_type": "markdown",
   "metadata": {},
   "source": [
    "<a id=\"map\"></a>\n",
    "## map\n",
    "- sorted associative container that contains key-value pairs with unique keys (sorted based on keys)\n",
    "- implemented as [red-black trees](https://en.wikipedia.org/wiki/Red%E2%80%93black_tree)\n",
    "- the complexity (efficiency) of common operations such as search, removal, and insertion operations is `O(lg n)`"
   ]
  },
  {
   "cell_type": "markdown",
   "metadata": {},
   "source": [
    "<a id=\"declare\"></a>\n",
    "## declare map\n",
    "- must include header file map and use namespace std;\n",
    "- a template class designed to store any data types that can be comapred"
   ]
  },
  {
   "cell_type": "code",
   "execution_count": null,
   "metadata": {
    "code_folding": []
   },
   "outputs": [],
   "source": [
    "// include header files\n",
    "#include <iostream>\n",
    "#include <string>\n",
    "#include <map>\n",
    "#include <utility> // make_pair function\n",
    "\n",
    "using namespace std;"
   ]
  },
  {
   "cell_type": "code",
   "execution_count": null,
   "metadata": {
    "code_folding": []
   },
   "outputs": [],
   "source": [
    "// operator<< overloaded to print a map container\n",
    "template<class T1, class T2>\n",
    "ostream& operator<<(ostream& out, const map<T1, T2>& m) {\n",
    "    char comma[3] = {'\\0', ' ', '\\0'};\n",
    "    out << '{';\n",
    "    for (auto& e: m) {\n",
    "        out << comma << e.first << ':' << e.second;\n",
    "        comma[0] = ',';\n",
    "    }\n",
    "    out << '}';\n",
    "    return out;\n",
    "}"
   ]
  },
  {
   "cell_type": "code",
   "execution_count": null,
   "metadata": {},
   "outputs": [],
   "source": [
    "// operator<< overloaded to print a vector\n",
    "template<class T>\n",
    "ostream& operator<<(ostream& out, const vector<T>& v) {\n",
    "    char comma[3] = {'\\0', ' ', '\\0'};\n",
    "    out << '[';\n",
    "    for (auto& e: v) {\n",
    "        out << comma << e;\n",
    "        comma[0] = ',';\n",
    "    }\n",
    "    out << \"]\\n\";\n",
    "    return out;\n",
    "}"
   ]
  },
  {
   "cell_type": "code",
   "execution_count": null,
   "metadata": {
    "code_folding": []
   },
   "outputs": [],
   "source": [
    "// declare\n",
    "map<string, string> eng2Span;\n",
    "map<char, int> charToNum;\n",
    "map<int, char> numToChar;"
   ]
  },
  {
   "cell_type": "code",
   "execution_count": null,
   "metadata": {
    "code_folding": []
   },
   "outputs": [],
   "source": [
    "// declare and initialize\n",
    "map<string, int> words = {\n",
    "        {\"i\", 10},\n",
    "        {\"love\", 20},\n",
    "        {\"C++\", 30},\n",
    "        {\"!\", 40},\n",
    "    };\n",
    "map<string, float> prices = {{\"apple\", 1.99}, {\"orange\", 1.99}, {\"banana\", 2.99}, {\"lobster\", 20.85}};\n",
    "map<string, float> dupPrices = prices;"
   ]
  },
  {
   "cell_type": "code",
   "execution_count": null,
   "metadata": {},
   "outputs": [],
   "source": [
    "// print contents using cout operator<< overloaded function\n",
    "cout << \"words contents: \"<< words << endl;\n",
    "cout << \"prices contents: \" << prices << endl;"
   ]
  },
  {
   "cell_type": "markdown",
   "metadata": {},
   "source": [
    "<a id=\"access\"></a>\n",
    "## access elements\n",
    "- **at** : access specified element with bounds checking\n",
    "- **operator[]** : access or insert specified element based on key"
   ]
  },
  {
   "cell_type": "code",
   "execution_count": null,
   "metadata": {},
   "outputs": [],
   "source": [
    "// access elements\n",
    "cout << \"love = \" << words[\"love\"] << endl;\n",
    "cout << \"apple = \" << prices[\"apple\"] << endl;\n",
    "cout << \"ball = \" << prices[\"ball\"] << endl; // \"ball doesn't exist; returns 0\""
   ]
  },
  {
   "cell_type": "code",
   "execution_count": null,
   "metadata": {},
   "outputs": [],
   "source": [
    "cout << \"love = \" << words.at(\"love\") << endl;\n",
    "cout << \"apple = \" << prices.at(\"apple\") << endl;\n",
    "cout << \"ball = \" << prices.at(\"ball\") << endl; // \"ball doesn't exist; returns 0\""
   ]
  },
  {
   "cell_type": "code",
   "execution_count": null,
   "metadata": {},
   "outputs": [],
   "source": [
    "cout << eng2Span << endl; // should be empty map"
   ]
  },
  {
   "cell_type": "code",
   "execution_count": null,
   "metadata": {},
   "outputs": [],
   "source": [
    "// add elements\n",
    "eng2Span[\"one\"] = \"uno\";\n",
    "eng2Span[\"two\"] = \"dos\";\n",
    "eng2Span[\"three\"] = \"tres\";\n",
    "eng2Span[\"four\"] = \"cinco\";"
   ]
  },
  {
   "cell_type": "code",
   "execution_count": null,
   "metadata": {},
   "outputs": [],
   "source": [
    "eng2Span // sorted based on key"
   ]
  },
  {
   "cell_type": "markdown",
   "metadata": {},
   "source": [
    "<a id=\"capacity\"></a>\n",
    "## capacity\n",
    "- **empty** : checks whethere the container is empty\n",
    "- **size** : returns the number of elements\n",
    "- **max_size** : returns the maximum possible number of elements"
   ]
  },
  {
   "cell_type": "code",
   "execution_count": null,
   "metadata": {},
   "outputs": [],
   "source": [
    "cout << boolalpha; // convert boolean to text true/false\n",
    "cout << \"is eng2Span empty? \" << eng2Span.empty() << endl;\n",
    "cout << \"is prices map empty? \" << prices.empty() << endl;\n",
    "cout << \"size of prices: \" << prices.size() << endl;\n",
    "cout << \"max_size of prices: \" << prices.max_size() << endl;"
   ]
  },
  {
   "cell_type": "markdown",
   "metadata": {},
   "source": [
    "<a id=\"modifiers\"></a>\n",
    "## modifiers\n",
    "- **clear** : clears the contents\n",
    "- **insert** : inserts elements into the container, if the container doesn't already contain an element with an quivalent key\n",
    "- **erase** : erases elements at the specified location or key\n",
    "- **swap** : swaps the contents"
   ]
  },
  {
   "cell_type": "code",
   "execution_count": null,
   "metadata": {},
   "outputs": [],
   "source": [
    "map<string, int> age = {{\"John\",21}, {\"Maya\",74}, {\"Jenny\", 46}, {\"Jordan\", 48}, {\"Mike\", 46}};"
   ]
  },
  {
   "cell_type": "code",
   "execution_count": null,
   "metadata": {},
   "outputs": [],
   "source": [
    "cout << age << endl;\n",
    "age.clear();\n",
    "cout << age << endl;"
   ]
  },
  {
   "cell_type": "code",
   "execution_count": null,
   "metadata": {},
   "outputs": [],
   "source": [
    "age.insert(make_pair(\"Jake\", 25));\n",
    "cout << age << endl;"
   ]
  },
  {
   "cell_type": "code",
   "execution_count": null,
   "metadata": {},
   "outputs": [],
   "source": [
    "age.insert(make_pair(\"Jordan\", 22));\n",
    "cout << age;"
   ]
  },
  {
   "cell_type": "code",
   "execution_count": null,
   "metadata": {},
   "outputs": [],
   "source": [
    "auto it = age.begin();\n",
    "cout << it->first << \" -> \" << it->second << endl;\n",
    "age.erase(it);\n",
    "cout << \"age = \" << age;"
   ]
  },
  {
   "cell_type": "code",
   "execution_count": null,
   "metadata": {},
   "outputs": [],
   "source": [
    "age.insert(make_pair(\"Sally\", 25));\n",
    "cout << age << endl;"
   ]
  },
  {
   "cell_type": "code",
   "execution_count": null,
   "metadata": {},
   "outputs": [],
   "source": [
    "age.insert(make_pair(\"Bill\", 100));\n",
    "cout << age << endl;"
   ]
  },
  {
   "cell_type": "code",
   "execution_count": null,
   "metadata": {},
   "outputs": [],
   "source": [
    "age.insert(make_pair(\"Macy\", 50));\n",
    "age.insert(make_pair(\"Nancy\", 55));\n",
    "cout << age;"
   ]
  },
  {
   "cell_type": "code",
   "execution_count": null,
   "metadata": {},
   "outputs": [],
   "source": [
    "map<string, int> age1 = {{\"kid1\", 1}, {\"kid2\", 2}, {\"kid3\", 3}, {\"kid4\", 4}, {\"kid5\", 5}};"
   ]
  },
  {
   "cell_type": "code",
   "execution_count": null,
   "metadata": {},
   "outputs": [],
   "source": [
    "cout << age << endl;\n",
    "cout << age1 << endl;"
   ]
  },
  {
   "cell_type": "code",
   "execution_count": null,
   "metadata": {},
   "outputs": [],
   "source": [
    "// inorder to swap, number of elements between the containers have to be equal\n",
    "age1.swap(age);\n",
    "cout << age << endl;\n",
    "cout << age1 << endl;"
   ]
  },
  {
   "cell_type": "markdown",
   "metadata": {},
   "source": [
    "<a id=\"comparisons\"></a>\n",
    "## aggregate comparisons\n",
    "- comparison operators ==, !=, <, >, <=, and >= are overloaded\n",
    "- elements are compared lexicographically"
   ]
  },
  {
   "cell_type": "markdown",
   "metadata": {},
   "source": [
    "<a id=\"iterators\"></a>\n",
    "## iterators\n",
    "- **begin** - returns an iterator to the beginning\n",
    "- **rbegin** - returns a reverse iterator to the beginning\n",
    "- **end** - returns an iterator to the end (past the last element)\n",
    "- **rend** - returns a reverse iterator to the end\n",
    "<img src=\"./resources/range-rbegin-rend.svg\" />"
   ]
  },
  {
   "cell_type": "code",
   "execution_count": null,
   "metadata": {},
   "outputs": [],
   "source": [
    "map<int, string> amap = {{10, \"val1\"}, {15, \"val2\"}, {20, \"val3\"}, {30, \"val4\"}, {35, \"val5\"}};"
   ]
  },
  {
   "cell_type": "code",
   "execution_count": null,
   "metadata": {},
   "outputs": [],
   "source": [
    "for(auto iterator = amap.begin(); iterator != amap.end(); iterator++)\n",
    "    cout << (*iterator).first << \" => \" << iterator->second << endl;"
   ]
  },
  {
   "cell_type": "code",
   "execution_count": null,
   "metadata": {},
   "outputs": [],
   "source": [
    "for (auto e : amap)\n",
    "    cout << e.first << \" -> \" << e.second << endl;"
   ]
  },
  {
   "cell_type": "code",
   "execution_count": null,
   "metadata": {},
   "outputs": [],
   "source": [
    "// type alias\n",
    "using mii = map<int, int>;"
   ]
  },
  {
   "cell_type": "code",
   "execution_count": null,
   "metadata": {},
   "outputs": [],
   "source": [
    "mii map1 = {{1,10}, {2,20}, {3,30}, {4,40}, {5,50}};\n",
    "cout << map1 << endl;"
   ]
  },
  {
   "cell_type": "code",
   "execution_count": null,
   "metadata": {},
   "outputs": [],
   "source": [
    "// move iterators using next function\n",
    "auto iter = map1.begin();\n",
    "cout << iter->first << \" => \" << iter->second << endl;"
   ]
  },
  {
   "cell_type": "code",
   "execution_count": null,
   "metadata": {},
   "outputs": [],
   "source": [
    "iter = next(iter);\n",
    "cout << iter->first << \" => \" << iter->second << endl;"
   ]
  },
  {
   "cell_type": "code",
   "execution_count": null,
   "metadata": {},
   "outputs": [],
   "source": [
    "iter = next(iter, 3);\n",
    "cout << iter->first << \" => \" << iter->second << endl;"
   ]
  },
  {
   "cell_type": "markdown",
   "metadata": {},
   "source": [
    "<a id=\"operations\"></a>\n",
    "## Lookup operations\n",
    "- **count** : returns the number of elements matching specific key (always 1 if exists, 0 otherwise)\n",
    "- **find** : finds elements with specific key, returns iterator"
   ]
  },
  {
   "cell_type": "code",
   "execution_count": null,
   "metadata": {},
   "outputs": [],
   "source": [
    "map<char, int> mapci = {{'a', 5}, {'b', 9}, {'c', 100}, {'d', 15}, {'e', 75}};"
   ]
  },
  {
   "cell_type": "code",
   "execution_count": null,
   "metadata": {},
   "outputs": [],
   "source": [
    "cout << mapci << endl;"
   ]
  },
  {
   "cell_type": "code",
   "execution_count": null,
   "metadata": {},
   "outputs": [],
   "source": [
    "cout << mapci.count('a') << endl;\n",
    "cout << mapci.count('z') << endl;"
   ]
  },
  {
   "cell_type": "code",
   "execution_count": null,
   "metadata": {},
   "outputs": [],
   "source": [
    "if (mapci.count('a') == 1)\n",
    "    cout << \"Found!\";\n",
    "else\n",
    "    cout << \"Not found!\";"
   ]
  },
  {
   "cell_type": "code",
   "execution_count": null,
   "metadata": {},
   "outputs": [],
   "source": [
    "// find method; returns iterator\n",
    "auto search = mapci.find('d');\n",
    "if (search != mapci.end())\n",
    "    cout << \"found \" << search->first << \" => \" << search->second << endl;\n",
    "else\n",
    "    cout << \"NOT found!\";"
   ]
  },
  {
   "cell_type": "markdown",
   "metadata": {},
   "source": [
    "<a id=\"applications\"></a>"
   ]
  },
  {
   "cell_type": "markdown",
   "metadata": {},
   "source": [
    "## Applications\n",
    "\n",
    "#### keep track of menu items and the customers who ordered those items\n",
    "- https://open.kattis.com/problems/baconeggsandspam"
   ]
  },
  {
   "cell_type": "code",
   "execution_count": null,
   "metadata": {},
   "outputs": [],
   "source": [
    "map<string, vector<string> > items;"
   ]
  },
  {
   "cell_type": "code",
   "execution_count": null,
   "metadata": {},
   "outputs": [],
   "source": [
    "items[\"bacon\"].push_back(\"John\");"
   ]
  },
  {
   "cell_type": "code",
   "execution_count": null,
   "metadata": {},
   "outputs": [],
   "source": [
    "items[\"bacon\"].push_back(\"Jim\");"
   ]
  },
  {
   "cell_type": "code",
   "execution_count": null,
   "metadata": {},
   "outputs": [],
   "source": [
    "items[\"bacon\"]"
   ]
  },
  {
   "cell_type": "code",
   "execution_count": 26,
   "metadata": {},
   "outputs": [],
   "source": [
    "#include <algorithm>"
   ]
  },
  {
   "cell_type": "code",
   "execution_count": null,
   "metadata": {},
   "outputs": [],
   "source": [
    "// works with g++ -std=14; bot not in notebook!\n",
    "for (auto p : items) {\n",
    "    cout << p;\n",
    "    sort(p.second.begin(), p.second.end());\n",
    "    for (auto n: p.second)\n",
    "        cout << \" \" << n;\n",
    "}"
   ]
  },
  {
   "cell_type": "code",
   "execution_count": 24,
   "metadata": {},
   "outputs": [],
   "source": [
    "sort(items[\"bacon\"].begin(), items[\"bacon\"].end());"
   ]
  },
  {
   "cell_type": "code",
   "execution_count": 25,
   "metadata": {},
   "outputs": [
    {
     "data": {
      "text/plain": [
       "{ \"Jim\", \"John\" }"
      ]
     },
     "execution_count": 25,
     "metadata": {},
     "output_type": "execute_result"
    }
   ],
   "source": [
    "items[\"bacon\"]"
   ]
  },
  {
   "cell_type": "code",
   "execution_count": null,
   "metadata": {},
   "outputs": [],
   "source": []
  }
 ],
 "metadata": {
  "kernelspec": {
   "display_name": "C++14",
   "language": "C++14",
   "name": "xeus-cling-cpp14"
  },
  "language_info": {
   "codemirror_mode": "text/x-c++src",
   "file_extension": ".cpp",
   "mimetype": "text/x-c++src",
   "name": "c++",
   "version": "-std=c++14"
  }
 },
 "nbformat": 4,
 "nbformat_minor": 2
}
