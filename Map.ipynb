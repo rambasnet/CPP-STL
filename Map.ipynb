{
 "cells": [
  {
   "cell_type": "markdown",
   "metadata": {},
   "source": [
    "# Map\n",
    "https://en.cppreference.com/w/cpp/container/map\n",
    "\n",
    "## Table of Contents\n",
    "- [map definition](#map)\n",
    "- [Declare](#declare)\n",
    "- [Access elements](#access)\n",
    "- [Modifiers](#modifiers)\n",
    "- [Comparisons](#comparisons)\n",
    "- [Iterators](#iterators)\n",
    "- [Lookup operations](#operations)\n",
    "- [Applications](#applications)"
   ]
  },
  {
   "cell_type": "markdown",
   "metadata": {},
   "source": [
    "<a id=\"map\"></a>\n",
    "## map\n",
    "- sorted associative container that contains key-value pairs with unique keys (sorted based on keys)\n",
    "- implemented as [red-black trees](https://en.wikipedia.org/wiki/Red%E2%80%93black_tree)\n",
    "- the complexity (efficiency) of common operations such as search, removal, and insertion operations is `O(lg n)`"
   ]
  },
  {
   "cell_type": "markdown",
   "metadata": {},
   "source": [
    "<a id=\"declare\"></a>\n",
    "## declare map\n",
    "- must include header file map and use namespace std;\n",
    "- a template class designed to store any data types that can be comapred"
   ]
  },
  {
   "cell_type": "code",
   "execution_count": 1,
   "metadata": {
    "code_folding": []
   },
   "outputs": [],
   "source": [
    "// include header files\n",
    "#include <iostream>\n",
    "#include <string>\n",
    "#include <map>\n",
    "#include <utility> // make_pair function\n",
    "\n",
    "using namespace std;"
   ]
  },
  {
   "cell_type": "code",
   "execution_count": 2,
   "metadata": {
    "code_folding": []
   },
   "outputs": [],
   "source": [
    "// operator<< overloaded to print a map container\n",
    "template<class T1, class T2>\n",
    "ostream& operator<<(ostream& out, const map<T1, T2>& m) {\n",
    "    char comma[3] = {'\\0', ' ', '\\0'};\n",
    "    out << '{';\n",
    "    for (auto& e: m) {\n",
    "        out << comma << e.first << ':' << e.second;\n",
    "        comma[0] = ',';\n",
    "    }\n",
    "    out << '}';\n",
    "    return out;\n",
    "}"
   ]
  },
  {
   "cell_type": "code",
   "execution_count": 3,
   "metadata": {},
   "outputs": [],
   "source": [
    "// operator<< overloaded to print a vector\n",
    "template<class T>\n",
    "ostream& operator<<(ostream& out, const vector<T>& v) {\n",
    "    char comma[3] = {'\\0', ' ', '\\0'};\n",
    "    out << '[';\n",
    "    for (auto& e: v) {\n",
    "        out << comma << e;\n",
    "        comma[0] = ',';\n",
    "    }\n",
    "    out << \"]\\n\";\n",
    "    return out;\n",
    "}"
   ]
  },
  {
   "cell_type": "code",
   "execution_count": 4,
   "metadata": {
    "code_folding": []
   },
   "outputs": [],
   "source": [
    "// declare\n",
    "map<string, string> eng2Span;\n",
    "map<char, int> charToNum;\n",
    "map<int, char> numToChar;"
   ]
  },
  {
   "cell_type": "code",
   "execution_count": 5,
   "metadata": {
    "code_folding": []
   },
   "outputs": [],
   "source": [
    "// declare and initialize\n",
    "map<string, int> words = {\n",
    "        {\"i\", 10},\n",
    "        {\"love\", 20},\n",
    "        {\"C++\", 30},\n",
    "        {\"!\", 40},\n",
    "    };\n",
    "map<string, float> prices = {{\"apple\", 1.99}, {\"orange\", 1.99}, {\"banana\", 2.99}, {\"lobster\", 20.85}};\n",
    "map<string, float> dupPrices = prices;"
   ]
  },
  {
   "cell_type": "code",
   "execution_count": 6,
   "metadata": {},
   "outputs": [
    {
     "name": "stdout",
     "output_type": "stream",
     "text": [
      "words contents: {!:40, C++:30, i:10, love:20}\n",
      "prices contents: {apple:1.99, banana:2.99, lobster:20.85, orange:1.99}\n"
     ]
    }
   ],
   "source": [
    "// print contents using cout operator<< overloaded function\n",
    "cout << \"words contents: \"<< words << endl;\n",
    "cout << \"prices contents: \" << prices << endl;"
   ]
  },
  {
   "cell_type": "markdown",
   "metadata": {},
   "source": [
    "<a id=\"access\"></a>\n",
    "## access elements\n",
    "- **at** : access specified element with bounds checking\n",
    "- **operator[]** : access or insert specified element based on key"
   ]
  },
  {
   "cell_type": "code",
   "execution_count": 7,
   "metadata": {},
   "outputs": [
    {
     "name": "stdout",
     "output_type": "stream",
     "text": [
      "love = 20\n",
      "apple = 1.99\n",
      "ball = 0\n"
     ]
    },
    {
     "data": {
      "text/plain": [
       "@0x104682010"
      ]
     },
     "execution_count": 7,
     "metadata": {},
     "output_type": "execute_result"
    }
   ],
   "source": [
    "// access elements\n",
    "cout << \"love = \" << words[\"love\"] << endl;\n",
    "cout << \"apple = \" << prices[\"apple\"] << endl;\n",
    "cout << \"ball = \" << prices[\"ball\"] << endl; // \"ball doesn't exist; returns 0\""
   ]
  },
  {
   "cell_type": "code",
   "execution_count": 8,
   "metadata": {},
   "outputs": [
    {
     "name": "stdout",
     "output_type": "stream",
     "text": [
      "love = 20\n",
      "apple = 1.99\n",
      "ball = 0\n"
     ]
    },
    {
     "data": {
      "text/plain": [
       "@0x104682010"
      ]
     },
     "execution_count": 8,
     "metadata": {},
     "output_type": "execute_result"
    }
   ],
   "source": [
    "cout << \"love = \" << words.at(\"love\") << endl;\n",
    "cout << \"apple = \" << prices.at(\"apple\") << endl;\n",
    "cout << \"ball = \" << prices.at(\"ball\") << endl; // \"ball doesn't exist; returns 0\""
   ]
  },
  {
   "cell_type": "code",
   "execution_count": 9,
   "metadata": {},
   "outputs": [
    {
     "name": "stdout",
     "output_type": "stream",
     "text": [
      "{}\n"
     ]
    },
    {
     "data": {
      "text/plain": [
       "@0x104682010"
      ]
     },
     "execution_count": 9,
     "metadata": {},
     "output_type": "execute_result"
    }
   ],
   "source": [
    "cout << eng2Span << endl; // should be empty map"
   ]
  },
  {
   "cell_type": "code",
   "execution_count": 10,
   "metadata": {},
   "outputs": [],
   "source": [
    "// add elements\n",
    "eng2Span[\"one\"] = \"uno\";\n",
    "eng2Span[\"two\"] = \"dos\";\n",
    "eng2Span[\"three\"] = \"tres\";\n",
    "eng2Span[\"four\"] = \"cinco\";"
   ]
  },
  {
   "cell_type": "code",
   "execution_count": 11,
   "metadata": {},
   "outputs": [
    {
     "data": {
      "text/plain": [
       "{ \"four\" => \"cinco\", \"one\" => \"uno\", \"three\" => \"tres\", \"two\" => \"dos\" }"
      ]
     },
     "execution_count": 11,
     "metadata": {},
     "output_type": "execute_result"
    }
   ],
   "source": [
    "eng2Span // sorted based on key"
   ]
  },
  {
   "cell_type": "markdown",
   "metadata": {},
   "source": [
    "<a id=\"capacity\"></a>\n",
    "## capacity\n",
    "- **empty** : checks whethere the container is empty\n",
    "- **size** : returns the number of elements\n",
    "- **max_size** : returns the maximum possible number of elements"
   ]
  },
  {
   "cell_type": "code",
   "execution_count": 12,
   "metadata": {},
   "outputs": [
    {
     "name": "stdout",
     "output_type": "stream",
     "text": [
      "is eng2Span empty? false\n",
      "is prices map empty? false\n",
      "size of prices: 5\n",
      "max_size of prices: 288230376151711743\n"
     ]
    }
   ],
   "source": [
    "cout << boolalpha; // convert boolean to text true/false\n",
    "cout << \"is eng2Span empty? \" << eng2Span.empty() << endl;\n",
    "cout << \"is prices map empty? \" << prices.empty() << endl;\n",
    "cout << \"size of prices: \" << prices.size() << endl;\n",
    "cout << \"max_size of prices: \" << prices.max_size() << endl;"
   ]
  },
  {
   "cell_type": "markdown",
   "metadata": {},
   "source": [
    "<a id=\"modifiers\"></a>\n",
    "## modifiers\n",
    "- **clear** : clears the contents\n",
    "- **insert** : inserts elements into the container, if the container doesn't already contain an element with an quivalent key\n",
    "- **erase** : erases elements at the specified location or key\n",
    "- **swap** : swaps the contents"
   ]
  },
  {
   "cell_type": "code",
   "execution_count": 13,
   "metadata": {},
   "outputs": [],
   "source": [
    "map<string, int> age = {{\"John\",21}, {\"Maya\",74}, {\"Jenny\", 46}, {\"Jordan\", 48}, {\"Mike\", 46}};"
   ]
  },
  {
   "cell_type": "code",
   "execution_count": 14,
   "metadata": {},
   "outputs": [
    {
     "name": "stdout",
     "output_type": "stream",
     "text": [
      "{Jenny:46, John:21, Jordan:48, Maya:74, Mike:46}\n",
      "{}\n"
     ]
    }
   ],
   "source": [
    "cout << age << endl;\n",
    "age.clear();\n",
    "cout << age << endl;"
   ]
  },
  {
   "cell_type": "code",
   "execution_count": 15,
   "metadata": {},
   "outputs": [
    {
     "name": "stdout",
     "output_type": "stream",
     "text": [
      "{Jake:25}\n"
     ]
    }
   ],
   "source": [
    "age.insert(make_pair(\"Jake\", 25));\n",
    "cout << age << endl;"
   ]
  },
  {
   "cell_type": "code",
   "execution_count": 16,
   "metadata": {},
   "outputs": [
    {
     "name": "stdout",
     "output_type": "stream",
     "text": [
      "{Jake:25, Jordan:22}"
     ]
    }
   ],
   "source": [
    "age.insert(make_pair(\"Jordan\", 22));\n",
    "cout << age;"
   ]
  },
  {
   "cell_type": "code",
   "execution_count": 17,
   "metadata": {},
   "outputs": [
    {
     "name": "stdout",
     "output_type": "stream",
     "text": [
      "Jake -> 25\n",
      "age = {Jordan:22}"
     ]
    }
   ],
   "source": [
    "auto it = age.begin();\n",
    "cout << it->first << \" -> \" << it->second << endl;\n",
    "age.erase(it);\n",
    "cout << \"age = \" << age;"
   ]
  },
  {
   "cell_type": "code",
   "execution_count": 18,
   "metadata": {},
   "outputs": [
    {
     "name": "stdout",
     "output_type": "stream",
     "text": [
      "{Jordan:22, Sally:25}\n"
     ]
    }
   ],
   "source": [
    "age.insert(make_pair(\"Sally\", 25));\n",
    "cout << age << endl;"
   ]
  },
  {
   "cell_type": "code",
   "execution_count": 19,
   "metadata": {},
   "outputs": [
    {
     "name": "stdout",
     "output_type": "stream",
     "text": [
      "{Bill:100, Jordan:22, Sally:25}\n"
     ]
    }
   ],
   "source": [
    "age.insert(make_pair(\"Bill\", 100));\n",
    "cout << age << endl;"
   ]
  },
  {
   "cell_type": "code",
   "execution_count": 20,
   "metadata": {},
   "outputs": [
    {
     "name": "stdout",
     "output_type": "stream",
     "text": [
      "{Bill:100, Jordan:22, Macy:50, Nancy:55, Sally:25}"
     ]
    }
   ],
   "source": [
    "age.insert(make_pair(\"Macy\", 50));\n",
    "age.insert(make_pair(\"Nancy\", 55));\n",
    "cout << age;"
   ]
  },
  {
   "cell_type": "code",
   "execution_count": 21,
   "metadata": {},
   "outputs": [],
   "source": [
    "map<string, int> age1 = {{\"kid1\", 1}, {\"kid2\", 2}, {\"kid3\", 3}, {\"kid4\", 4}, {\"kid5\", 5}};"
   ]
  },
  {
   "cell_type": "code",
   "execution_count": 22,
   "metadata": {},
   "outputs": [
    {
     "name": "stdout",
     "output_type": "stream",
     "text": [
      "{Bill:100, Jordan:22, Macy:50, Nancy:55, Sally:25}\n",
      "{kid1:1, kid2:2, kid3:3, kid4:4, kid5:5}\n"
     ]
    }
   ],
   "source": [
    "cout << age << endl;\n",
    "cout << age1 << endl;"
   ]
  },
  {
   "cell_type": "code",
   "execution_count": 23,
   "metadata": {},
   "outputs": [
    {
     "name": "stdout",
     "output_type": "stream",
     "text": [
      "{kid1:1, kid2:2, kid3:3, kid4:4, kid5:5}\n",
      "{Bill:100, Jordan:22, Macy:50, Nancy:55, Sally:25}\n"
     ]
    }
   ],
   "source": [
    "// inorder to swap, number of elements between the containers have to be equal\n",
    "age1.swap(age);\n",
    "cout << age << endl;\n",
    "cout << age1 << endl;"
   ]
  },
  {
   "cell_type": "markdown",
   "metadata": {},
   "source": [
    "<a id=\"comparisons\"></a>\n",
    "## aggregate comparisons\n",
    "- comparison operators ==, !=, <, >, <=, and >= are overloaded\n",
    "- elements are compared lexicographically"
   ]
  },
  {
   "cell_type": "markdown",
   "metadata": {},
   "source": [
    "<a id=\"iterators\"></a>\n",
    "## iterators\n",
    "- **begin** - returns an iterator to the beginning\n",
    "- **rbegin** - returns a reverse iterator to the beginning\n",
    "- **end** - returns an iterator to the end (past the last element)\n",
    "- **rend** - returns a reverse iterator to the end\n",
    "<img src=\"./resources/range-rbegin-rend.svg\" />"
   ]
  },
  {
   "cell_type": "code",
   "execution_count": 24,
   "metadata": {},
   "outputs": [],
   "source": [
    "map<int, string> amap = {{10, \"val1\"}, {15, \"val2\"}, {20, \"val3\"}, {30, \"val4\"}, {35, \"val5\"}};"
   ]
  },
  {
   "cell_type": "code",
   "execution_count": 25,
   "metadata": {},
   "outputs": [
    {
     "name": "stdout",
     "output_type": "stream",
     "text": [
      "10 => val1\n",
      "15 => val2\n",
      "20 => val3\n",
      "30 => val4\n",
      "35 => val5\n"
     ]
    }
   ],
   "source": [
    "for(auto iterator = amap.begin(); iterator != amap.end(); iterator++)\n",
    "    cout << (*iterator).first << \" => \" << iterator->second << endl;"
   ]
  },
  {
   "cell_type": "code",
   "execution_count": 26,
   "metadata": {},
   "outputs": [
    {
     "name": "stdout",
     "output_type": "stream",
     "text": [
      "10 -> val1\n",
      "15 -> val2\n",
      "20 -> val3\n",
      "30 -> val4\n",
      "35 -> val5\n"
     ]
    }
   ],
   "source": [
    "for (auto e : amap)\n",
    "    cout << e.first << \" -> \" << e.second << endl;"
   ]
  },
  {
   "cell_type": "code",
   "execution_count": 27,
   "metadata": {},
   "outputs": [],
   "source": [
    "// type alias\n",
    "using mii = map<int, int>;"
   ]
  },
  {
   "cell_type": "code",
   "execution_count": 28,
   "metadata": {},
   "outputs": [
    {
     "name": "stdout",
     "output_type": "stream",
     "text": [
      "{1:10, 2:20, 3:30, 4:40, 5:50}\n"
     ]
    }
   ],
   "source": [
    "mii map1 = {{1,10}, {2,20}, {3,30}, {4,40}, {5,50}};\n",
    "cout << map1 << endl;"
   ]
  },
  {
   "cell_type": "code",
   "execution_count": 29,
   "metadata": {},
   "outputs": [
    {
     "name": "stdout",
     "output_type": "stream",
     "text": [
      "1 => 10\n"
     ]
    }
   ],
   "source": [
    "// move iterators using next function\n",
    "auto iter = map1.begin();\n",
    "cout << iter->first << \" => \" << iter->second << endl;"
   ]
  },
  {
   "cell_type": "code",
   "execution_count": 30,
   "metadata": {},
   "outputs": [
    {
     "name": "stdout",
     "output_type": "stream",
     "text": [
      "2 => 20\n"
     ]
    }
   ],
   "source": [
    "iter = next(iter);\n",
    "cout << iter->first << \" => \" << iter->second << endl;"
   ]
  },
  {
   "cell_type": "code",
   "execution_count": 31,
   "metadata": {},
   "outputs": [
    {
     "name": "stdout",
     "output_type": "stream",
     "text": [
      "5 => 50\n"
     ]
    }
   ],
   "source": [
    "iter = next(iter, 3);\n",
    "cout << iter->first << \" => \" << iter->second << endl;"
   ]
  },
  {
   "cell_type": "markdown",
   "metadata": {},
   "source": [
    "<a id=\"operations\"></a>\n",
    "## Lookup operations\n",
    "- **count** : returns the number of elements matching specific key (always 1 if exists, 0 otherwise)\n",
    "- **find** : finds elements with specific key, returns iterator"
   ]
  },
  {
   "cell_type": "code",
   "execution_count": 32,
   "metadata": {},
   "outputs": [],
   "source": [
    "map<char, int> mapci = {{'a', 5}, {'b', 9}, {'c', 100}, {'d', 15}, {'e', 75}};"
   ]
  },
  {
   "cell_type": "code",
   "execution_count": 33,
   "metadata": {},
   "outputs": [
    {
     "name": "stdout",
     "output_type": "stream",
     "text": [
      "{a:5, b:9, c:100, d:15, e:75}\n"
     ]
    }
   ],
   "source": [
    "cout << mapci << endl;"
   ]
  },
  {
   "cell_type": "code",
   "execution_count": 34,
   "metadata": {},
   "outputs": [
    {
     "name": "stdout",
     "output_type": "stream",
     "text": [
      "1\n",
      "0\n"
     ]
    }
   ],
   "source": [
    "cout << mapci.count('a') << endl;\n",
    "cout << mapci.count('z') << endl;"
   ]
  },
  {
   "cell_type": "code",
   "execution_count": 35,
   "metadata": {},
   "outputs": [
    {
     "name": "stdout",
     "output_type": "stream",
     "text": [
      "Found!"
     ]
    }
   ],
   "source": [
    "if (mapci.count('a') == 1)\n",
    "    cout << \"Found!\";\n",
    "else\n",
    "    cout << \"Not found!\";"
   ]
  },
  {
   "cell_type": "code",
   "execution_count": 36,
   "metadata": {},
   "outputs": [
    {
     "name": "stdout",
     "output_type": "stream",
     "text": [
      "found d => 15\n"
     ]
    }
   ],
   "source": [
    "// find method; returns iterator\n",
    "auto search = mapci.find('d');\n",
    "if (search != mapci.end())\n",
    "    cout << \"found \" << search->first << \" => \" << search->second << endl;\n",
    "else\n",
    "    cout << \"NOT found!\";"
   ]
  },
  {
   "cell_type": "markdown",
   "metadata": {},
   "source": [
    "<a id=\"applications\"></a>"
   ]
  },
  {
   "cell_type": "markdown",
   "metadata": {},
   "source": [
    "## Applications\n",
    "\n",
    "#### keep track of menu items and the customers who ordered those items\n",
    "- https://open.kattis.com/problems/baconeggsandspam"
   ]
  },
  {
   "cell_type": "code",
   "execution_count": 37,
   "metadata": {},
   "outputs": [],
   "source": [
    "map<string, vector<string> > items;"
   ]
  },
  {
   "cell_type": "code",
   "execution_count": 38,
   "metadata": {},
   "outputs": [],
   "source": [
    "// bacon is ordered by John\n",
    "items[\"bacon\"].push_back(\"John\");"
   ]
  },
  {
   "cell_type": "code",
   "execution_count": 39,
   "metadata": {},
   "outputs": [],
   "source": [
    "// bacon is ordered by Jim\n",
    "items[\"bacon\"].push_back(\"Jim\");"
   ]
  },
  {
   "cell_type": "code",
   "execution_count": 40,
   "metadata": {},
   "outputs": [
    {
     "data": {
      "text/plain": [
       "{ \"John\", \"Jim\" }"
      ]
     },
     "execution_count": 40,
     "metadata": {},
     "output_type": "execute_result"
    }
   ],
   "source": [
    "// see all the custumers who ordered bacon\n",
    "items[\"bacon\"]"
   ]
  },
  {
   "cell_type": "code",
   "execution_count": 41,
   "metadata": {},
   "outputs": [],
   "source": [
    "#include <algorithm>"
   ]
  },
  {
   "cell_type": "code",
   "execution_count": 42,
   "metadata": {},
   "outputs": [
    {
     "name": "stdout",
     "output_type": "stream",
     "text": [
      "bacon Jim John"
     ]
    }
   ],
   "source": [
    "// works with g++ -std=c++14; but not in notebook!\n",
    "for (auto p : items) {\n",
    "    cout << p.first;\n",
    "    sort(p.second.begin(), p.second.end());\n",
    "    // print each value in the vector which is the second element of p\n",
    "    for (auto n: p.second)\n",
    "        cout << \" \" << n;\n",
    "}"
   ]
  },
  {
   "cell_type": "code",
   "execution_count": 45,
   "metadata": {},
   "outputs": [],
   "source": [
    "// sort just the vector with the key 'bacon' in descending order\n",
    "sort(items[\"bacon\"].begin(), items[\"bacon\"].end(),  std::greater<string>());"
   ]
  },
  {
   "cell_type": "code",
   "execution_count": 46,
   "metadata": {},
   "outputs": [
    {
     "data": {
      "text/plain": [
       "{ \"John\", \"Jim\" }"
      ]
     },
     "execution_count": 46,
     "metadata": {},
     "output_type": "execute_result"
    }
   ],
   "source": [
    "// see the sorted vector\n",
    "items[\"bacon\"]"
   ]
  },
  {
   "cell_type": "code",
   "execution_count": null,
   "metadata": {},
   "outputs": [],
   "source": []
  }
 ],
 "metadata": {
  "kernelspec": {
   "display_name": "C++14",
   "language": "C++14",
   "name": "xcpp14"
  },
  "language_info": {
   "codemirror_mode": "text/x-c++src",
   "file_extension": ".cpp",
   "mimetype": "text/x-c++src",
   "name": "c++",
   "version": "14"
  }
 },
 "nbformat": 4,
 "nbformat_minor": 2
}
