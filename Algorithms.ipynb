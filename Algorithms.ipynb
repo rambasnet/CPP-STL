{
 "cells": [
  {
   "cell_type": "markdown",
   "metadata": {},
   "source": [
    "# Algorithms\n",
    "https://en.cppreference.com/w/cpp/algorithm\n",
    "- defines functions for a variety of purposes (e.g. searching, sorting, counting, manipulating) that operate on ranges of elements\n",
    "- range is defined as `[first, last)` where last referes to the element past the last element to inspect or modify\n",
    "- must include `algorithm` header file\n",
    "\n",
    "## Table of Contents\n",
    "- [Non-modifying sequence operations](#non-modifying)\n",
    "- "
   ]
  },
  {
   "cell_type": "markdown",
   "metadata": {},
   "source": [
    "## Header files used in the notebook"
   ]
  },
  {
   "cell_type": "code",
   "execution_count": 1,
   "metadata": {},
   "outputs": [],
   "source": [
    "#include <iostream>\n",
    "#include <vector>\n",
    "#include <algorithm>\n",
    "\n",
    "using namespace std;"
   ]
  },
  {
   "cell_type": "markdown",
   "metadata": {},
   "source": [
    "<a id=\"non-modifying\"></a>"
   ]
  },
  {
   "cell_type": "markdown",
   "metadata": {},
   "source": [
    "## Non-modifying sequence operations"
   ]
  },
  {
   "cell_type": "markdown",
   "metadata": {},
   "source": [
    "### for-each \n",
    "- applies a function to a range of elements"
   ]
  },
  {
   "cell_type": "code",
   "execution_count": 2,
   "metadata": {},
   "outputs": [],
   "source": [
    "vector<int> nums{3, 4, 2, 8, 15, 267};"
   ]
  },
  {
   "cell_type": "code",
   "execution_count": 3,
   "metadata": {},
   "outputs": [],
   "source": [
    "// increment each element in nums by 1\n",
    "for_each(nums.begin(), nums.end(), [](int &n){ n++; });"
   ]
  },
  {
   "cell_type": "code",
   "execution_count": 5,
   "metadata": {},
   "outputs": [
    {
     "name": "stdout",
     "output_type": "stream",
     "text": [
      " 4 5 3 9 16 268"
     ]
    }
   ],
   "source": [
    "// print nums\n",
    "for_each(nums.begin(), nums.end(), [](const int& n) { cout << \" \" << n; });"
   ]
  },
  {
   "cell_type": "markdown",
   "metadata": {},
   "source": [
    "### count, count_if\n",
    " - returns the number of elements in the range `[first, last)` satisfying specific criteria"
   ]
  },
  {
   "cell_type": "code",
   "execution_count": 6,
   "metadata": {},
   "outputs": [],
   "source": [
    "vector<int> v{ 1, 2, 3, 4, 4, 3, 7, 8, 9, 10 };"
   ]
  },
  {
   "cell_type": "code",
   "execution_count": 10,
   "metadata": {},
   "outputs": [
    {
     "name": "stdout",
     "output_type": "stream",
     "text": [
      "3 appears 2 times.\n",
      "4 appears 2 times.\n"
     ]
    }
   ],
   "source": [
    "cout << \"3 appears \" << count(v.begin(), v.end(), 3) << \" times.\\n\";\n",
    "cout << \"4 appears \" << count(v.begin(), v.end(), 3) << \" times.\\n\";"
   ]
  },
  {
   "cell_type": "code",
   "execution_count": 15,
   "metadata": {},
   "outputs": [
    {
     "name": "stdout",
     "output_type": "stream",
     "text": [
      "total numbers divisible by 3 = 3\n"
     ]
    }
   ],
   "source": [
    "cout << \"total numbers divisible by 3 = \" <<\n",
    "count_if(v.begin(), v.end(), [](int i) { return i%3 == 0;}) << \"\\n\";"
   ]
  },
  {
   "cell_type": "code",
   "execution_count": null,
   "metadata": {},
   "outputs": [],
   "source": []
  }
 ],
 "metadata": {
  "kernelspec": {
   "display_name": "C++14",
   "language": "C++14",
   "name": "xeus-cling-cpp14"
  },
  "language_info": {
   "codemirror_mode": "text/x-c++src",
   "file_extension": ".cpp",
   "mimetype": "text/x-c++src",
   "name": "c++",
   "version": "-std=c++14"
  }
 },
 "nbformat": 4,
 "nbformat_minor": 2
}
