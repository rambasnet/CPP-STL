{
 "cells": [
  {
   "cell_type": "markdown",
   "metadata": {},
   "source": [
    "# Algorithms\n",
    "https://en.cppreference.com/w/cpp/algorithm\n",
    "- defines functions for a variety of purposes (e.g. searching, sorting, counting, manipulating) that operate on ranges of elements\n",
    "- range is defined as `[first, last)`, where last refers to the element past the last element\n",
    "- must include `algorithm` header file\n",
    "\n",
    "## Table of Contents\n",
    "- [Non-modifying sequence functions](#non-modifying)\n",
    "- [Modifying sequence operations](#modifying)\n",
    "- [Sorting operations](#sorting)\n"
   ]
  },
  {
   "cell_type": "markdown",
   "metadata": {},
   "source": [
    "## Header files used in this notebook"
   ]
  },
  {
   "cell_type": "code",
   "execution_count": 1,
   "metadata": {},
   "outputs": [],
   "source": [
    "#include <iostream>\n",
    "#include <vector>\n",
    "#include <algorithm>\n",
    "#include <string>\n",
    "#include <cctype> // isspace(x)\n",
    "#include <iterator>\n",
    "\n",
    "\n",
    "using namespace std;"
   ]
  },
  {
   "cell_type": "markdown",
   "metadata": {},
   "source": [
    "<a id=\"non-modifying\"></a>"
   ]
  },
  {
   "cell_type": "markdown",
   "metadata": {},
   "source": [
    "## Non-modifying sequence operations"
   ]
  },
  {
   "cell_type": "markdown",
   "metadata": {},
   "source": [
    "### for_each \n",
    "- applies a function to a range of elements"
   ]
  },
  {
   "cell_type": "code",
   "execution_count": 2,
   "metadata": {},
   "outputs": [],
   "source": [
    "vector<int> nums{3, 4, 2, 8, 15, 267};"
   ]
  },
  {
   "cell_type": "code",
   "execution_count": 3,
   "metadata": {},
   "outputs": [],
   "source": [
    "// increment each element in nums by 1\n",
    "for_each(nums.begin(), nums.end(), [](int &n){ n++; });"
   ]
  },
  {
   "cell_type": "code",
   "execution_count": 4,
   "metadata": {},
   "outputs": [
    {
     "name": "stdout",
     "output_type": "stream",
     "text": [
      " 4 5 3 9 16 268"
     ]
    }
   ],
   "source": [
    "// print nums\n",
    "for_each(nums.begin(), nums.end(), [](const int& n) { cout << \" \" << n; });"
   ]
  },
  {
   "cell_type": "markdown",
   "metadata": {},
   "source": [
    "### count, count_if\n",
    " - returns the number of elements in the range `[first, last)` satisfying specific criteria"
   ]
  },
  {
   "cell_type": "code",
   "execution_count": 5,
   "metadata": {},
   "outputs": [],
   "source": [
    "vector<int> v{ 1, 2, 3, 4, 4, 3, 7, 8, 9, 10 };"
   ]
  },
  {
   "cell_type": "code",
   "execution_count": 6,
   "metadata": {},
   "outputs": [
    {
     "name": "stdout",
     "output_type": "stream",
     "text": [
      "3 appears 2 times.\n",
      "4 appears 2 times.\n"
     ]
    }
   ],
   "source": [
    "cout << \"3 appears \" << count(v.begin(), v.end(), 3) << \" times.\\n\";\n",
    "cout << \"4 appears \" << count(v.begin(), v.end(), 3) << \" times.\\n\";"
   ]
  },
  {
   "cell_type": "code",
   "execution_count": 7,
   "metadata": {},
   "outputs": [
    {
     "name": "stdout",
     "output_type": "stream",
     "text": [
      "total numbers divisible by 3 = 3\n"
     ]
    }
   ],
   "source": [
    "cout << \"total numbers divisible by 3 = \" <<\n",
    "count_if(v.begin(), v.end(), [](int i) { return i%3 == 0;}) << \"\\n\";"
   ]
  },
  {
   "cell_type": "markdown",
   "metadata": {},
   "source": [
    "### find, find_if, find_if_not, search\n",
    "- finds the first element satisfying specific criteria"
   ]
  },
  {
   "cell_type": "code",
   "execution_count": 8,
   "metadata": {},
   "outputs": [],
   "source": [
    "vector<int> v1 = {0, 1, 2, 3, 4};"
   ]
  },
  {
   "cell_type": "code",
   "execution_count": 9,
   "metadata": {},
   "outputs": [],
   "source": [
    "auto result = find(v1.begin(), v1.end(), 3);"
   ]
  },
  {
   "cell_type": "code",
   "execution_count": 10,
   "metadata": {},
   "outputs": [
    {
     "name": "stdout",
     "output_type": "stream",
     "text": [
      "v1 contains: 3\n"
     ]
    }
   ],
   "source": [
    "if (result != v1.end())\n",
    "    cout << \"v1 contains: \" << 3 << endl;\n",
    "else\n",
    "    cout << \"v1 does not contain: \" << 3 << endl;"
   ]
  },
  {
   "cell_type": "code",
   "execution_count": 11,
   "metadata": {},
   "outputs": [],
   "source": [
    "string haystack = \"why waste time learning, when ignorance is instantaneous?\";"
   ]
  },
  {
   "cell_type": "code",
   "execution_count": 12,
   "metadata": {},
   "outputs": [],
   "source": [
    "string needle = \"ignorance\";"
   ]
  },
  {
   "cell_type": "code",
   "execution_count": 13,
   "metadata": {},
   "outputs": [],
   "source": [
    "auto srchRes = search(haystack.begin(), haystack.end(), needle.begin(), needle.end());"
   ]
  },
  {
   "cell_type": "code",
   "execution_count": 14,
   "metadata": {},
   "outputs": [
    {
     "name": "stdout",
     "output_type": "stream",
     "text": [
      "ignorance found!\n"
     ]
    }
   ],
   "source": [
    "if (srchRes == haystack.end())\n",
    "    cout << needle << \" not found!\\n\";\n",
    "else\n",
    "    cout << needle << \" found!\" << endl;"
   ]
  },
  {
   "cell_type": "markdown",
   "metadata": {},
   "source": [
    "### find_end\n",
    "- finds the last sequence of elements in a centain range"
   ]
  },
  {
   "cell_type": "code",
   "execution_count": 15,
   "metadata": {},
   "outputs": [],
   "source": [
    "vector<int> v2{1, 2, 3, 4, 1, 2, 3, 4, 1, 2, 3, 4};\n",
    "vector<int>::iterator result1;\n",
    "vector<int> t1{1, 2, 3};"
   ]
  },
  {
   "cell_type": "code",
   "execution_count": 16,
   "metadata": {},
   "outputs": [
    {
     "name": "stdout",
     "output_type": "stream",
     "text": [
      "last occurrence is at index: 8\n"
     ]
    }
   ],
   "source": [
    "result1 = std::find_end(v2.begin(), v2.end(), t1.begin(), t1.end());\n",
    "if (result == v2.end())\n",
    "    cout << \"sequence not found\\n\";\n",
    "else\n",
    "    cout << \"last occurrence is at index: \"\n",
    "              << distance(v2.begin(), result1) << \"\\n\";\n"
   ]
  },
  {
   "cell_type": "markdown",
   "metadata": {},
   "source": [
    "<a id=\"modifying\"></a>"
   ]
  },
  {
   "cell_type": "markdown",
   "metadata": {},
   "source": [
    "## Modifying sequence operations"
   ]
  },
  {
   "cell_type": "markdown",
   "metadata": {},
   "source": [
    "### fill, fill_n\n",
    "- assigns the given value to the elements in the range"
   ]
  },
  {
   "cell_type": "code",
   "execution_count": 17,
   "metadata": {},
   "outputs": [],
   "source": [
    "vector<int> v3(10);"
   ]
  },
  {
   "cell_type": "code",
   "execution_count": 18,
   "metadata": {},
   "outputs": [],
   "source": [
    "fill(v3.begin(), v3.end(), -1);"
   ]
  },
  {
   "cell_type": "code",
   "execution_count": 19,
   "metadata": {},
   "outputs": [
    {
     "data": {
      "text/plain": [
       "{ -1, -1, -1, -1, -1, -1, -1, -1, -1, -1 }"
      ]
     },
     "execution_count": 19,
     "metadata": {},
     "output_type": "execute_result"
    }
   ],
   "source": [
    "v3"
   ]
  },
  {
   "cell_type": "code",
   "execution_count": 20,
   "metadata": {},
   "outputs": [],
   "source": [
    "fill_n(v3.begin(), 5, -2);"
   ]
  },
  {
   "cell_type": "code",
   "execution_count": 21,
   "metadata": {},
   "outputs": [
    {
     "data": {
      "text/plain": [
       "{ -2, -2, -2, -2, -2, -1, -1, -1, -1, -1 }"
      ]
     },
     "execution_count": 21,
     "metadata": {},
     "output_type": "execute_result"
    }
   ],
   "source": [
    "v3"
   ]
  },
  {
   "cell_type": "markdown",
   "metadata": {},
   "source": [
    "### reverse\n",
    "- reverses the order of elements in a range in place"
   ]
  },
  {
   "cell_type": "code",
   "execution_count": 23,
   "metadata": {},
   "outputs": [],
   "source": [
    "vector<int> v4 = {1, 2, 3, 4, 5};"
   ]
  },
  {
   "cell_type": "code",
   "execution_count": 24,
   "metadata": {},
   "outputs": [],
   "source": [
    "reverse(v4.begin(), v4.end())"
   ]
  },
  {
   "cell_type": "code",
   "execution_count": 25,
   "metadata": {},
   "outputs": [
    {
     "data": {
      "text/plain": [
       "{ 5, 4, 3, 2, 1 }"
      ]
     },
     "execution_count": 25,
     "metadata": {},
     "output_type": "execute_result"
    }
   ],
   "source": [
    "v4"
   ]
  },
  {
   "cell_type": "markdown",
   "metadata": {},
   "source": [
    "### unique\n",
    "- eliminates all but the first element from every consecutive group of equivalent elements from the range\n",
    "- returns forward iterator to the new end of the range\n",
    "- call erase method of the container to delete the duplicates"
   ]
  },
  {
   "cell_type": "code",
   "execution_count": 26,
   "metadata": {},
   "outputs": [],
   "source": [
    "// remove duplicate elements\n",
    "vector<int> v5{1,2,3,1,2,3,3,4,5,4,5,6,7};"
   ]
  },
  {
   "cell_type": "code",
   "execution_count": 27,
   "metadata": {},
   "outputs": [],
   "source": [
    "auto last = unique(v5.begin(), v5.end());"
   ]
  },
  {
   "cell_type": "code",
   "execution_count": 28,
   "metadata": {},
   "outputs": [
    {
     "data": {
      "text/plain": [
       "{ 1, 2, 3, 1, 2, 3, 4, 5, 4, 5, 6, 7, 7 }"
      ]
     },
     "execution_count": 28,
     "metadata": {},
     "output_type": "execute_result"
    }
   ],
   "source": [
    "v5"
   ]
  },
  {
   "cell_type": "code",
   "execution_count": 29,
   "metadata": {},
   "outputs": [
    {
     "data": {
      "text/plain": [
       "7"
      ]
     },
     "execution_count": 29,
     "metadata": {},
     "output_type": "execute_result"
    }
   ],
   "source": [
    "*last"
   ]
  },
  {
   "cell_type": "code",
   "execution_count": 30,
   "metadata": {},
   "outputs": [
    {
     "data": {
      "text/plain": [
       "@0x7fcc8b20cf90"
      ]
     },
     "execution_count": 30,
     "metadata": {},
     "output_type": "execute_result"
    }
   ],
   "source": [
    "// erase all the elements from new last to the end of old last\n",
    "v5.erase(last, v5.end())"
   ]
  },
  {
   "cell_type": "code",
   "execution_count": 31,
   "metadata": {},
   "outputs": [
    {
     "data": {
      "text/plain": [
       "{ 1, 2, 3, 1, 2, 3, 4, 5, 4, 5, 6, 7 }"
      ]
     },
     "execution_count": 31,
     "metadata": {},
     "output_type": "execute_result"
    }
   ],
   "source": [
    "v5"
   ]
  },
  {
   "cell_type": "code",
   "execution_count": 32,
   "metadata": {},
   "outputs": [],
   "source": [
    "string input = \"apaxiaaaaaaannnnnssssss\";"
   ]
  },
  {
   "cell_type": "code",
   "execution_count": 33,
   "metadata": {},
   "outputs": [],
   "source": [
    "auto newLast = unique(input.begin(), input.end());"
   ]
  },
  {
   "cell_type": "code",
   "execution_count": 34,
   "metadata": {},
   "outputs": [
    {
     "data": {
      "text/plain": [
       "@0x7fcc8bd64cf0"
      ]
     },
     "execution_count": 34,
     "metadata": {},
     "output_type": "execute_result"
    }
   ],
   "source": [
    "input.erase(newLast, input.end())"
   ]
  },
  {
   "cell_type": "code",
   "execution_count": 35,
   "metadata": {},
   "outputs": [
    {
     "data": {
      "text/plain": [
       "\"apaxians\""
      ]
     },
     "execution_count": 35,
     "metadata": {},
     "output_type": "execute_result"
    }
   ],
   "source": [
    "input"
   ]
  },
  {
   "cell_type": "markdown",
   "metadata": {},
   "source": [
    "### remove\n",
    "- removes all elements satisfying specific criteria from the range `[first, last)` \n",
    "- elements to be removed appear towards the end\n",
    "- returns iterator to the end of the new sequence\n",
    "- follow with erase method of the container to actually erase/delete the elements marked for removal"
   ]
  },
  {
   "cell_type": "code",
   "execution_count": 36,
   "metadata": {},
   "outputs": [],
   "source": [
    "string str2 = \"Text with some   spaces\";"
   ]
  },
  {
   "cell_type": "code",
   "execution_count": 37,
   "metadata": {},
   "outputs": [
    {
     "data": {
      "text/plain": [
       "@0x7fcc8bd64cf0"
      ]
     },
     "execution_count": 37,
     "metadata": {},
     "output_type": "execute_result"
    }
   ],
   "source": [
    "str2.erase(remove(str2.begin(), str2.end(), ' '), str2.end())"
   ]
  },
  {
   "cell_type": "code",
   "execution_count": 38,
   "metadata": {},
   "outputs": [
    {
     "data": {
      "text/plain": [
       "\"Textwithsomespaces\""
      ]
     },
     "execution_count": 38,
     "metadata": {},
     "output_type": "execute_result"
    }
   ],
   "source": [
    "str2"
   ]
  },
  {
   "cell_type": "code",
   "execution_count": 39,
   "metadata": {},
   "outputs": [],
   "source": [
    "string str3 = \"Text\\n with\\tsome \\t  whitespaces\\n\\n\";"
   ]
  },
  {
   "cell_type": "code",
   "execution_count": 40,
   "metadata": {},
   "outputs": [
    {
     "data": {
      "text/plain": [
       "\"Text\n",
       " with\tsome \t  whitespaces\n",
       "\n",
       "\""
      ]
     },
     "execution_count": 40,
     "metadata": {},
     "output_type": "execute_result"
    }
   ],
   "source": [
    "str3"
   ]
  },
  {
   "cell_type": "code",
   "execution_count": 41,
   "metadata": {},
   "outputs": [],
   "source": [
    "str3.erase(remove_if(str3.begin(), str3.end(), \n",
    "                      [](char x){return isspace(x);}), str3.end());"
   ]
  },
  {
   "cell_type": "code",
   "execution_count": 42,
   "metadata": {},
   "outputs": [
    {
     "data": {
      "text/plain": [
       "\"Textwithsomewhitespaces\""
      ]
     },
     "execution_count": 42,
     "metadata": {},
     "output_type": "execute_result"
    }
   ],
   "source": [
    "str3"
   ]
  },
  {
   "cell_type": "markdown",
   "metadata": {},
   "source": [
    "<a id=\"sorting\"></a>"
   ]
  },
  {
   "cell_type": "markdown",
   "metadata": {},
   "source": [
    "## Sorting operations"
   ]
  },
  {
   "cell_type": "markdown",
   "metadata": {},
   "source": [
    "### is_sorted\n",
    "- checks if the elements in range `[first, last)` are sorted in ascending order (non-decreasing order)"
   ]
  },
  {
   "cell_type": "code",
   "execution_count": 43,
   "metadata": {},
   "outputs": [],
   "source": [
    "int digits[] = {3, 1, 4, 1, 5};"
   ]
  },
  {
   "cell_type": "code",
   "execution_count": 45,
   "metadata": {},
   "outputs": [
    {
     "name": "stdout",
     "output_type": "stream",
     "text": [
      " is sorted? false\n"
     ]
    }
   ],
   "source": [
    "cout << \" is sorted? \" << boolalpha << \n",
    "    is_sorted(begin(digits), end(digits)) << '\\n';"
   ]
  },
  {
   "cell_type": "markdown",
   "metadata": {},
   "source": [
    "### sort\n",
    "- sort elements in range `[first, last)` in ascending order (non-decreasing order)\n",
    "- the order of equal elements is not guaranteed to be preserved\n",
    "- running time complexity is `O(N.log(N)` comparisons"
   ]
  },
  {
   "cell_type": "code",
   "execution_count": 46,
   "metadata": {},
   "outputs": [],
   "source": [
    "sort(begin(digits), end(digits));"
   ]
  },
  {
   "cell_type": "code",
   "execution_count": 47,
   "metadata": {},
   "outputs": [
    {
     "data": {
      "text/plain": [
       "{ 1, 1, 3, 4, 5 }"
      ]
     },
     "execution_count": 47,
     "metadata": {},
     "output_type": "execute_result"
    }
   ],
   "source": [
    "digits"
   ]
  },
  {
   "cell_type": "code",
   "execution_count": 48,
   "metadata": {},
   "outputs": [
    {
     "name": "stdout",
     "output_type": "stream",
     "text": [
      " is sorted? true\n"
     ]
    }
   ],
   "source": [
    "cout << \" is sorted? \" << boolalpha << \n",
    "    is_sorted(begin(digits), end(digits)) << '\\n';"
   ]
  },
  {
   "cell_type": "code",
   "execution_count": 50,
   "metadata": {},
   "outputs": [],
   "source": [
    "vector<int> nums1 = {5, 7, 4, 2, 8, 6, 1, 9, 0, 3};"
   ]
  },
  {
   "cell_type": "code",
   "execution_count": 51,
   "metadata": {},
   "outputs": [
    {
     "name": "stdout",
     "output_type": "stream",
     "text": [
      " is sorted? false\n"
     ]
    }
   ],
   "source": [
    "cout << \" is sorted? \" << boolalpha << \n",
    "    is_sorted(nums1.begin(), nums1.end()) << '\\n';"
   ]
  },
  {
   "cell_type": "code",
   "execution_count": 52,
   "metadata": {},
   "outputs": [],
   "source": [
    "sort(nums1.begin(), nums1.end());"
   ]
  },
  {
   "cell_type": "code",
   "execution_count": 53,
   "metadata": {},
   "outputs": [
    {
     "data": {
      "text/plain": [
       "{ 0, 1, 2, 3, 4, 5, 6, 7, 8, 9 }"
      ]
     },
     "execution_count": 53,
     "metadata": {},
     "output_type": "execute_result"
    }
   ],
   "source": [
    "nums1"
   ]
  },
  {
   "cell_type": "code",
   "execution_count": 54,
   "metadata": {},
   "outputs": [],
   "source": [
    "// sort in descending order\n",
    "sort(nums1.begin(), nums1.end(), greater<int>());"
   ]
  },
  {
   "cell_type": "code",
   "execution_count": 55,
   "metadata": {},
   "outputs": [
    {
     "data": {
      "text/plain": [
       "{ 9, 8, 7, 6, 5, 4, 3, 2, 1, 0 }"
      ]
     },
     "execution_count": 55,
     "metadata": {},
     "output_type": "execute_result"
    }
   ],
   "source": [
    "nums1"
   ]
  },
  {
   "cell_type": "markdown",
   "metadata": {},
   "source": [
    "### stable_sort\n",
    "- sorts elements in the range `[first, last)` in ascending order\n",
    "- the order of equivalent elements is guaranted to be preserved\n",
    "- running time complexity is `O(N.log(N)^2)`"
   ]
  },
  {
   "cell_type": "code",
   "execution_count": 56,
   "metadata": {},
   "outputs": [],
   "source": [
    "struct Employee\n",
    "{\n",
    "    int age;\n",
    "    string name;  // Does not participate in comparisons\n",
    "    \n",
    "    // overload < operator to be able to sort to employees based on their age\n",
    "    bool operator<(const Employee& rhs) const {\n",
    "        return this->age < rhs.age;\n",
    "    }\n",
    "};"
   ]
  },
  {
   "cell_type": "code",
   "execution_count": 57,
   "metadata": {},
   "outputs": [],
   "source": [
    "vector<Employee> emps =\n",
    "    { \n",
    "        {108, \"Zaphod\"},\n",
    "        {32, \"Arthur\"},\n",
    "        {108, \"Ford\"},\n",
    "    };  "
   ]
  },
  {
   "cell_type": "code",
   "execution_count": 58,
   "metadata": {},
   "outputs": [],
   "source": [
    "stable_sort(emps.begin(), emps.end());"
   ]
  },
  {
   "cell_type": "code",
   "execution_count": 59,
   "metadata": {},
   "outputs": [
    {
     "name": "stdout",
     "output_type": "stream",
     "text": [
      "32, Arthur\n",
      "108, Zaphod\n",
      "108, Ford\n"
     ]
    }
   ],
   "source": [
    "for (const auto &e : emps)\n",
    "    cout << e.age << \", \" << e.name << endl;"
   ]
  },
  {
   "cell_type": "code",
   "execution_count": null,
   "metadata": {},
   "outputs": [],
   "source": []
  }
 ],
 "metadata": {
  "kernelspec": {
   "display_name": "C++14",
   "language": "C++14",
   "name": "xeus-cling-cpp14"
  },
  "language_info": {
   "codemirror_mode": "text/x-c++src",
   "file_extension": ".cpp",
   "mimetype": "text/x-c++src",
   "name": "c++",
   "version": "-std=c++14"
  }
 },
 "nbformat": 4,
 "nbformat_minor": 2
}
