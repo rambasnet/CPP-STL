{
 "cells": [
  {
   "cell_type": "markdown",
   "metadata": {},
   "source": [
    "# Algorithms\n",
    "https://en.cppreference.com/w/cpp/algorithm\n",
    "- defines functions for a variety of purposes (e.g. searching, sorting, counting, manipulating) that operate on ranges of elements\n",
    "- range is defined as `[first, last)`, where last refers to the element past the last element\n",
    "- must include `algorithm` header file and use std namespace\n",
    "\n",
    "## Table of Contents\n",
    "- [Non-modifying sequence functions](#non-modifying)\n",
    "    - [for_each](#foreach)\n",
    "    - [count, count_if](#count)\n",
    "    - [find, find_if, search](#find)\n",
    "    - [find_end](#findend)\n",
    "- [Modifying sequence operations](#modifying)\n",
    "    - [fill, fill_n](#fill)\n",
    "    - [reverse](#reverse)\n",
    "    - [transform](#transform)\n",
    "    - [unique](#unique)\n",
    "    - [remove](#remove)\n",
    "- [Sorting operations](#sorting)\n",
    "    - [is_sorted](#issorted)\n",
    "    - [sort](#sort)\n",
    "    - [stable_sort](#stablesort)\n",
    "- [Binary search](#binarysearch)\n",
    "    - [merge sorted ranges](#merge)\n",
    "- [Set operations](#setops)\n",
    "    - [includes](#includes)\n",
    "    - [set_difference](#differece)\n",
    "    - [set_intersection](#intersection)\n",
    "    - [set_symmetric_difference](#symdiff)\n",
    "- [Heap operations](#heapoperations)\n",
    "    - [Heap data structure](#heapdef)\n",
    "    - [is_heap](#is_heap)\n",
    "    - [make_heap](#make_heap)\n",
    "    - [sort_heap](#sort_heap)\n",
    "    - [push_heap](#push_heap)\n",
    "    - [pop_heap](#pop_heap)\n",
    "- [Min and Max operations](#minmax)\n",
    "    - [max](#max)\n",
    "    - [max_elements](#max_elements)\n",
    "    - [min](#min)\n",
    "    - [min_elements](#min_elements)\n",
    "- [Permutation operations](#permutations)\n",
    "    - [is_permutation](#is_permutation)\n",
    "    - [next_permutation](#next_permutation)\n",
    "- [C Library](#clibrary)\n",
    "    - [qsort](#qsort)\n",
    "    - [bsearch](#bsearch)"
   ]
  },
  {
   "cell_type": "markdown",
   "metadata": {},
   "source": [
    "## Header files used in this notebook"
   ]
  },
  {
   "cell_type": "code",
   "execution_count": 1,
   "metadata": {},
   "outputs": [],
   "source": [
    "#include <iostream>\n",
    "#include <vector>\n",
    "#include <algorithm>\n",
    "#include <string>\n",
    "#include <cctype> // isspace(x)\n",
    "#include <iterator>\n",
    "\n",
    "using namespace std;"
   ]
  },
  {
   "cell_type": "code",
   "execution_count": 2,
   "metadata": {},
   "outputs": [],
   "source": [
    "// operator<< overloaded to print a vector\n",
    "template<class T>\n",
    "ostream& operator<<(ostream& out, const vector<T>& v) {\n",
    "    char comma[3] = {'\\0', ' ', '\\0'};\n",
    "    out << '[';\n",
    "    for (auto& e: v) {\n",
    "        out << comma << e;\n",
    "        comma[0] = ',';\n",
    "    }\n",
    "    out << ']';\n",
    "    return out;\n",
    "}"
   ]
  },
  {
   "cell_type": "markdown",
   "metadata": {},
   "source": [
    "<a id=\"non-modifying\"></a>"
   ]
  },
  {
   "cell_type": "markdown",
   "metadata": {},
   "source": [
    "## Non-modifying sequence operations"
   ]
  },
  {
   "cell_type": "markdown",
   "metadata": {},
   "source": [
    "<a id=\"foreach\"></a>"
   ]
  },
  {
   "cell_type": "markdown",
   "metadata": {},
   "source": [
    "### for_each \n",
    "- applies a function to a range of elements"
   ]
  },
  {
   "cell_type": "code",
   "execution_count": 3,
   "metadata": {},
   "outputs": [],
   "source": [
    "vector<int> nums{3, 4, 2, 8, 15, 267};"
   ]
  },
  {
   "cell_type": "code",
   "execution_count": 4,
   "metadata": {},
   "outputs": [
    {
     "name": "stdout",
     "output_type": "stream",
     "text": [
      "[3, 4, 2, 8, 15, 267]"
     ]
    }
   ],
   "source": [
    "cout << nums;"
   ]
  },
  {
   "cell_type": "code",
   "execution_count": 5,
   "metadata": {},
   "outputs": [],
   "source": [
    "// increment each element in nums by 1\n",
    "for_each(nums.begin(), nums.end(), [](int &n){ n++; });"
   ]
  },
  {
   "cell_type": "code",
   "execution_count": 6,
   "metadata": {},
   "outputs": [
    {
     "name": "stdout",
     "output_type": "stream",
     "text": [
      " 4 5 3 9 16 268"
     ]
    }
   ],
   "source": [
    "// print nums\n",
    "for_each(nums.begin(), nums.end(), [](const int& n) { cout << \" \" << n; });"
   ]
  },
  {
   "cell_type": "markdown",
   "metadata": {},
   "source": [
    "<a id=\"count\"></a>"
   ]
  },
  {
   "cell_type": "markdown",
   "metadata": {},
   "source": [
    "### count, count_if\n",
    " - returns the number of elements in the range `[first, last)` satisfying specific criteria"
   ]
  },
  {
   "cell_type": "code",
   "execution_count": 7,
   "metadata": {},
   "outputs": [],
   "source": [
    "vector<int> v{ 1, 2, 3, 4, 4, 4, 3, 7, 8, 9, 10 };"
   ]
  },
  {
   "cell_type": "code",
   "execution_count": 8,
   "metadata": {},
   "outputs": [
    {
     "name": "stdout",
     "output_type": "stream",
     "text": [
      "3 appears 2 times.\n",
      "4 appears 3 times.\n"
     ]
    }
   ],
   "source": [
    "cout << \"3 appears \" << count(v.begin(), v.end(), 3) << \" times.\\n\";\n",
    "cout << \"4 appears \" << count(v.begin(), v.end(), 4) << \" times.\\n\";"
   ]
  },
  {
   "cell_type": "code",
   "execution_count": 9,
   "metadata": {},
   "outputs": [
    {
     "name": "stdout",
     "output_type": "stream",
     "text": [
      "total numbers divisible by 3 = 3\n"
     ]
    }
   ],
   "source": [
    "cout << \"total numbers divisible by 3 = \" <<\n",
    "count_if(v.begin(), v.end(), [](int i) { return i%3 == 0;}) << \"\\n\";"
   ]
  },
  {
   "cell_type": "markdown",
   "metadata": {},
   "source": [
    "<a id=\"find\"></a>"
   ]
  },
  {
   "cell_type": "markdown",
   "metadata": {},
   "source": [
    "### find, find_if, find_if_not, search\n",
    "- finds the first element satisfying specific criteria"
   ]
  },
  {
   "cell_type": "code",
   "execution_count": 10,
   "metadata": {},
   "outputs": [],
   "source": [
    "vector<int> v1 = {0, 1, 2, 3, 4};"
   ]
  },
  {
   "cell_type": "code",
   "execution_count": 11,
   "metadata": {},
   "outputs": [],
   "source": [
    "auto result = find(v1.begin(), v1.end(), 3);"
   ]
  },
  {
   "cell_type": "code",
   "execution_count": 12,
   "metadata": {},
   "outputs": [
    {
     "name": "stdout",
     "output_type": "stream",
     "text": [
      "v1 contains: 3\n"
     ]
    }
   ],
   "source": [
    "if (result != v1.end())\n",
    "    cout << \"v1 contains: \" << 3 << endl;\n",
    "else\n",
    "    cout << \"v1 does not contain: \" << 3 << endl;"
   ]
  },
  {
   "cell_type": "code",
   "execution_count": 13,
   "metadata": {},
   "outputs": [],
   "source": [
    "string haystack = \"why waste time learning, when ignorance is instantaneous?\";"
   ]
  },
  {
   "cell_type": "code",
   "execution_count": 14,
   "metadata": {},
   "outputs": [],
   "source": [
    "string needle = \"ignorance\";"
   ]
  },
  {
   "cell_type": "code",
   "execution_count": 15,
   "metadata": {},
   "outputs": [],
   "source": [
    "auto srchRes = search(haystack.begin(), haystack.end(), needle.begin(), needle.end());"
   ]
  },
  {
   "cell_type": "code",
   "execution_count": 16,
   "metadata": {},
   "outputs": [
    {
     "name": "stdout",
     "output_type": "stream",
     "text": [
      "ignorance found!\n"
     ]
    }
   ],
   "source": [
    "if (srchRes == haystack.end())\n",
    "    cout << needle << \" not found!\\n\";\n",
    "else\n",
    "    cout << needle << \" found!\" << endl;"
   ]
  },
  {
   "cell_type": "markdown",
   "metadata": {},
   "source": [
    "<a id=\"find_end\"></a>"
   ]
  },
  {
   "cell_type": "markdown",
   "metadata": {},
   "source": [
    "### find_end\n",
    "- finds the last sequence of elements in a centain range"
   ]
  },
  {
   "cell_type": "code",
   "execution_count": 17,
   "metadata": {},
   "outputs": [],
   "source": [
    "vector<int> v2{1, 2, 3, 4, 1, 2, 3, 4, 1, 2, 3, 4};\n",
    "vector<int>::iterator result1;\n",
    "vector<int> t1{1, 2, 3};"
   ]
  },
  {
   "cell_type": "code",
   "execution_count": 18,
   "metadata": {},
   "outputs": [
    {
     "name": "stdout",
     "output_type": "stream",
     "text": [
      "last occurrence is at index: 8\n"
     ]
    }
   ],
   "source": [
    "result1 = std::find_end(v2.begin(), v2.end(), t1.begin(), t1.end());\n",
    "if (result == v2.end())\n",
    "    cout << \"sequence not found\\n\";\n",
    "else\n",
    "    cout << \"last occurrence is at index: \"\n",
    "              << distance(v2.begin(), result1) << \"\\n\";\n"
   ]
  },
  {
   "cell_type": "markdown",
   "metadata": {},
   "source": [
    "<a id=\"modifying\"></a>"
   ]
  },
  {
   "cell_type": "markdown",
   "metadata": {},
   "source": [
    "## Modifying sequence operations"
   ]
  },
  {
   "cell_type": "markdown",
   "metadata": {},
   "source": [
    "### fill, fill_n\n",
    "- assigns the given value to the elements in the range"
   ]
  },
  {
   "cell_type": "code",
   "execution_count": 19,
   "metadata": {},
   "outputs": [],
   "source": [
    "// declare a vector v3 of size 10\n",
    "vector<int> v3(10, 1);"
   ]
  },
  {
   "cell_type": "code",
   "execution_count": 20,
   "metadata": {},
   "outputs": [
    {
     "name": "stdout",
     "output_type": "stream",
     "text": [
      "[1, 1, 1, 1, 1, 1, 1, 1, 1, 1]"
     ]
    }
   ],
   "source": [
    "cout << v3;"
   ]
  },
  {
   "cell_type": "code",
   "execution_count": 21,
   "metadata": {},
   "outputs": [],
   "source": [
    "// fill v3 elements with -1\n",
    "fill(v3.begin(), v3.end(), -1);"
   ]
  },
  {
   "cell_type": "code",
   "execution_count": 22,
   "metadata": {},
   "outputs": [
    {
     "name": "stdout",
     "output_type": "stream",
     "text": [
      "[-1, -1, -1, -1, -1, -1, -1, -1, -1, -1]\n"
     ]
    }
   ],
   "source": [
    "cout << v3 << endl;"
   ]
  },
  {
   "cell_type": "code",
   "execution_count": 23,
   "metadata": {},
   "outputs": [],
   "source": [
    "// fill first n elements with given value -2\n",
    "fill_n(v3.begin(), 5, -2);"
   ]
  },
  {
   "cell_type": "code",
   "execution_count": 24,
   "metadata": {},
   "outputs": [
    {
     "name": "stdout",
     "output_type": "stream",
     "text": [
      "[-2, -2, -2, -2, -2, -1, -1, -1, -1, -1]\n"
     ]
    }
   ],
   "source": [
    "cout << v3 << endl;"
   ]
  },
  {
   "cell_type": "markdown",
   "metadata": {},
   "source": [
    "<a id=\"reverse\"></a>"
   ]
  },
  {
   "cell_type": "markdown",
   "metadata": {},
   "source": [
    "### reverse\n",
    "- reverses the order of elements in a range in place"
   ]
  },
  {
   "cell_type": "code",
   "execution_count": 25,
   "metadata": {},
   "outputs": [],
   "source": [
    "vector<int> v4 = {1, 2, 3, 4, 5};"
   ]
  },
  {
   "cell_type": "code",
   "execution_count": 26,
   "metadata": {},
   "outputs": [],
   "source": [
    "// reverse vector in place\n",
    "reverse(v4.begin(), v4.end())"
   ]
  },
  {
   "cell_type": "code",
   "execution_count": 27,
   "metadata": {},
   "outputs": [
    {
     "data": {
      "text/plain": [
       "{ 5, 4, 3, 2, 1 }"
      ]
     },
     "execution_count": 27,
     "metadata": {},
     "output_type": "execute_result"
    }
   ],
   "source": [
    "v4"
   ]
  },
  {
   "cell_type": "markdown",
   "metadata": {},
   "source": [
    "<a id=\"transform\"></a>"
   ]
  },
  {
   "cell_type": "markdown",
   "metadata": {},
   "source": [
    "### transform\n",
    "- transform applies the given function to a range and stores the result in another range, beginning at d_first (passed as the third argument)"
   ]
  },
  {
   "cell_type": "code",
   "execution_count": 28,
   "metadata": {},
   "outputs": [
    {
     "name": "stdout",
     "output_type": "stream",
     "text": [
      "HELLO\n"
     ]
    }
   ],
   "source": [
    "// transform lowercase to uppercase\n",
    "string s = \"hello\";\n",
    "transform(s.begin(), s.end(), s.begin(), [](unsigned char c){ return toupper(c); });\n",
    "cout << s << endl;"
   ]
  },
  {
   "cell_type": "code",
   "execution_count": 29,
   "metadata": {},
   "outputs": [],
   "source": [
    "// transform each char to its ASCII value\n",
    "string s1 = \"ABCDE\";\n",
    "vector<unsigned int> ordinals;"
   ]
  },
  {
   "cell_type": "code",
   "execution_count": 30,
   "metadata": {},
   "outputs": [
    {
     "name": "stdout",
     "output_type": "stream",
     "text": [
      "[65, 66, 67, 68, 69]\n"
     ]
    }
   ],
   "source": [
    "// uses back_inserter iterator to insert transformed elements to\n",
    "transform(s1.begin(), s1.end(), back_inserter(ordinals), \n",
    "          [](unsigned char c){ return c; });\n",
    "cout << ordinals << endl;"
   ]
  },
  {
   "cell_type": "markdown",
   "metadata": {},
   "source": [
    "<a id=\"unique\"></a>"
   ]
  },
  {
   "cell_type": "markdown",
   "metadata": {},
   "source": [
    "### unique\n",
    "- eliminates all but the first element from every consecutive group of equivalent elements from the range\n",
    "- returns forward iterator to the new end of the range\n",
    "- call erase method of the container to delete the duplicates"
   ]
  },
  {
   "cell_type": "code",
   "execution_count": 31,
   "metadata": {},
   "outputs": [],
   "source": [
    "// remove duplicate elements\n",
    "vector<int> v5{1, 2, 3, 1, 2, 3, 3, 4, 5, 4, 5, 6, 7};"
   ]
  },
  {
   "cell_type": "code",
   "execution_count": 32,
   "metadata": {},
   "outputs": [],
   "source": [
    "sort(v5.begin(), v5.end());"
   ]
  },
  {
   "cell_type": "code",
   "execution_count": 33,
   "metadata": {},
   "outputs": [
    {
     "name": "stdout",
     "output_type": "stream",
     "text": [
      "[1, 1, 2, 2, 3, 3, 3, 4, 4, 5, 5, 6, 7]\n"
     ]
    }
   ],
   "source": [
    "cout << v5 << endl;"
   ]
  },
  {
   "cell_type": "code",
   "execution_count": 34,
   "metadata": {},
   "outputs": [],
   "source": [
    "auto last = unique(v5.begin(), v5.end());"
   ]
  },
  {
   "cell_type": "code",
   "execution_count": 35,
   "metadata": {},
   "outputs": [
    {
     "data": {
      "text/plain": [
       "{ 1, 2, 3, 4, 5, 6, 7, 4, 4, 5, 5, 6, 7 }"
      ]
     },
     "execution_count": 35,
     "metadata": {},
     "output_type": "execute_result"
    }
   ],
   "source": [
    "v5"
   ]
  },
  {
   "cell_type": "code",
   "execution_count": 36,
   "metadata": {},
   "outputs": [
    {
     "data": {
      "text/plain": [
       "4"
      ]
     },
     "execution_count": 36,
     "metadata": {},
     "output_type": "execute_result"
    }
   ],
   "source": [
    "*last // points to the beginning of the sublist where duplicate elements begin"
   ]
  },
  {
   "cell_type": "code",
   "execution_count": 37,
   "metadata": {},
   "outputs": [
    {
     "data": {
      "text/plain": [
       "@0x7fe1a0ca5290"
      ]
     },
     "execution_count": 37,
     "metadata": {},
     "output_type": "execute_result"
    }
   ],
   "source": [
    "// erase all the elements from new last to the end of old last\n",
    "v5.erase(last, v5.end())"
   ]
  },
  {
   "cell_type": "code",
   "execution_count": 38,
   "metadata": {},
   "outputs": [
    {
     "data": {
      "text/plain": [
       "{ 1, 2, 3, 4, 5, 6, 7 }"
      ]
     },
     "execution_count": 38,
     "metadata": {},
     "output_type": "execute_result"
    }
   ],
   "source": [
    "v5"
   ]
  },
  {
   "cell_type": "code",
   "execution_count": 39,
   "metadata": {},
   "outputs": [],
   "source": [
    "// https://open.kattis.com/problems/apaxiaaans\n",
    "string input = \"apaxiaaaaaaannnnnssssss\";"
   ]
  },
  {
   "cell_type": "code",
   "execution_count": 40,
   "metadata": {},
   "outputs": [],
   "source": [
    "// moves all the duplicates towards the end and \n",
    "// returns the iterator to the first duplicate element\n",
    "auto newLast = unique(input.begin(), input.end());"
   ]
  },
  {
   "cell_type": "code",
   "execution_count": 41,
   "metadata": {},
   "outputs": [
    {
     "data": {
      "text/plain": [
       "@0x7fe1a26a0bc0"
      ]
     },
     "execution_count": 41,
     "metadata": {},
     "output_type": "execute_result"
    }
   ],
   "source": [
    "// delete all the duplicate elements from newLast iterator to the end of input\n",
    "input.erase(newLast, input.end())"
   ]
  },
  {
   "cell_type": "code",
   "execution_count": 42,
   "metadata": {},
   "outputs": [
    {
     "data": {
      "text/plain": [
       "\"apaxians\""
      ]
     },
     "execution_count": 42,
     "metadata": {},
     "output_type": "execute_result"
    }
   ],
   "source": [
    "input"
   ]
  },
  {
   "cell_type": "markdown",
   "metadata": {},
   "source": [
    "<a id=\"remove\"></a>"
   ]
  },
  {
   "cell_type": "markdown",
   "metadata": {},
   "source": [
    "### remove\n",
    "- removes all elements satisfying specific criteria from the range `[first, last)` \n",
    "- elements to be removed appear towards the end\n",
    "- returns iterator to the end of the new sequence\n",
    "- follow with erase method of the container to actually erase/delete the elements marked for removal"
   ]
  },
  {
   "cell_type": "code",
   "execution_count": 43,
   "metadata": {},
   "outputs": [],
   "source": [
    "string str2 = \"Text with some   spaces\";"
   ]
  },
  {
   "cell_type": "code",
   "execution_count": 44,
   "metadata": {},
   "outputs": [
    {
     "data": {
      "text/plain": [
       "@0x7fe1a265dea0"
      ]
     },
     "execution_count": 44,
     "metadata": {},
     "output_type": "execute_result"
    }
   ],
   "source": [
    "str2.erase(remove(str2.begin(), str2.end(), ' '), str2.end())"
   ]
  },
  {
   "cell_type": "code",
   "execution_count": 45,
   "metadata": {},
   "outputs": [
    {
     "data": {
      "text/plain": [
       "\"Textwithsomespaces\""
      ]
     },
     "execution_count": 45,
     "metadata": {},
     "output_type": "execute_result"
    }
   ],
   "source": [
    "str2"
   ]
  },
  {
   "cell_type": "code",
   "execution_count": 46,
   "metadata": {},
   "outputs": [],
   "source": [
    "string str3 = \"Text\\n with\\tsome \\t  whitespaces\\n\\n\";"
   ]
  },
  {
   "cell_type": "code",
   "execution_count": 47,
   "metadata": {},
   "outputs": [
    {
     "data": {
      "text/plain": [
       "\"Text\n",
       " with\tsome \t  whitespaces\n",
       "\n",
       "\""
      ]
     },
     "execution_count": 47,
     "metadata": {},
     "output_type": "execute_result"
    }
   ],
   "source": [
    "str3"
   ]
  },
  {
   "cell_type": "code",
   "execution_count": 48,
   "metadata": {},
   "outputs": [],
   "source": [
    "str3.erase(remove_if(str3.begin(), str3.end(), \n",
    "                      [](char x){return isspace(x);}), str3.end());"
   ]
  },
  {
   "cell_type": "code",
   "execution_count": 49,
   "metadata": {},
   "outputs": [
    {
     "data": {
      "text/plain": [
       "\"Textwithsomewhitespaces\""
      ]
     },
     "execution_count": 49,
     "metadata": {},
     "output_type": "execute_result"
    }
   ],
   "source": [
    "str3"
   ]
  },
  {
   "cell_type": "markdown",
   "metadata": {},
   "source": [
    "<a id=\"sorting\"></a>"
   ]
  },
  {
   "cell_type": "markdown",
   "metadata": {},
   "source": [
    "## Sorting operations"
   ]
  },
  {
   "cell_type": "markdown",
   "metadata": {},
   "source": [
    "<a id=\"issorted\"></a>"
   ]
  },
  {
   "cell_type": "markdown",
   "metadata": {},
   "source": [
    "### is_sorted\n",
    "- checks if the elements in range `[first, last)` are sorted in ascending order (non-decreasing order)"
   ]
  },
  {
   "cell_type": "code",
   "execution_count": 50,
   "metadata": {},
   "outputs": [],
   "source": [
    "int digits[] = {3, 1, 4, 1, 5};"
   ]
  },
  {
   "cell_type": "code",
   "execution_count": 51,
   "metadata": {},
   "outputs": [
    {
     "name": "stdout",
     "output_type": "stream",
     "text": [
      " is sorted? false\n"
     ]
    }
   ],
   "source": [
    "cout << \" is sorted? \" << boolalpha << \n",
    "    is_sorted(begin(digits), end(digits)) << '\\n';"
   ]
  },
  {
   "cell_type": "markdown",
   "metadata": {},
   "source": [
    "<a id=\"sort\"></a>"
   ]
  },
  {
   "cell_type": "markdown",
   "metadata": {},
   "source": [
    "### sort\n",
    "- sort elements in range `[first, last)` in ascending order (non-decreasing order)\n",
    "- the order of equal elements is not guaranteed to be preserved\n",
    "- running time complexity is `O(N.log(N)` comparisons"
   ]
  },
  {
   "cell_type": "code",
   "execution_count": 52,
   "metadata": {},
   "outputs": [],
   "source": [
    "sort(begin(digits), end(digits));"
   ]
  },
  {
   "cell_type": "code",
   "execution_count": 53,
   "metadata": {},
   "outputs": [
    {
     "data": {
      "text/plain": [
       "{ 1, 1, 3, 4, 5 }"
      ]
     },
     "execution_count": 53,
     "metadata": {},
     "output_type": "execute_result"
    }
   ],
   "source": [
    "digits"
   ]
  },
  {
   "cell_type": "code",
   "execution_count": 54,
   "metadata": {},
   "outputs": [
    {
     "name": "stdout",
     "output_type": "stream",
     "text": [
      " is sorted? true\n"
     ]
    }
   ],
   "source": [
    "cout << \" is sorted? \" << boolalpha << \n",
    "    is_sorted(begin(digits), end(digits)) << '\\n';"
   ]
  },
  {
   "cell_type": "code",
   "execution_count": 55,
   "metadata": {},
   "outputs": [],
   "source": [
    "vector<int> nums1 = {5, 7, 4, 2, 8, 6, 1, 9, 0, 3};"
   ]
  },
  {
   "cell_type": "code",
   "execution_count": 56,
   "metadata": {},
   "outputs": [
    {
     "name": "stdout",
     "output_type": "stream",
     "text": [
      " is sorted? false\n"
     ]
    }
   ],
   "source": [
    "cout << \" is sorted? \" << boolalpha << \n",
    "    is_sorted(nums1.begin(), nums1.end()) << '\\n';"
   ]
  },
  {
   "cell_type": "code",
   "execution_count": 57,
   "metadata": {},
   "outputs": [],
   "source": [
    "sort(nums1.begin(), nums1.end());"
   ]
  },
  {
   "cell_type": "code",
   "execution_count": 58,
   "metadata": {},
   "outputs": [
    {
     "data": {
      "text/plain": [
       "{ 0, 1, 2, 3, 4, 5, 6, 7, 8, 9 }"
      ]
     },
     "execution_count": 58,
     "metadata": {},
     "output_type": "execute_result"
    }
   ],
   "source": [
    "nums1"
   ]
  },
  {
   "cell_type": "code",
   "execution_count": 59,
   "metadata": {},
   "outputs": [],
   "source": [
    "// sort in descending order\n",
    "sort(nums1.begin(), nums1.end(), greater<int>());"
   ]
  },
  {
   "cell_type": "code",
   "execution_count": 60,
   "metadata": {},
   "outputs": [
    {
     "data": {
      "text/plain": [
       "{ 9, 8, 7, 6, 5, 4, 3, 2, 1, 0 }"
      ]
     },
     "execution_count": 60,
     "metadata": {},
     "output_type": "execute_result"
    }
   ],
   "source": [
    "nums1"
   ]
  },
  {
   "cell_type": "markdown",
   "metadata": {},
   "source": [
    "<a id=\"stable_sort\"></a>"
   ]
  },
  {
   "cell_type": "markdown",
   "metadata": {},
   "source": [
    "### stable_sort\n",
    "- sorts elements in the range `[first, last)` in ascending order\n",
    "- the order of equivalent elements is guaranted to be preserved\n",
    "- running time complexity is `O(N.log(N)^2)`"
   ]
  },
  {
   "cell_type": "code",
   "execution_count": 61,
   "metadata": {},
   "outputs": [],
   "source": [
    "struct Employee\n",
    "{\n",
    "    int age;\n",
    "    string name;  // Does not participate in comparisons\n",
    "    \n",
    "    // overload < operator to be able to sort to employees based on their age\n",
    "    bool operator<(const Employee& rhs) const {\n",
    "        return this->age < rhs.age;\n",
    "    }\n",
    "};"
   ]
  },
  {
   "cell_type": "code",
   "execution_count": 62,
   "metadata": {},
   "outputs": [],
   "source": [
    "vector<Employee> emps =\n",
    "    { \n",
    "        {108, \"Zaphod\"},\n",
    "        {32, \"Arthur\"},\n",
    "        {108, \"Ford\"},\n",
    "    };  "
   ]
  },
  {
   "cell_type": "code",
   "execution_count": 63,
   "metadata": {},
   "outputs": [],
   "source": [
    "stable_sort(emps.begin(), emps.end());"
   ]
  },
  {
   "cell_type": "code",
   "execution_count": 64,
   "metadata": {},
   "outputs": [
    {
     "name": "stdout",
     "output_type": "stream",
     "text": [
      "32, Arthur\n",
      "108, Zaphod\n",
      "108, Ford\n"
     ]
    }
   ],
   "source": [
    "for (const auto &e : emps)\n",
    "    cout << e.age << \", \" << e.name << endl;"
   ]
  },
  {
   "cell_type": "markdown",
   "metadata": {},
   "source": [
    "<a id=\"binarysearch\"></a>"
   ]
  },
  {
   "cell_type": "markdown",
   "metadata": {},
   "source": [
    "### Binary search on sorted ranges\n",
    "- determines if the given elements exist in the given sorted range in ascending order\n",
    "- returns `true` if an element is found, `false` otherwise\n",
    "- the number of comparisons performed is logarithmic in the size of the range ( `O (lg n)`)"
   ]
  },
  {
   "cell_type": "code",
   "execution_count": 65,
   "metadata": {},
   "outputs": [],
   "source": [
    "vector<int> treasures {1, 2, 3, 4, 5, 6, 7, 8, 9, 10};\n",
    "vector<int> searchItems {1, 4, 11};"
   ]
  },
  {
   "cell_type": "code",
   "execution_count": 66,
   "metadata": {},
   "outputs": [
    {
     "name": "stdout",
     "output_type": "stream",
     "text": [
      "search for 1 found!\n",
      "search for 4 found!\n",
      "search for 11 no dice!\n"
     ]
    }
   ],
   "source": [
    "for (auto si: searchItems) {\n",
    "    cout << \"search for \" << si;\n",
    "    if (binary_search(treasures.begin(), treasures.end(), si))\n",
    "        cout << \" found!\\n\";\n",
    "    else\n",
    "        cout << \" no dice!\\n\";\n",
    "}"
   ]
  },
  {
   "cell_type": "markdown",
   "metadata": {},
   "source": [
    "<a id=\"merge\"></a>"
   ]
  },
  {
   "cell_type": "markdown",
   "metadata": {},
   "source": [
    "### Merge two sorted ranges\n",
    "- merge two sorted ranges `[first, last)` and `[first2, last2)` into one sorted range"
   ]
  },
  {
   "cell_type": "code",
   "execution_count": 67,
   "metadata": {},
   "outputs": [],
   "source": [
    "#include <random>\n",
    "// fill the vectors with random numbers\n",
    "random_device rd;\n",
    "//https://en.cppreference.com/w/cpp/numeric/random/mersenne_twister_engine\n",
    "// generates high quality random unsigned ints\n",
    "mt19937 mt(rd());\n",
    "uniform_int_distribution<> dis(0, 9); // numbers between 0 and 9 inclusive\n",
    "\n",
    "vector<int> sv1(10), sv2(10);"
   ]
  },
  {
   "cell_type": "code",
   "execution_count": 68,
   "metadata": {},
   "outputs": [
    {
     "name": "stdout",
     "output_type": "stream",
     "text": [
      "[6, 2, 9, 3, 6, 1, 0, 2, 1, 8][4, 1, 7, 4, 5, 6, 9, 3, 3, 6]"
     ]
    }
   ],
   "source": [
    "// can rerun this over and again to get new set of random numbers\n",
    "generate(sv1.begin(), sv1.end(), bind(dis, ref(mt)));\n",
    "generate(sv2.begin(), sv2.end(), bind(dis, ref(mt)));\n",
    "cout << sv1;\n",
    "cout << sv2;"
   ]
  },
  {
   "cell_type": "code",
   "execution_count": 69,
   "metadata": {},
   "outputs": [
    {
     "name": "stdout",
     "output_type": "stream",
     "text": [
      "[0, 1, 1, 2, 2, 3, 6, 6, 8, 9][1, 3, 3, 4, 4, 5, 6, 6, 7, 9]"
     ]
    }
   ],
   "source": [
    "// sort vectors\n",
    "sort(sv1.begin(), sv1.end());\n",
    "sort(sv2.begin(), sv2.end());\n",
    "cout << sv1;\n",
    "cout << sv2;"
   ]
  },
  {
   "cell_type": "code",
   "execution_count": 70,
   "metadata": {},
   "outputs": [],
   "source": [
    "vector<int> dst;"
   ]
  },
  {
   "cell_type": "code",
   "execution_count": 71,
   "metadata": {},
   "outputs": [
    {
     "name": "stdout",
     "output_type": "stream",
     "text": [
      "[0, 1, 1, 1, 2, 2, 3, 3, 3, 4, 4, 5, 6, 6, 6, 6, 7, 8, 9, 9]20\n"
     ]
    }
   ],
   "source": [
    "// merge two sorted vectors\n",
    "merge(sv1.begin(), sv1.end(), sv2.begin(), sv2.end(), back_inserter(dst));\n",
    "cout << dst;\n",
    "cout << dst.size() << endl;"
   ]
  },
  {
   "cell_type": "markdown",
   "metadata": {},
   "source": [
    "<a id=\"setops\"></a>"
   ]
  },
  {
   "cell_type": "markdown",
   "metadata": {},
   "source": [
    "## Set operations on sorted ranges"
   ]
  },
  {
   "cell_type": "markdown",
   "metadata": {},
   "source": [
    "<a id=\"includes\"></a>"
   ]
  },
  {
   "cell_type": "markdown",
   "metadata": {},
   "source": [
    "### includes\n",
    "- returns true if one set is a subset of another"
   ]
  },
  {
   "cell_type": "code",
   "execution_count": 72,
   "metadata": {},
   "outputs": [],
   "source": [
    "vector<char> set1 = {'a', 'b', 'c', 'f', 'h', 'x'};\n",
    "vector<char> set2 = {'a', 'b', 'c'};\n",
    "vector<char> set3 = {'b', 'f', 'x'};\n",
    "vector<char> set4 = {'b', 'f', 'x', 'z'};"
   ]
  },
  {
   "cell_type": "code",
   "execution_count": 73,
   "metadata": {},
   "outputs": [
    {
     "name": "stdout",
     "output_type": "stream",
     "text": [
      "[a, b, c, f, h, x] includes [a, b, c]? true\n"
     ]
    }
   ],
   "source": [
    "cout << boolalpha << set1 << \" includes \" << set2 << \"? \" <<\n",
    "    includes (set1.begin(), set1.end(), set2.begin(), set2.end()) << endl;"
   ]
  },
  {
   "cell_type": "code",
   "execution_count": 74,
   "metadata": {},
   "outputs": [
    {
     "name": "stdout",
     "output_type": "stream",
     "text": [
      "[a, b, c, f, h, x] includes [b, f, x]? true\n"
     ]
    }
   ],
   "source": [
    "cout << boolalpha << set1 << \" includes \" << set3 << \"? \" <<\n",
    "    includes (set1.begin(), set1.end(), set3.begin(), set3.end()) << endl;"
   ]
  },
  {
   "cell_type": "code",
   "execution_count": 75,
   "metadata": {},
   "outputs": [
    {
     "name": "stdout",
     "output_type": "stream",
     "text": [
      "[a, b, c, f, h, x] includes [b, f, x, z]? false\n"
     ]
    }
   ],
   "source": [
    "cout << boolalpha << set1 << \" includes \" << set4 << \"? \" <<\n",
    "    includes (set1.begin(), set1.end(), set4.begin(), set4.end()) << endl;"
   ]
  },
  {
   "cell_type": "markdown",
   "metadata": {},
   "source": [
    "<a id=\"set_difference\"></a>"
   ]
  },
  {
   "cell_type": "markdown",
   "metadata": {},
   "source": [
    "### set_difference\n",
    "- computes the difference between two ordered sets/ranges"
   ]
  },
  {
   "cell_type": "code",
   "execution_count": 76,
   "metadata": {},
   "outputs": [],
   "source": [
    "vector<int> v10 = {1, 2, 5, 5, 5, 9};\n",
    "vector<int> v11 = {2, 5, 7};\n",
    "vector<int> diff;"
   ]
  },
  {
   "cell_type": "code",
   "execution_count": 77,
   "metadata": {},
   "outputs": [],
   "source": [
    "set_difference(v10.begin(), v10.end(), v11.begin(), v11.end(), back_inserter(diff));"
   ]
  },
  {
   "cell_type": "code",
   "execution_count": 78,
   "metadata": {},
   "outputs": [
    {
     "name": "stdout",
     "output_type": "stream",
     "text": [
      "[1, 2, 5, 5, 5, 9]minus \n",
      "[2, 5, 7]=\n",
      "[1, 5, 5, 9]"
     ]
    }
   ],
   "source": [
    "cout << v10 << \"minus \\n\" << v11 << \"=\\n\" << diff;"
   ]
  },
  {
   "cell_type": "markdown",
   "metadata": {},
   "source": [
    "<a id=\"intersection\"></a>"
   ]
  },
  {
   "cell_type": "markdown",
   "metadata": {},
   "source": [
    "### set_intersection\n",
    "- computes the sorted intersection of two sorted set/ranges"
   ]
  },
  {
   "cell_type": "code",
   "execution_count": 79,
   "metadata": {},
   "outputs": [],
   "source": [
    "vector<int> v_intersection;"
   ]
  },
  {
   "cell_type": "code",
   "execution_count": 80,
   "metadata": {},
   "outputs": [],
   "source": [
    "set_intersection(v10.begin(), v10.end(), v11.begin(), v11.end(), \n",
    "                 back_inserter(v_intersection));"
   ]
  },
  {
   "cell_type": "code",
   "execution_count": 81,
   "metadata": {},
   "outputs": [
    {
     "name": "stdout",
     "output_type": "stream",
     "text": [
      "[2, 5]"
     ]
    }
   ],
   "source": [
    "cout << v_intersection;"
   ]
  },
  {
   "cell_type": "markdown",
   "metadata": {},
   "source": [
    "<a id=\"symdiff\"></a>"
   ]
  },
  {
   "cell_type": "markdown",
   "metadata": {},
   "source": [
    "### set_symmetric_difference\n",
    "- computers symmetric difference of two sorted ranges: the elements that are found in either of the ranges, but not in both of them are copied to the range beginning at d_first"
   ]
  },
  {
   "cell_type": "code",
   "execution_count": 82,
   "metadata": {},
   "outputs": [],
   "source": [
    "vector<int> v12{1,2,3,4,5,6,7,8     };\n",
    "vector<int> v13{        5,  7,  9,10};"
   ]
  },
  {
   "cell_type": "code",
   "execution_count": 83,
   "metadata": {},
   "outputs": [],
   "source": [
    "// just in case if v12 and v13 are not sorted, sort them!\n",
    "sort(v12.begin(), v12.end());\n",
    "sort(v13.begin(), v13.end());"
   ]
  },
  {
   "cell_type": "code",
   "execution_count": 84,
   "metadata": {},
   "outputs": [],
   "source": [
    "vector<int> sym_diff;"
   ]
  },
  {
   "cell_type": "code",
   "execution_count": 85,
   "metadata": {},
   "outputs": [],
   "source": [
    "set_symmetric_difference(v12.begin(), v12.end(), v13.begin(), v13.end(), back_inserter(sym_diff));"
   ]
  },
  {
   "cell_type": "code",
   "execution_count": 86,
   "metadata": {},
   "outputs": [
    {
     "name": "stdout",
     "output_type": "stream",
     "text": [
      "[1, 2, 3, 4, 6, 8, 9, 10]\n"
     ]
    }
   ],
   "source": [
    "cout << sym_diff << endl;"
   ]
  },
  {
   "cell_type": "markdown",
   "metadata": {},
   "source": [
    "### set_union\n",
    "- Constructs a sorted union beginning at a d_begin consisting of the set of elements present in one or both sorted ranges `[begin1, end1)` and `[begin2, end2)`"
   ]
  },
  {
   "cell_type": "code",
   "execution_count": 87,
   "metadata": {},
   "outputs": [],
   "source": [
    "vector<int> v14 = {10,    8, 1, 5, 7, 9};\n",
    "vector<int> v15 = {  15, 8, 1,    7,     35, 20};"
   ]
  },
  {
   "cell_type": "code",
   "execution_count": 88,
   "metadata": {},
   "outputs": [],
   "source": [
    "// sort both containers\n",
    "sort(v14.begin(), v14.end());\n",
    "sort(v15.begin(), v15.end());"
   ]
  },
  {
   "cell_type": "code",
   "execution_count": 89,
   "metadata": {},
   "outputs": [],
   "source": [
    "vector<int> s_union;\n",
    "//s_union.clear();"
   ]
  },
  {
   "cell_type": "code",
   "execution_count": 90,
   "metadata": {},
   "outputs": [],
   "source": [
    "set_union(v14.begin(), v14.end(), v15.begin(), v15.end(), back_inserter(s_union));"
   ]
  },
  {
   "cell_type": "code",
   "execution_count": 91,
   "metadata": {},
   "outputs": [
    {
     "name": "stdout",
     "output_type": "stream",
     "text": [
      "[1, 5, 7, 8, 9, 10, 15, 20, 35]\n"
     ]
    }
   ],
   "source": [
    "cout << s_union << endl;"
   ]
  },
  {
   "cell_type": "markdown",
   "metadata": {},
   "source": [
    "<a id=\"heapoperations\"></a>"
   ]
  },
  {
   "cell_type": "markdown",
   "metadata": {},
   "source": [
    "## Heap Operations\n",
    "\n",
    "<a id=\"heapdef\"> </a>    \n",
    "### Heap (data structure)\n",
    "- https://en.wikipedia.org/wiki/Heap_(data_structure)\n",
    "- specialized tree-based data structure which is essentially an almost complete tree that satisfies the *heap property*\n",
    "    - if P is a parent node of C, then the key (the value) of P is either greater than or equal to (in a *max heap*) or less than or less than or equal to (in a *min heap*) the key of C\n",
    "    - Essentially, *max heap* is range of elements `[f, l)` that has the following properties:\n",
    "        - **With N = l - f, for all 0 < i < N, f [ floor((i-1)/2)) ] >= f [ i ]**\n",
    "    - Example of binary *Max Heap* with node keys being integers from 1 to 100\n",
    "    <img src=\"./resources/Max-Heap.png\" width=\"300px\" />"
   ]
  },
  {
   "cell_type": "markdown",
   "metadata": {},
   "source": [
    "<a id=\"is_heap\"></a>"
   ]
  },
  {
   "cell_type": "markdown",
   "metadata": {},
   "source": [
    "### is_heap\n",
    "- checks if the elements in range `[first, last)` are a *max heap*\n",
    "    - elements are compared using operator<\n",
    "    - elements are compared using the given binary comparison function *comp*\n",
    "- returns `true` if the range is *max heap*, `false` otherwise\n",
    "- Complexity is O(N) linear in the distance between `first` and `last`"
   ]
  },
  {
   "cell_type": "code",
   "execution_count": 92,
   "metadata": {},
   "outputs": [],
   "source": [
    "vector<int> h = { 3, 1, 4, 1, 5, 9 };"
   ]
  },
  {
   "cell_type": "code",
   "execution_count": 93,
   "metadata": {},
   "outputs": [
    {
     "name": "stdout",
     "output_type": "stream",
     "text": [
      "[3, 1, 4, 1, 5, 9] is heap? false\n"
     ]
    }
   ],
   "source": [
    "cout << h << boolalpha << \" is heap? \" << is_heap(h.begin(), h.end()) << endl;"
   ]
  },
  {
   "cell_type": "markdown",
   "metadata": {},
   "source": [
    "<a id=\"make_heap\"></a>"
   ]
  },
  {
   "cell_type": "markdown",
   "metadata": {},
   "source": [
    "### make_heap\n",
    "- constructs a *max heap* or *min heap* in the range `[first, last)`"
   ]
  },
  {
   "cell_type": "code",
   "execution_count": 94,
   "metadata": {},
   "outputs": [
    {
     "name": "stdout",
     "output_type": "stream",
     "text": [
      "making heap...\n",
      "after make_heap, max heap h = [9, 5, 4, 1, 1, 3]\n"
     ]
    }
   ],
   "source": [
    "if (!is_heap(h.begin(), h.end())){\n",
    "    cout << \"making heap...\\n\";\n",
    "    make_heap(h.begin(), h.end()); // uses operator< to compare elements; by default makes max heap\n",
    "}\n",
    "cout << \"after make_heap, max heap h = \" << h << endl;"
   ]
  },
  {
   "cell_type": "code",
   "execution_count": 95,
   "metadata": {},
   "outputs": [],
   "source": [
    "// make mean heap using comp greater() function\n",
    "make_heap(h.begin(), h.end(), greater<int>());"
   ]
  },
  {
   "cell_type": "code",
   "execution_count": 96,
   "metadata": {},
   "outputs": [
    {
     "name": "stdout",
     "output_type": "stream",
     "text": [
      "after make_heap, min heap h = [1, 1, 3, 5, 9, 4]\n"
     ]
    }
   ],
   "source": [
    "cout << \"after make_heap, min heap h = \" << h << endl;"
   ]
  },
  {
   "cell_type": "markdown",
   "metadata": {},
   "source": [
    "<a id=\"sort_heap\"></a>"
   ]
  },
  {
   "cell_type": "markdown",
   "metadata": {},
   "source": [
    "### sort_heap\n",
    "- converts the *max heap* `[first, last)` into a sorted range in ascending order\n",
    "    - the range no longer has the heap property\n",
    "- worst case running time complexity of 2xNxlog(N) ~ N*log(N)"
   ]
  },
  {
   "cell_type": "code",
   "execution_count": 97,
   "metadata": {},
   "outputs": [],
   "source": [
    "vector<int> h1 = {3, 1, 4, 1, 5, 9};"
   ]
  },
  {
   "cell_type": "code",
   "execution_count": 98,
   "metadata": {},
   "outputs": [
    {
     "name": "stdout",
     "output_type": "stream",
     "text": [
      "[3, 1, 4, 1, 5, 9]\n"
     ]
    }
   ],
   "source": [
    "cout << h1 << endl;"
   ]
  },
  {
   "cell_type": "code",
   "execution_count": 99,
   "metadata": {},
   "outputs": [],
   "source": [
    "make_heap(h1.begin(), h1.end());"
   ]
  },
  {
   "cell_type": "code",
   "execution_count": 100,
   "metadata": {},
   "outputs": [
    {
     "name": "stdout",
     "output_type": "stream",
     "text": [
      "heap: [9, 5, 4, 1, 1, 3]\n"
     ]
    }
   ],
   "source": [
    "cout << \"heap: \" << h1 << endl;"
   ]
  },
  {
   "cell_type": "code",
   "execution_count": 101,
   "metadata": {},
   "outputs": [],
   "source": [
    "sort_heap(h1.begin(), h1.end());"
   ]
  },
  {
   "cell_type": "code",
   "execution_count": 102,
   "metadata": {},
   "outputs": [
    {
     "name": "stdout",
     "output_type": "stream",
     "text": [
      "sorted: [1, 1, 3, 4, 5, 9]\n"
     ]
    }
   ],
   "source": [
    "cout << \"sorted: \" << h1 << endl;"
   ]
  },
  {
   "cell_type": "markdown",
   "metadata": {},
   "source": [
    "<a id=\"push_heap\"></a>"
   ]
  },
  {
   "cell_type": "markdown",
   "metadata": {},
   "source": [
    "### push_heap\n",
    "- inserts the element at the position last-1 "
   ]
  },
  {
   "cell_type": "code",
   "execution_count": 103,
   "metadata": {},
   "outputs": [],
   "source": [
    "vector<int> h2 = { 3, 1, 4, 1, 5, 9 };"
   ]
  },
  {
   "cell_type": "code",
   "execution_count": 104,
   "metadata": {},
   "outputs": [],
   "source": [
    "make_heap(h2.begin(), h2.end());"
   ]
  },
  {
   "cell_type": "code",
   "execution_count": 105,
   "metadata": {},
   "outputs": [
    {
     "name": "stdout",
     "output_type": "stream",
     "text": [
      "heap: [9, 5, 4, 1, 1, 3]\n"
     ]
    }
   ],
   "source": [
    "cout << \"heap: \" << h2 << endl;"
   ]
  },
  {
   "cell_type": "code",
   "execution_count": 106,
   "metadata": {},
   "outputs": [
    {
     "name": "stdout",
     "output_type": "stream",
     "text": [
      "vector: [9, 5, 4, 1, 1, 3, 10]\n"
     ]
    }
   ],
   "source": [
    "// first push_back element to the vector\n",
    "h2.push_back(10);\n",
    "cout << \"vector: \" << h2 << endl;"
   ]
  },
  {
   "cell_type": "code",
   "execution_count": 107,
   "metadata": {},
   "outputs": [],
   "source": [
    "push_heap(h2.begin(), h2.end());"
   ]
  },
  {
   "cell_type": "code",
   "execution_count": 108,
   "metadata": {},
   "outputs": [
    {
     "name": "stdout",
     "output_type": "stream",
     "text": [
      "heap: [10, 5, 9, 1, 1, 3, 4]\n"
     ]
    }
   ],
   "source": [
    "cout << \"heap: \" << h2 << endl;"
   ]
  },
  {
   "cell_type": "code",
   "execution_count": 109,
   "metadata": {},
   "outputs": [
    {
     "name": "stdout",
     "output_type": "stream",
     "text": [
      "true"
     ]
    }
   ],
   "source": [
    "cout << boolalpha << is_heap(h2.begin(), h2.end());"
   ]
  },
  {
   "cell_type": "markdown",
   "metadata": {},
   "source": [
    "<a id=\"pop_heap\"></a>"
   ]
  },
  {
   "cell_type": "markdown",
   "metadata": {},
   "source": [
    "### pop_heap\n",
    "- swaps the first value with the last element by swapping the two and making the subrange `[first, last-1)` into a max heap "
   ]
  },
  {
   "cell_type": "code",
   "execution_count": 110,
   "metadata": {},
   "outputs": [],
   "source": [
    "vector<int> h3 = { 3, 1, 4, 1, 5, 9 };"
   ]
  },
  {
   "cell_type": "code",
   "execution_count": 111,
   "metadata": {},
   "outputs": [
    {
     "name": "stdout",
     "output_type": "stream",
     "text": [
      "heap: [9, 5, 4, 1, 1, 3]\n"
     ]
    }
   ],
   "source": [
    "make_heap(h3.begin(), h3.end());\n",
    "cout << \"heap: \" << h3 << endl;"
   ]
  },
  {
   "cell_type": "code",
   "execution_count": 112,
   "metadata": {},
   "outputs": [
    {
     "name": "stdout",
     "output_type": "stream",
     "text": [
      " after pop: [5, 3, 4, 1, 1, 9]\n"
     ]
    }
   ],
   "source": [
    "// pop_heap\n",
    "pop_heap(h3.begin(), h3.end()); // moves the largest to the end\n",
    "cout << \" after pop: \" << h3 << endl;"
   ]
  },
  {
   "cell_type": "code",
   "execution_count": 113,
   "metadata": {},
   "outputs": [],
   "source": [
    "int largest;"
   ]
  },
  {
   "cell_type": "code",
   "execution_count": 114,
   "metadata": {},
   "outputs": [],
   "source": [
    "h3.back(); // store and use largest...\n",
    "h3.pop_back(); // d"
   ]
  },
  {
   "cell_type": "code",
   "execution_count": 115,
   "metadata": {},
   "outputs": [
    {
     "name": "stdout",
     "output_type": "stream",
     "text": [
      " is heap [5, 3, 4, 1, 1]? true\n"
     ]
    }
   ],
   "source": [
    "cout << \" is heap \" << h3 << \"? \" << boolalpha << is_heap(h3.begin(), h3.end()) << endl;"
   ]
  },
  {
   "cell_type": "markdown",
   "metadata": {},
   "source": [
    "<a id=\"minmax\"></a>"
   ]
  },
  {
   "cell_type": "markdown",
   "metadata": {},
   "source": [
    "## Minimum and Maximum Operations"
   ]
  },
  {
   "cell_type": "markdown",
   "metadata": {},
   "source": [
    "<a id=\"max\"></a>"
   ]
  },
  {
   "cell_type": "markdown",
   "metadata": {},
   "source": [
    "### max\n",
    "- returns the greater of the given elements"
   ]
  },
  {
   "cell_type": "code",
   "execution_count": 116,
   "metadata": {},
   "outputs": [
    {
     "name": "stdout",
     "output_type": "stream",
     "text": [
      "larger of 1 and 9999: 9999\n"
     ]
    }
   ],
   "source": [
    "cout << \"larger of 1 and 9999: \" << max(1, 9999) << '\\n';"
   ]
  },
  {
   "cell_type": "code",
   "execution_count": 117,
   "metadata": {},
   "outputs": [
    {
     "name": "stdout",
     "output_type": "stream",
     "text": [
      "larger of 'a', and 'b': b\n"
     ]
    }
   ],
   "source": [
    "cout << \"larger of 'a', and 'b': \" << max('a', 'b') << '\\n';"
   ]
  },
  {
   "cell_type": "code",
   "execution_count": 118,
   "metadata": {},
   "outputs": [
    {
     "name": "stdout",
     "output_type": "stream",
     "text": [
      "longest of \"foo\", \"bar\", and \"hello\": hello\n"
     ]
    }
   ],
   "source": [
    "cout << \"longest of \\\"foo\\\", \\\"bar\\\", and \\\"hello\\\": \" <<\n",
    "                  max( { \"foo\", \"bar\", \"hello\" },\n",
    "                            [](const std::string& s1, const std::string& s2) {\n",
    "                                 return s1.size() < s2.size();\n",
    "                             }) << '\\n';"
   ]
  },
  {
   "cell_type": "markdown",
   "metadata": {},
   "source": [
    "<a id=\"max_element\"></a>"
   ]
  },
  {
   "cell_type": "markdown",
   "metadata": {},
   "source": [
    "### max_element\n",
    "- finds the greatest element in the range `[first, last)`\n",
    "- returns iterator to the max element in the range\n",
    "    - if several elements in the range are equivalent to the greatest element, returns the iterator to the first such element, returns last if range is empty\n",
    "- running time complexity of O (N) linear"
   ]
  },
  {
   "cell_type": "code",
   "execution_count": 119,
   "metadata": {},
   "outputs": [],
   "source": [
    "vector<int> v20 = { 3, 1, -14, 1, 5, 9 };"
   ]
  },
  {
   "cell_type": "code",
   "execution_count": 120,
   "metadata": {},
   "outputs": [
    {
     "name": "stdout",
     "output_type": "stream",
     "text": [
      "[3, 1, -14, 1, 5, 9]\n"
     ]
    }
   ],
   "source": [
    "cout << v20 << endl;"
   ]
  },
  {
   "cell_type": "code",
   "execution_count": 123,
   "metadata": {},
   "outputs": [],
   "source": [
    "auto max_ele = max_element(v20.begin(), v20.end());"
   ]
  },
  {
   "cell_type": "code",
   "execution_count": 124,
   "metadata": {},
   "outputs": [
    {
     "name": "stdout",
     "output_type": "stream",
     "text": [
      "max = 9\n"
     ]
    }
   ],
   "source": [
    "cout << \"max = \" << *max_ele << endl;"
   ]
  },
  {
   "cell_type": "markdown",
   "metadata": {},
   "source": [
    "<a id=\"min\"></a>"
   ]
  },
  {
   "cell_type": "markdown",
   "metadata": {},
   "source": [
    "### min\n",
    "- returns the smaller of the given values"
   ]
  },
  {
   "cell_type": "code",
   "execution_count": 125,
   "metadata": {},
   "outputs": [
    {
     "name": "stdout",
     "output_type": "stream",
     "text": [
      "smaller of 1 and 9999: 1\n"
     ]
    }
   ],
   "source": [
    "cout << \"smaller of 1 and 9999: \" << min(1, 9999) << '\\n';"
   ]
  },
  {
   "cell_type": "code",
   "execution_count": 126,
   "metadata": {},
   "outputs": [
    {
     "name": "stdout",
     "output_type": "stream",
     "text": [
      "smaller of 'a', and 'b': a\n"
     ]
    }
   ],
   "source": [
    "cout << \"smaller of 'a', and 'b': \" << min('a', 'b') << '\\n';"
   ]
  },
  {
   "cell_type": "code",
   "execution_count": 127,
   "metadata": {},
   "outputs": [
    {
     "name": "stdout",
     "output_type": "stream",
     "text": [
      "shortes of \"foo\", \"bar\", and \"hello\": foo\n"
     ]
    }
   ],
   "source": [
    "cout << \"shortes of \\\"foo\\\", \\\"bar\\\", and \\\"hello\\\": \" <<\n",
    "                  min( { \"foo\", \"bar\", \"hello\" },\n",
    "                            [](const std::string& s1, const std::string& s2) {\n",
    "                                 return s1.size() < s2.size();\n",
    "                             }) << '\\n';"
   ]
  },
  {
   "cell_type": "markdown",
   "metadata": {},
   "source": [
    "<a id=\"min_element\"></a>"
   ]
  },
  {
   "cell_type": "markdown",
   "metadata": {},
   "source": [
    "### min_element\n",
    "- finds the smallest element in the range `[first, last)`\n",
    "- returns iterator to the smallest element\n",
    "    - if several elements in the range are equivalent to the smallest element, returns the iterator to the first such element\n",
    "- time complexity: O (N)"
   ]
  },
  {
   "cell_type": "code",
   "execution_count": 128,
   "metadata": {},
   "outputs": [
    {
     "name": "stdout",
     "output_type": "stream",
     "text": [
      "smallest = -14\n"
     ]
    }
   ],
   "source": [
    "vector<int> v21 = { 3, 1, -14, 1, 5, 9 };\n",
    "auto smallest = min_element(v21.begin(), v21.end());\n",
    "cout << \"smallest = \" << *smallest << endl;"
   ]
  },
  {
   "cell_type": "markdown",
   "metadata": {},
   "source": [
    "<a id=\"min_max\"></a>"
   ]
  },
  {
   "cell_type": "markdown",
   "metadata": {},
   "source": [
    "### minmax_element\n",
    "- finds the smallest and greatest element in the range `[first, last)`\n",
    "- returns a pair consisting of an iterator to the smallest element as the first element and an iterator to the greatest element as the second\n",
    "    - if several elements are equivalent to the smallest element, the iterator to the first such element is returned\n",
    "    - if several elements are equivalent to the largest element, the iterator to the last such element is returned"
   ]
  },
  {
   "cell_type": "code",
   "execution_count": 129,
   "metadata": {},
   "outputs": [],
   "source": [
    "vector<int> v22 = { 3, 9, -1, 4, 2, 5, 9 };"
   ]
  },
  {
   "cell_type": "code",
   "execution_count": 130,
   "metadata": {},
   "outputs": [],
   "source": [
    "auto minMax = minmax_element(v22.begin(), v22.end());"
   ]
  },
  {
   "cell_type": "code",
   "execution_count": 131,
   "metadata": {},
   "outputs": [
    {
     "name": "stdout",
     "output_type": "stream",
     "text": [
      "min = -1 max = 9\n"
     ]
    }
   ],
   "source": [
    "cout << \"min = \" << *minMax.first << \" max = \" << *minMax.second << endl;"
   ]
  },
  {
   "cell_type": "markdown",
   "metadata": {},
   "source": [
    "<a id=\"permutations\"></a>"
   ]
  },
  {
   "cell_type": "markdown",
   "metadata": {},
   "source": [
    "### is_permutation\n",
    "- determines if a sequence is a permutation of another sequence\n",
    "- complexity of O (N<sup>2</sup>)"
   ]
  },
  {
   "cell_type": "code",
   "execution_count": 132,
   "metadata": {},
   "outputs": [],
   "source": [
    "vector<int> v23 = {1,2,3,4,5};\n",
    "vector<int> v24 = {3,5,4,1,2};"
   ]
  },
  {
   "cell_type": "code",
   "execution_count": 133,
   "metadata": {},
   "outputs": [
    {
     "name": "stdout",
     "output_type": "stream",
     "text": [
      "[1, 2, 3, 4, 5] is permutation of [3, 5, 4, 1, 2] ? true\n"
     ]
    }
   ],
   "source": [
    "cout << v23 << \" is permutation of \" << v24 << \" ? \" << boolalpha << \n",
    "    is_permutation(v24.begin(), v24.end(), v23.begin(), v23.end()) << endl;"
   ]
  },
  {
   "cell_type": "code",
   "execution_count": 134,
   "metadata": {},
   "outputs": [],
   "source": [
    "vector<int> v25 = {3,5,4,1,1};"
   ]
  },
  {
   "cell_type": "code",
   "execution_count": 135,
   "metadata": {},
   "outputs": [
    {
     "name": "stdout",
     "output_type": "stream",
     "text": [
      "[3, 5, 4, 1, 1] is permutation of [3, 5, 4, 1, 2] ? false\n"
     ]
    }
   ],
   "source": [
    "cout << v25 << \" is permutation of \" << v24 << \" ? \" << boolalpha << \n",
    "    is_permutation(v24.begin(), v24.end(), v25.begin(), v25.end()) << endl;"
   ]
  },
  {
   "cell_type": "markdown",
   "metadata": {},
   "source": [
    "<a id=\"next_permutation\"></a>"
   ]
  },
  {
   "cell_type": "markdown",
   "metadata": {},
   "source": [
    "### next_permutation\n",
    "- transforms the range `[first, last)` into the next permutation from the set of all permutations that are lexicographically ordered with respect to `operator<` or `comp`"
   ]
  },
  {
   "cell_type": "code",
   "execution_count": 3,
   "metadata": {},
   "outputs": [
    {
     "name": "stdout",
     "output_type": "stream",
     "text": [
      "AAB\n",
      "ABA\n",
      "BAA\n"
     ]
    }
   ],
   "source": [
    "// print all three permutations of the string \"ABA\"\n",
    "string str = \"ABA\";\n",
    "sort(str.begin(), str.end());\n",
    "do {\n",
    "    cout << str << endl;\n",
    "} while(next_permutation(str.begin(), str.end()));"
   ]
  },
  {
   "cell_type": "markdown",
   "metadata": {},
   "source": [
    "<a id=\"clibrary\"></a>"
   ]
  },
  {
   "cell_type": "markdown",
   "metadata": {},
   "source": [
    "## C library\n",
    "- defined in header `<cstdlib>`"
   ]
  },
  {
   "cell_type": "markdown",
   "metadata": {},
   "source": [
    "<a id=\"qsort\"></a>"
   ]
  },
  {
   "cell_type": "markdown",
   "metadata": {},
   "source": [
    "### qsort\n",
    "- sorts a range of elements with unspecified type in ascending order\n",
    "- qsort(void* ptr, size_t count, size_t size, comp);\n",
    "    - ptr: pointer to the array to sort\n",
    "    - count : number of elements in the array\n",
    "    - size : size of each element in the array in bytes\n",
    "    - comp : comparison function"
   ]
  },
  {
   "cell_type": "code",
   "execution_count": 4,
   "metadata": {},
   "outputs": [],
   "source": [
    "#include <cstdlib>\n",
    "#include <climits>"
   ]
  },
  {
   "cell_type": "code",
   "execution_count": 5,
   "metadata": {},
   "outputs": [],
   "source": [
    "int nums[] = {-2, 99, 0, -743, 2, INT_MIN, 4};"
   ]
  },
  {
   "cell_type": "code",
   "execution_count": 6,
   "metadata": {},
   "outputs": [
    {
     "name": "stdout",
     "output_type": "stream",
     "text": [
      "-2 99 0 -743 2 -2147483648 4 "
     ]
    }
   ],
   "source": [
    "for(auto e:nums) cout << e << ' ';"
   ]
  },
  {
   "cell_type": "code",
   "execution_count": 7,
   "metadata": {},
   "outputs": [],
   "source": [
    "size_t arrLen = sizeof nums / sizeof *nums; // find total no. of elements in nums array"
   ]
  },
  {
   "cell_type": "code",
   "execution_count": 8,
   "metadata": {},
   "outputs": [],
   "source": [
    "qsort(nums, arrLen, sizeof *nums, [](const void* arg1, const void* arg2) {\n",
    "   int a = *(int*)(arg1);\n",
    "   int b = *(int*)(arg2);\n",
    "   if(a < b) return -1;\n",
    "   if (a > b) return 1;\n",
    "   else return 0;\n",
    "});"
   ]
  },
  {
   "cell_type": "code",
   "execution_count": 9,
   "metadata": {},
   "outputs": [
    {
     "name": "stdout",
     "output_type": "stream",
     "text": [
      "-2147483648 -743 -2 0 2 4 99 "
     ]
    }
   ],
   "source": [
    "for(auto e:nums) cout << e << ' ';"
   ]
  },
  {
   "cell_type": "markdown",
   "metadata": {},
   "source": [
    "<a id=\"bsearch\"></a>"
   ]
  },
  {
   "cell_type": "markdown",
   "metadata": {},
   "source": [
    "### bsearch\n",
    "- performs binary search on sorted sequence\n",
    "- returns pointer to the found element or null pointer if the element not found\n",
    "- complexity of O (lg N)\n",
    "\n",
    "- prototype:\n",
    "    **bsearch( const void* key, const void* ptr, size_t count, size_t size);**\n",
    "    - key - pointer to the element to search for\n",
    "    - ptr - pointer to the array to examine\n",
    "    - count - number of elements in the array\n",
    "    - size of each element in the array in bytes\n",
    "    - comp - comparison function\n",
    "        - returns -1 if the first argument is less than the second\n",
    "        - returns 1 if the first argument is greater than the second\n",
    "        - returns 0 if the two arguments are equal"
   ]
  },
  {
   "cell_type": "code",
   "execution_count": 10,
   "metadata": {},
   "outputs": [],
   "source": [
    "const int ARR_SIZE = 8;\n",
    "int arr[ARR_SIZE] = { 1, 2, 3, 4, 5, 6, 7, 8 };"
   ]
  },
  {
   "cell_type": "code",
   "execution_count": 11,
   "metadata": {},
   "outputs": [],
   "source": [
    "int key = 4;"
   ]
  },
  {
   "cell_type": "code",
   "execution_count": 12,
   "metadata": {},
   "outputs": [],
   "source": [
    "int compare(const void *arg1, const void *arg2)\n",
    "{\n",
    "    const int *a = (int *) arg1;\n",
    "    const int *b = (int *) arg2;\n",
    "    if(*a < *b) return -1;\n",
    "    else if(*a > *b) return 1;\n",
    "    else return 0;\n",
    "}"
   ]
  },
  {
   "cell_type": "code",
   "execution_count": 13,
   "metadata": {},
   "outputs": [],
   "source": [
    "int *p1 = (int *) bsearch(&key, arr, ARR_SIZE, sizeof(arr[0]), compare);"
   ]
  },
  {
   "cell_type": "code",
   "execution_count": 14,
   "metadata": {},
   "outputs": [
    {
     "name": "stdout",
     "output_type": "stream",
     "text": [
      "value 4 found at position 3\n"
     ]
    }
   ],
   "source": [
    "if (p1) // not NULL \n",
    "    cout << \"value \" << key << \" found at position \" << p1 - arr << '\\n';\n",
    "else\n",
    "    cout << \"value \" << key << \" not found\\n\";"
   ]
  },
  {
   "cell_type": "code",
   "execution_count": 15,
   "metadata": {},
   "outputs": [],
   "source": [
    "int key2 = 9;"
   ]
  },
  {
   "cell_type": "code",
   "execution_count": 16,
   "metadata": {},
   "outputs": [],
   "source": [
    "int *p2 = (int *) bsearch(&key2, arr, ARR_SIZE, sizeof(arr[0]), compare);"
   ]
  },
  {
   "cell_type": "code",
   "execution_count": 17,
   "metadata": {},
   "outputs": [
    {
     "name": "stdout",
     "output_type": "stream",
     "text": [
      "value 9 not found\n"
     ]
    }
   ],
   "source": [
    "if (p2) // not NULL \n",
    "    cout << \"value \" << key2 << \" found at position \" << p2 - arr << '\\n';\n",
    "else\n",
    "    cout << \"value \" << key2 << \" not found\\n\";"
   ]
  },
  {
   "cell_type": "code",
   "execution_count": null,
   "metadata": {},
   "outputs": [],
   "source": []
  }
 ],
 "metadata": {
  "kernelspec": {
   "display_name": "C++14",
   "language": "C++14",
   "name": "xeus-cling-cpp14"
  },
  "language_info": {
   "codemirror_mode": "text/x-c++src",
   "file_extension": ".cpp",
   "mimetype": "text/x-c++src",
   "name": "c++",
   "version": "-std=c++14"
  }
 },
 "nbformat": 4,
 "nbformat_minor": 2
}
