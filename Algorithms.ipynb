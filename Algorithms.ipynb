{
 "cells": [
  {
   "cell_type": "markdown",
   "metadata": {},
   "source": [
    "# Algorithms\n",
    "https://en.cppreference.com/w/cpp/algorithm\n",
    "- defines functions for a variety of purposes (e.g. searching, sorting, counting, manipulating) that operate on ranges of elements\n",
    "- range is defined as `[first, last)`, where last refers to the element past the last element\n",
    "- must include `algorithm` header file and use std namespace;\n",
    "\n",
    "## Table of Contents\n",
    "- [Non-modifying sequence functions](#non-modifying)\n",
    "    - [for_each](#foreach)\n",
    "    - [count, count_if](#count)\n",
    "    - [find, find_if, search](#find)\n",
    "    - [find_end](#findend)\n",
    "- [Modifying sequence operations](#modifying)\n",
    "    - [fill, fill_n](#fill)\n",
    "    - [reverse](#reverse)\n",
    "    - [transform](#transform)\n",
    "    - [unique](#unique)\n",
    "    - [remove](#remove)\n",
    "- [Sorting operations](#sorting)\n",
    "    - [is_sorted](#issorted)\n",
    "    - [sort](#sort)\n",
    "    - [stable_sort](#stablesort)\n",
    "- [Binary search](#binarysearch)\n",
    "    - [merge sorted ranges](#merge)\n",
    "- [Set operations](#setops)\n",
    "    - [includes](#includes)\n",
    "    - [set_difference](#differece)\n",
    "    - [set_intersection](#intersection)"
   ]
  },
  {
   "cell_type": "markdown",
   "metadata": {},
   "source": [
    "## Header files used in this notebook"
   ]
  },
  {
   "cell_type": "code",
   "execution_count": 1,
   "metadata": {},
   "outputs": [],
   "source": [
    "#include <iostream>\n",
    "#include <vector>\n",
    "#include <algorithm>\n",
    "#include <string>\n",
    "#include <cctype> // isspace(x)\n",
    "#include <iterator>\n",
    "\n",
    "\n",
    "using namespace std;"
   ]
  },
  {
   "cell_type": "code",
   "execution_count": 2,
   "metadata": {},
   "outputs": [],
   "source": [
    "// operator<< overloaded to print a vector\n",
    "template<class T>\n",
    "ostream& operator<<(ostream& out, const vector<T>& v) {\n",
    "    char comma[3] = {'\\0', ' ', '\\0'};\n",
    "    out << '[';\n",
    "    for (auto& e: v) {\n",
    "        out << comma << e;\n",
    "        comma[0] = ',';\n",
    "    }\n",
    "    out << \"]\\n\";\n",
    "    return out;\n",
    "}"
   ]
  },
  {
   "cell_type": "markdown",
   "metadata": {},
   "source": [
    "<a id=\"non-modifying\"></a>"
   ]
  },
  {
   "cell_type": "markdown",
   "metadata": {},
   "source": [
    "## Non-modifying sequence operations"
   ]
  },
  {
   "cell_type": "markdown",
   "metadata": {},
   "source": [
    "<a id=\"foreach\"></a>"
   ]
  },
  {
   "cell_type": "markdown",
   "metadata": {},
   "source": [
    "### for_each \n",
    "- applies a function to a range of elements"
   ]
  },
  {
   "cell_type": "code",
   "execution_count": 2,
   "metadata": {},
   "outputs": [],
   "source": [
    "vector<int> nums{3, 4, 2, 8, 15, 267};"
   ]
  },
  {
   "cell_type": "code",
   "execution_count": 3,
   "metadata": {},
   "outputs": [],
   "source": [
    "// increment each element in nums by 1\n",
    "for_each(nums.begin(), nums.end(), [](int &n){ n++; });"
   ]
  },
  {
   "cell_type": "code",
   "execution_count": 4,
   "metadata": {},
   "outputs": [
    {
     "name": "stdout",
     "output_type": "stream",
     "text": [
      " 4 5 3 9 16 268"
     ]
    }
   ],
   "source": [
    "// print nums\n",
    "for_each(nums.begin(), nums.end(), [](const int& n) { cout << \" \" << n; });"
   ]
  },
  {
   "cell_type": "markdown",
   "metadata": {},
   "source": [
    "<a id=\"count\"></a>"
   ]
  },
  {
   "cell_type": "markdown",
   "metadata": {},
   "source": [
    "### count, count_if\n",
    " - returns the number of elements in the range `[first, last)` satisfying specific criteria"
   ]
  },
  {
   "cell_type": "code",
   "execution_count": 5,
   "metadata": {},
   "outputs": [],
   "source": [
    "vector<int> v{ 1, 2, 3, 4, 4, 3, 7, 8, 9, 10 };"
   ]
  },
  {
   "cell_type": "code",
   "execution_count": 6,
   "metadata": {},
   "outputs": [
    {
     "name": "stdout",
     "output_type": "stream",
     "text": [
      "3 appears 2 times.\n",
      "4 appears 2 times.\n"
     ]
    }
   ],
   "source": [
    "cout << \"3 appears \" << count(v.begin(), v.end(), 3) << \" times.\\n\";\n",
    "cout << \"4 appears \" << count(v.begin(), v.end(), 3) << \" times.\\n\";"
   ]
  },
  {
   "cell_type": "code",
   "execution_count": 7,
   "metadata": {},
   "outputs": [
    {
     "name": "stdout",
     "output_type": "stream",
     "text": [
      "total numbers divisible by 3 = 3\n"
     ]
    }
   ],
   "source": [
    "cout << \"total numbers divisible by 3 = \" <<\n",
    "count_if(v.begin(), v.end(), [](int i) { return i%3 == 0;}) << \"\\n\";"
   ]
  },
  {
   "cell_type": "markdown",
   "metadata": {},
   "source": [
    "<a id=\"find\"></a>"
   ]
  },
  {
   "cell_type": "markdown",
   "metadata": {},
   "source": [
    "### find, find_if, find_if_not, search\n",
    "- finds the first element satisfying specific criteria"
   ]
  },
  {
   "cell_type": "code",
   "execution_count": 8,
   "metadata": {},
   "outputs": [],
   "source": [
    "vector<int> v1 = {0, 1, 2, 3, 4};"
   ]
  },
  {
   "cell_type": "code",
   "execution_count": 9,
   "metadata": {},
   "outputs": [],
   "source": [
    "auto result = find(v1.begin(), v1.end(), 3);"
   ]
  },
  {
   "cell_type": "code",
   "execution_count": 10,
   "metadata": {},
   "outputs": [
    {
     "name": "stdout",
     "output_type": "stream",
     "text": [
      "v1 contains: 3\n"
     ]
    }
   ],
   "source": [
    "if (result != v1.end())\n",
    "    cout << \"v1 contains: \" << 3 << endl;\n",
    "else\n",
    "    cout << \"v1 does not contain: \" << 3 << endl;"
   ]
  },
  {
   "cell_type": "code",
   "execution_count": 11,
   "metadata": {},
   "outputs": [],
   "source": [
    "string haystack = \"why waste time learning, when ignorance is instantaneous?\";"
   ]
  },
  {
   "cell_type": "code",
   "execution_count": 12,
   "metadata": {},
   "outputs": [],
   "source": [
    "string needle = \"ignorance\";"
   ]
  },
  {
   "cell_type": "code",
   "execution_count": 13,
   "metadata": {},
   "outputs": [],
   "source": [
    "auto srchRes = search(haystack.begin(), haystack.end(), needle.begin(), needle.end());"
   ]
  },
  {
   "cell_type": "code",
   "execution_count": 14,
   "metadata": {},
   "outputs": [
    {
     "name": "stdout",
     "output_type": "stream",
     "text": [
      "ignorance found!\n"
     ]
    }
   ],
   "source": [
    "if (srchRes == haystack.end())\n",
    "    cout << needle << \" not found!\\n\";\n",
    "else\n",
    "    cout << needle << \" found!\" << endl;"
   ]
  },
  {
   "cell_type": "markdown",
   "metadata": {},
   "source": [
    "<a id=\"find_end\"></a>"
   ]
  },
  {
   "cell_type": "markdown",
   "metadata": {},
   "source": [
    "### find_end\n",
    "- finds the last sequence of elements in a centain range"
   ]
  },
  {
   "cell_type": "code",
   "execution_count": 15,
   "metadata": {},
   "outputs": [],
   "source": [
    "vector<int> v2{1, 2, 3, 4, 1, 2, 3, 4, 1, 2, 3, 4};\n",
    "vector<int>::iterator result1;\n",
    "vector<int> t1{1, 2, 3};"
   ]
  },
  {
   "cell_type": "code",
   "execution_count": 16,
   "metadata": {},
   "outputs": [
    {
     "name": "stdout",
     "output_type": "stream",
     "text": [
      "last occurrence is at index: 8\n"
     ]
    }
   ],
   "source": [
    "result1 = std::find_end(v2.begin(), v2.end(), t1.begin(), t1.end());\n",
    "if (result == v2.end())\n",
    "    cout << \"sequence not found\\n\";\n",
    "else\n",
    "    cout << \"last occurrence is at index: \"\n",
    "              << distance(v2.begin(), result1) << \"\\n\";\n"
   ]
  },
  {
   "cell_type": "markdown",
   "metadata": {},
   "source": [
    "<a id=\"modifying\"></a>"
   ]
  },
  {
   "cell_type": "markdown",
   "metadata": {},
   "source": [
    "## Modifying sequence operations"
   ]
  },
  {
   "cell_type": "markdown",
   "metadata": {},
   "source": [
    "### fill, fill_n\n",
    "- assigns the given value to the elements in the range"
   ]
  },
  {
   "cell_type": "code",
   "execution_count": 17,
   "metadata": {},
   "outputs": [],
   "source": [
    "vector<int> v3(10);"
   ]
  },
  {
   "cell_type": "code",
   "execution_count": 18,
   "metadata": {},
   "outputs": [],
   "source": [
    "fill(v3.begin(), v3.end(), -1);"
   ]
  },
  {
   "cell_type": "code",
   "execution_count": 19,
   "metadata": {},
   "outputs": [
    {
     "data": {
      "text/plain": [
       "{ -1, -1, -1, -1, -1, -1, -1, -1, -1, -1 }"
      ]
     },
     "execution_count": 19,
     "metadata": {},
     "output_type": "execute_result"
    }
   ],
   "source": [
    "v3"
   ]
  },
  {
   "cell_type": "code",
   "execution_count": 20,
   "metadata": {},
   "outputs": [],
   "source": [
    "fill_n(v3.begin(), 5, -2);"
   ]
  },
  {
   "cell_type": "code",
   "execution_count": 21,
   "metadata": {},
   "outputs": [
    {
     "data": {
      "text/plain": [
       "{ -2, -2, -2, -2, -2, -1, -1, -1, -1, -1 }"
      ]
     },
     "execution_count": 21,
     "metadata": {},
     "output_type": "execute_result"
    }
   ],
   "source": [
    "v3"
   ]
  },
  {
   "cell_type": "markdown",
   "metadata": {},
   "source": [
    "<a id=\"reverse\"></a>"
   ]
  },
  {
   "cell_type": "markdown",
   "metadata": {},
   "source": [
    "### reverse\n",
    "- reverses the order of elements in a range in place"
   ]
  },
  {
   "cell_type": "code",
   "execution_count": 23,
   "metadata": {},
   "outputs": [],
   "source": [
    "vector<int> v4 = {1, 2, 3, 4, 5};"
   ]
  },
  {
   "cell_type": "code",
   "execution_count": 24,
   "metadata": {},
   "outputs": [],
   "source": [
    "reverse(v4.begin(), v4.end())"
   ]
  },
  {
   "cell_type": "code",
   "execution_count": 25,
   "metadata": {},
   "outputs": [
    {
     "data": {
      "text/plain": [
       "{ 5, 4, 3, 2, 1 }"
      ]
     },
     "execution_count": 25,
     "metadata": {},
     "output_type": "execute_result"
    }
   ],
   "source": [
    "v4"
   ]
  },
  {
   "cell_type": "markdown",
   "metadata": {},
   "source": [
    "<a id=\"transform\"></a>"
   ]
  },
  {
   "cell_type": "markdown",
   "metadata": {},
   "source": [
    "### transform\n",
    "- transform applies the given function to a range and stores the result in another range, beginning at d_first (passed as the third argument)"
   ]
  },
  {
   "cell_type": "code",
   "execution_count": 3,
   "metadata": {},
   "outputs": [
    {
     "name": "stdout",
     "output_type": "stream",
     "text": [
      "HELLO\n"
     ]
    }
   ],
   "source": [
    "// transform lowercase to uppercase\n",
    "string s = \"hello\";\n",
    "transform(s.begin(), s.end(), s.begin(), [](unsigned char c){ return toupper(c); });\n",
    "cout << s << endl;"
   ]
  },
  {
   "cell_type": "code",
   "execution_count": 4,
   "metadata": {},
   "outputs": [],
   "source": [
    "// transform each char to its ASCII value\n",
    "string s1 = \"ABCDE\";\n",
    "vector<unsigned int> ordinals;"
   ]
  },
  {
   "cell_type": "code",
   "execution_count": 5,
   "metadata": {},
   "outputs": [
    {
     "name": "stdout",
     "output_type": "stream",
     "text": [
      "[65, 66, 67, 68, 69]\n",
      "\n"
     ]
    }
   ],
   "source": [
    "// uses back_inserter iterator to insert transformed elements to\n",
    "transform(s1.begin(), s1.end(), back_inserter(ordinals), \n",
    "          [](unsigned char c){ return c; });\n",
    "cout << ordinals << endl;"
   ]
  },
  {
   "cell_type": "markdown",
   "metadata": {},
   "source": [
    "<a id=\"unique\"></a>"
   ]
  },
  {
   "cell_type": "markdown",
   "metadata": {},
   "source": [
    "### unique\n",
    "- eliminates all but the first element from every consecutive group of equivalent elements from the range\n",
    "- returns forward iterator to the new end of the range\n",
    "- call erase method of the container to delete the duplicates"
   ]
  },
  {
   "cell_type": "code",
   "execution_count": 26,
   "metadata": {},
   "outputs": [],
   "source": [
    "// remove duplicate elements\n",
    "vector<int> v5{1,2,3,1,2,3,3,4,5,4,5,6,7};"
   ]
  },
  {
   "cell_type": "code",
   "execution_count": 27,
   "metadata": {},
   "outputs": [],
   "source": [
    "auto last = unique(v5.begin(), v5.end());"
   ]
  },
  {
   "cell_type": "code",
   "execution_count": 28,
   "metadata": {},
   "outputs": [
    {
     "data": {
      "text/plain": [
       "{ 1, 2, 3, 1, 2, 3, 4, 5, 4, 5, 6, 7, 7 }"
      ]
     },
     "execution_count": 28,
     "metadata": {},
     "output_type": "execute_result"
    }
   ],
   "source": [
    "v5"
   ]
  },
  {
   "cell_type": "code",
   "execution_count": 29,
   "metadata": {},
   "outputs": [
    {
     "data": {
      "text/plain": [
       "7"
      ]
     },
     "execution_count": 29,
     "metadata": {},
     "output_type": "execute_result"
    }
   ],
   "source": [
    "*last"
   ]
  },
  {
   "cell_type": "code",
   "execution_count": 30,
   "metadata": {},
   "outputs": [
    {
     "data": {
      "text/plain": [
       "@0x7fcc8b20cf90"
      ]
     },
     "execution_count": 30,
     "metadata": {},
     "output_type": "execute_result"
    }
   ],
   "source": [
    "// erase all the elements from new last to the end of old last\n",
    "v5.erase(last, v5.end())"
   ]
  },
  {
   "cell_type": "code",
   "execution_count": 31,
   "metadata": {},
   "outputs": [
    {
     "data": {
      "text/plain": [
       "{ 1, 2, 3, 1, 2, 3, 4, 5, 4, 5, 6, 7 }"
      ]
     },
     "execution_count": 31,
     "metadata": {},
     "output_type": "execute_result"
    }
   ],
   "source": [
    "v5"
   ]
  },
  {
   "cell_type": "code",
   "execution_count": 32,
   "metadata": {},
   "outputs": [],
   "source": [
    "// https://open.kattis.com/problems/apaxiaaans\n",
    "string input = \"apaxiaaaaaaannnnnssssss\";"
   ]
  },
  {
   "cell_type": "code",
   "execution_count": 33,
   "metadata": {},
   "outputs": [],
   "source": [
    "// moves all the duplicates towards the end and gets\n",
    "// the iterator to the first duplicate element\n",
    "auto newLast = unique(input.begin(), input.end());"
   ]
  },
  {
   "cell_type": "code",
   "execution_count": 6,
   "metadata": {},
   "outputs": [
    {
     "name": "stderr",
     "output_type": "stream",
     "text": [
      "\u001b[1minput_line_13:3:1: \u001b[0m\u001b[0;1;31merror: \u001b[0m\u001b[1muse of undeclared identifier 'input'\u001b[0m\n",
      "input.erase(newLast, input.end())\n",
      "\u001b[0;1;32m^\n",
      "\u001b[0m\u001b[1minput_line_13:3:13: \u001b[0m\u001b[0;1;31merror: \u001b[0m\u001b[1muse of undeclared identifier 'newLast'\u001b[0m\n",
      "input.erase(newLast, input.end())\n",
      "\u001b[0;1;32m            ^\n",
      "\u001b[0m\u001b[1minput_line_13:3:22: \u001b[0m\u001b[0;1;31merror: \u001b[0m\u001b[1muse of undeclared identifier 'input'\u001b[0m\n",
      "input.erase(newLast, input.end())\n",
      "\u001b[0;1;32m                     ^\n",
      "\u001b[0m"
     ]
    },
    {
     "ename": "Interpreter Error",
     "evalue": "",
     "output_type": "error",
     "traceback": [
      "Interpreter Error: "
     ]
    }
   ],
   "source": [
    "// delete all the duplicate elements from newLast iterator to the end of input\n",
    "input.erase(newLast, input.end())"
   ]
  },
  {
   "cell_type": "code",
   "execution_count": 35,
   "metadata": {},
   "outputs": [
    {
     "data": {
      "text/plain": [
       "\"apaxians\""
      ]
     },
     "execution_count": 35,
     "metadata": {},
     "output_type": "execute_result"
    }
   ],
   "source": [
    "input"
   ]
  },
  {
   "cell_type": "markdown",
   "metadata": {},
   "source": [
    "<a id=\"remove\"></a>"
   ]
  },
  {
   "cell_type": "markdown",
   "metadata": {},
   "source": [
    "### remove\n",
    "- removes all elements satisfying specific criteria from the range `[first, last)` \n",
    "- elements to be removed appear towards the end\n",
    "- returns iterator to the end of the new sequence\n",
    "- follow with erase method of the container to actually erase/delete the elements marked for removal"
   ]
  },
  {
   "cell_type": "code",
   "execution_count": 36,
   "metadata": {},
   "outputs": [],
   "source": [
    "string str2 = \"Text with some   spaces\";"
   ]
  },
  {
   "cell_type": "code",
   "execution_count": 37,
   "metadata": {},
   "outputs": [
    {
     "data": {
      "text/plain": [
       "@0x7fcc8bd64cf0"
      ]
     },
     "execution_count": 37,
     "metadata": {},
     "output_type": "execute_result"
    }
   ],
   "source": [
    "str2.erase(remove(str2.begin(), str2.end(), ' '), str2.end())"
   ]
  },
  {
   "cell_type": "code",
   "execution_count": 38,
   "metadata": {},
   "outputs": [
    {
     "data": {
      "text/plain": [
       "\"Textwithsomespaces\""
      ]
     },
     "execution_count": 38,
     "metadata": {},
     "output_type": "execute_result"
    }
   ],
   "source": [
    "str2"
   ]
  },
  {
   "cell_type": "code",
   "execution_count": 39,
   "metadata": {},
   "outputs": [],
   "source": [
    "string str3 = \"Text\\n with\\tsome \\t  whitespaces\\n\\n\";"
   ]
  },
  {
   "cell_type": "code",
   "execution_count": 40,
   "metadata": {},
   "outputs": [
    {
     "data": {
      "text/plain": [
       "\"Text\n",
       " with\tsome \t  whitespaces\n",
       "\n",
       "\""
      ]
     },
     "execution_count": 40,
     "metadata": {},
     "output_type": "execute_result"
    }
   ],
   "source": [
    "str3"
   ]
  },
  {
   "cell_type": "code",
   "execution_count": 41,
   "metadata": {},
   "outputs": [],
   "source": [
    "str3.erase(remove_if(str3.begin(), str3.end(), \n",
    "                      [](char x){return isspace(x);}), str3.end());"
   ]
  },
  {
   "cell_type": "code",
   "execution_count": 42,
   "metadata": {},
   "outputs": [
    {
     "data": {
      "text/plain": [
       "\"Textwithsomewhitespaces\""
      ]
     },
     "execution_count": 42,
     "metadata": {},
     "output_type": "execute_result"
    }
   ],
   "source": [
    "str3"
   ]
  },
  {
   "cell_type": "markdown",
   "metadata": {},
   "source": [
    "<a id=\"sorting\"></a>"
   ]
  },
  {
   "cell_type": "markdown",
   "metadata": {},
   "source": [
    "## Sorting operations"
   ]
  },
  {
   "cell_type": "markdown",
   "metadata": {},
   "source": [
    "<a id=\"issorted\"></a>"
   ]
  },
  {
   "cell_type": "markdown",
   "metadata": {},
   "source": [
    "### is_sorted\n",
    "- checks if the elements in range `[first, last)` are sorted in ascending order (non-decreasing order)"
   ]
  },
  {
   "cell_type": "code",
   "execution_count": 43,
   "metadata": {},
   "outputs": [],
   "source": [
    "int digits[] = {3, 1, 4, 1, 5};"
   ]
  },
  {
   "cell_type": "code",
   "execution_count": 45,
   "metadata": {},
   "outputs": [
    {
     "name": "stdout",
     "output_type": "stream",
     "text": [
      " is sorted? false\n"
     ]
    }
   ],
   "source": [
    "cout << \" is sorted? \" << boolalpha << \n",
    "    is_sorted(begin(digits), end(digits)) << '\\n';"
   ]
  },
  {
   "cell_type": "markdown",
   "metadata": {},
   "source": [
    "<a id=\"sort\"></a>"
   ]
  },
  {
   "cell_type": "markdown",
   "metadata": {},
   "source": [
    "### sort\n",
    "- sort elements in range `[first, last)` in ascending order (non-decreasing order)\n",
    "- the order of equal elements is not guaranteed to be preserved\n",
    "- running time complexity is `O(N.log(N)` comparisons"
   ]
  },
  {
   "cell_type": "code",
   "execution_count": 46,
   "metadata": {},
   "outputs": [],
   "source": [
    "sort(begin(digits), end(digits));"
   ]
  },
  {
   "cell_type": "code",
   "execution_count": 47,
   "metadata": {},
   "outputs": [
    {
     "data": {
      "text/plain": [
       "{ 1, 1, 3, 4, 5 }"
      ]
     },
     "execution_count": 47,
     "metadata": {},
     "output_type": "execute_result"
    }
   ],
   "source": [
    "digits"
   ]
  },
  {
   "cell_type": "code",
   "execution_count": 48,
   "metadata": {},
   "outputs": [
    {
     "name": "stdout",
     "output_type": "stream",
     "text": [
      " is sorted? true\n"
     ]
    }
   ],
   "source": [
    "cout << \" is sorted? \" << boolalpha << \n",
    "    is_sorted(begin(digits), end(digits)) << '\\n';"
   ]
  },
  {
   "cell_type": "code",
   "execution_count": 50,
   "metadata": {},
   "outputs": [],
   "source": [
    "vector<int> nums1 = {5, 7, 4, 2, 8, 6, 1, 9, 0, 3};"
   ]
  },
  {
   "cell_type": "code",
   "execution_count": 51,
   "metadata": {},
   "outputs": [
    {
     "name": "stdout",
     "output_type": "stream",
     "text": [
      " is sorted? false\n"
     ]
    }
   ],
   "source": [
    "cout << \" is sorted? \" << boolalpha << \n",
    "    is_sorted(nums1.begin(), nums1.end()) << '\\n';"
   ]
  },
  {
   "cell_type": "code",
   "execution_count": 52,
   "metadata": {},
   "outputs": [],
   "source": [
    "sort(nums1.begin(), nums1.end());"
   ]
  },
  {
   "cell_type": "code",
   "execution_count": 53,
   "metadata": {},
   "outputs": [
    {
     "data": {
      "text/plain": [
       "{ 0, 1, 2, 3, 4, 5, 6, 7, 8, 9 }"
      ]
     },
     "execution_count": 53,
     "metadata": {},
     "output_type": "execute_result"
    }
   ],
   "source": [
    "nums1"
   ]
  },
  {
   "cell_type": "code",
   "execution_count": 54,
   "metadata": {},
   "outputs": [],
   "source": [
    "// sort in descending order\n",
    "sort(nums1.begin(), nums1.end(), greater<int>());"
   ]
  },
  {
   "cell_type": "code",
   "execution_count": 55,
   "metadata": {},
   "outputs": [
    {
     "data": {
      "text/plain": [
       "{ 9, 8, 7, 6, 5, 4, 3, 2, 1, 0 }"
      ]
     },
     "execution_count": 55,
     "metadata": {},
     "output_type": "execute_result"
    }
   ],
   "source": [
    "nums1"
   ]
  },
  {
   "cell_type": "markdown",
   "metadata": {},
   "source": [
    "<a id=\"stable_sort\"></a>"
   ]
  },
  {
   "cell_type": "markdown",
   "metadata": {},
   "source": [
    "### stable_sort\n",
    "- sorts elements in the range `[first, last)` in ascending order\n",
    "- the order of equivalent elements is guaranted to be preserved\n",
    "- running time complexity is `O(N.log(N)^2)`"
   ]
  },
  {
   "cell_type": "code",
   "execution_count": 56,
   "metadata": {},
   "outputs": [],
   "source": [
    "struct Employee\n",
    "{\n",
    "    int age;\n",
    "    string name;  // Does not participate in comparisons\n",
    "    \n",
    "    // overload < operator to be able to sort to employees based on their age\n",
    "    bool operator<(const Employee& rhs) const {\n",
    "        return this->age < rhs.age;\n",
    "    }\n",
    "};"
   ]
  },
  {
   "cell_type": "code",
   "execution_count": 57,
   "metadata": {},
   "outputs": [],
   "source": [
    "vector<Employee> emps =\n",
    "    { \n",
    "        {108, \"Zaphod\"},\n",
    "        {32, \"Arthur\"},\n",
    "        {108, \"Ford\"},\n",
    "    };  "
   ]
  },
  {
   "cell_type": "code",
   "execution_count": 58,
   "metadata": {},
   "outputs": [],
   "source": [
    "stable_sort(emps.begin(), emps.end());"
   ]
  },
  {
   "cell_type": "code",
   "execution_count": 59,
   "metadata": {},
   "outputs": [
    {
     "name": "stdout",
     "output_type": "stream",
     "text": [
      "32, Arthur\n",
      "108, Zaphod\n",
      "108, Ford\n"
     ]
    }
   ],
   "source": [
    "for (const auto &e : emps)\n",
    "    cout << e.age << \", \" << e.name << endl;"
   ]
  },
  {
   "cell_type": "markdown",
   "metadata": {},
   "source": [
    "<a id=\"binarysearch\"></a>"
   ]
  },
  {
   "cell_type": "markdown",
   "metadata": {},
   "source": [
    "### Binary search on sorted ranges\n",
    "- determines if the given elements exist in the given sorted range in ascending order\n",
    "- returns `true` if an element is found, `false` otherwise\n",
    "- the number of comparisons performed is logarithmic in the size of the range ( `O (lg n)`)"
   ]
  },
  {
   "cell_type": "code",
   "execution_count": 3,
   "metadata": {},
   "outputs": [],
   "source": [
    "vector<int> treasures {1, 2, 3, 4, 5, 6, 7, 8, 9, 10};\n",
    "vector<int> searchItems {1, 4, 11};"
   ]
  },
  {
   "cell_type": "code",
   "execution_count": 4,
   "metadata": {},
   "outputs": [
    {
     "name": "stdout",
     "output_type": "stream",
     "text": [
      "search for 1 found!\n",
      "search for 4 found!\n",
      "search for 9 found!\n"
     ]
    }
   ],
   "source": [
    "for (auto si: searchItems) {\n",
    "    cout << \"search for \" << si;\n",
    "    if (binary_search(treasures.begin(), treasures.end(), si))\n",
    "        cout << \" found!\\n\";\n",
    "    else\n",
    "        cout << \" no dice!\\n\";\n",
    "}"
   ]
  },
  {
   "cell_type": "markdown",
   "metadata": {},
   "source": [
    "<a id=\"merge\"></a>"
   ]
  },
  {
   "cell_type": "markdown",
   "metadata": {},
   "source": [
    "### Merge two sorted ranges\n",
    "- merge two sorted ranges `[first, last)` and `[first2, last2)` into one sorted range"
   ]
  },
  {
   "cell_type": "code",
   "execution_count": 3,
   "metadata": {},
   "outputs": [],
   "source": [
    "#include <random>\n",
    "// fill the vectors with random numbers\n",
    "random_device rd;\n",
    "//https://en.cppreference.com/w/cpp/numeric/random/mersenne_twister_engine\n",
    "// generates high quality random unsigned ints\n",
    "mt19937 mt(rd());\n",
    "uniform_int_distribution<> dis(0, 9); // numbers between 0 and 9 inclusive\n",
    "\n",
    "vector<int> sv1(10), sv2(10);"
   ]
  },
  {
   "cell_type": "code",
   "execution_count": 9,
   "metadata": {},
   "outputs": [
    {
     "name": "stdout",
     "output_type": "stream",
     "text": [
      "[3, 4, 8, 1, 8, 9, 5, 9, 5, 8]\n",
      "[4, 5, 3, 1, 5, 0, 2, 9, 2, 0]\n"
     ]
    }
   ],
   "source": [
    "// can rerun this over and again to get new set of random numbers\n",
    "generate(sv1.begin(), sv1.end(), bind(dis, ref(mt)));\n",
    "generate(sv2.begin(), sv2.end(), bind(dis, ref(mt)));\n",
    "cout << sv1;\n",
    "cout << sv2;"
   ]
  },
  {
   "cell_type": "code",
   "execution_count": 11,
   "metadata": {},
   "outputs": [
    {
     "name": "stdout",
     "output_type": "stream",
     "text": [
      "[1, 3, 4, 5, 5, 8, 8, 8, 9, 9]\n",
      "[0, 0, 1, 2, 2, 3, 4, 5, 5, 9]\n"
     ]
    }
   ],
   "source": [
    "// sort vectors\n",
    "sort(sv1.begin(), sv1.end());\n",
    "sort(sv2.begin(), sv2.end());\n",
    "cout << sv1;\n",
    "cout << sv2;"
   ]
  },
  {
   "cell_type": "code",
   "execution_count": 13,
   "metadata": {},
   "outputs": [],
   "source": [
    "vector<int> dst;"
   ]
  },
  {
   "cell_type": "code",
   "execution_count": 16,
   "metadata": {},
   "outputs": [
    {
     "name": "stderr",
     "output_type": "stream",
     "text": [
      "\u001b[1minput_line_24:3:55: \u001b[0m\u001b[0;1;31merror: \u001b[0m\u001b[1mno matching function for call to 'inserter'\u001b[0m\n",
      "merge(sv1.begin(), sv1.end(), sv2.begin(), sv2.end(), inserter(dst));\n",
      "\u001b[0;1;32m                                                      ^~~~~~~~\n",
      "\u001b[0m\u001b[1m/Users/rbasnet/miniconda3/include/c++/v1/iterator:853:1: \u001b[0m\u001b[0;1;30mnote: \u001b[0mcandidate function template not viable: requires 2 arguments, but 1 was provided\u001b[0m\n",
      "inserter(_Container& __x, typename _Container::iterator __i)\n",
      "\u001b[0;1;32m^\n",
      "\u001b[0m"
     ]
    },
    {
     "ename": "Interpreter Error",
     "evalue": "",
     "output_type": "error",
     "traceback": [
      "Interpreter Error: "
     ]
    }
   ],
   "source": [
    "// merge two sorted vectors\n",
    "merge(sv1.begin(), sv1.end(), sv2.begin(), sv2.end(), back_inserter(dst));\n",
    "cout << dst;\n",
    "cout << dst.size() << endl;"
   ]
  },
  {
   "cell_type": "markdown",
   "metadata": {},
   "source": [
    "<a id=\"setops\"></a>"
   ]
  },
  {
   "cell_type": "markdown",
   "metadata": {},
   "source": [
    "## Set operations on sorted ranges"
   ]
  },
  {
   "cell_type": "markdown",
   "metadata": {},
   "source": [
    "<a id=\"includes\"></a>"
   ]
  },
  {
   "cell_type": "markdown",
   "metadata": {},
   "source": [
    "### includes\n",
    "- returns true if one set is a subset of another"
   ]
  },
  {
   "cell_type": "code",
   "execution_count": 24,
   "metadata": {},
   "outputs": [],
   "source": [
    "vector<char> set1 = {'a', 'b', 'c', 'f', 'h', 'x'};\n",
    "vector<char> set2 = {'a', 'b', 'c'}\n",
    "vector<char> set3 = {'b', 'f', 'x'};\n",
    "vector<char> set4 = {'b', 'f', 'x', 'z'};"
   ]
  },
  {
   "cell_type": "code",
   "execution_count": 21,
   "metadata": {},
   "outputs": [
    {
     "name": "stdout",
     "output_type": "stream",
     "text": [
      "[a, b, c, f, h, x]\n",
      " includes [a, b, c]\n",
      "? true\n"
     ]
    }
   ],
   "source": [
    "cout << boolalpha << set1 << \" includes \" << set2 << \"? \" <<\n",
    "    includes (set1.begin(), set1.end(), set2.begin(), set2.end()) << endl;"
   ]
  },
  {
   "cell_type": "code",
   "execution_count": 23,
   "metadata": {},
   "outputs": [
    {
     "name": "stdout",
     "output_type": "stream",
     "text": [
      "[a, b, c, f, h, x]\n",
      " includes [b, f, x]\n",
      "? true\n"
     ]
    }
   ],
   "source": [
    "cout << boolalpha << set1 << \" includes \" << set3 << \"? \" <<\n",
    "    includes (set1.begin(), set1.end(), set3.begin(), set3.end()) << endl;"
   ]
  },
  {
   "cell_type": "code",
   "execution_count": 25,
   "metadata": {},
   "outputs": [
    {
     "name": "stdout",
     "output_type": "stream",
     "text": [
      "[a, b, c, f, h, x]\n",
      " includes [b, f, x, z]\n",
      "? false\n"
     ]
    }
   ],
   "source": [
    "cout << boolalpha << set1 << \" includes \" << set4 << \"? \" <<\n",
    "    includes (set1.begin(), set1.end(), set4.begin(), set4.end()) << endl;"
   ]
  },
  {
   "cell_type": "markdown",
   "metadata": {},
   "source": [
    "<a id=\"set_difference\"></a>"
   ]
  },
  {
   "cell_type": "markdown",
   "metadata": {},
   "source": [
    "### set_difference\n",
    "- computes the difference between two ordered sets/ranges"
   ]
  },
  {
   "cell_type": "code",
   "execution_count": 26,
   "metadata": {},
   "outputs": [],
   "source": [
    "vector<int> v10 = {1, 2, 5, 5, 5, 9};\n",
    "vector<int> v11 = {2, 5, 7};\n",
    "vector<int> diff;"
   ]
  },
  {
   "cell_type": "code",
   "execution_count": 27,
   "metadata": {},
   "outputs": [],
   "source": [
    "set_difference(v10.begin(), v10.end(), v11.begin(), v11.end(), back_inserter(diff));"
   ]
  },
  {
   "cell_type": "code",
   "execution_count": 31,
   "metadata": {},
   "outputs": [
    {
     "name": "stdout",
     "output_type": "stream",
     "text": [
      "[1, 2, 5, 5, 5, 9]\n",
      "minus \n",
      "[2, 5, 7]\n",
      "=\n",
      "[1, 5, 5, 9]\n"
     ]
    }
   ],
   "source": [
    "cout << v10 << \"minus \\n\" << v11 << \"=\\n\" << diff;"
   ]
  },
  {
   "cell_type": "markdown",
   "metadata": {},
   "source": [
    "<a id=\"intersection\"></a>"
   ]
  },
  {
   "cell_type": "markdown",
   "metadata": {},
   "source": [
    "### set_intersection\n",
    "- computes the sorted intersection of two sorted set/ranges"
   ]
  },
  {
   "cell_type": "code",
   "execution_count": 33,
   "metadata": {},
   "outputs": [],
   "source": [
    "vector<int> v_intersection;"
   ]
  },
  {
   "cell_type": "code",
   "execution_count": 34,
   "metadata": {},
   "outputs": [],
   "source": [
    "set_intersection(v10.begin(), v10.end(), v11.begin(), v11.end(), \n",
    "                 back_inserter(v_intersection));"
   ]
  },
  {
   "cell_type": "code",
   "execution_count": 35,
   "metadata": {},
   "outputs": [
    {
     "name": "stdout",
     "output_type": "stream",
     "text": [
      "[2, 5]\n"
     ]
    }
   ],
   "source": [
    "cout << v_intersection;"
   ]
  },
  {
   "cell_type": "code",
   "execution_count": null,
   "metadata": {},
   "outputs": [],
   "source": []
  }
 ],
 "metadata": {
  "kernelspec": {
   "display_name": "C++14",
   "language": "C++14",
   "name": "xeus-cling-cpp14"
  },
  "language_info": {
   "codemirror_mode": "text/x-c++src",
   "file_extension": ".cpp",
   "mimetype": "text/x-c++src",
   "name": "c++",
   "version": "-std=c++14"
  }
 },
 "nbformat": 4,
 "nbformat_minor": 2
}
