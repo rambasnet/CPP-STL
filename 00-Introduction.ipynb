{
 "cells": [
  {
   "cell_type": "markdown",
   "metadata": {},
   "source": [
    "# C++ Built-in Data Structures and Algorithms\n",
    "\n",
    "## Table of Contents\n",
    "- [STL containers](#stl)\n",
    "    - [Sequence containers](#sequence)\n",
    "    - [Associative containers](#associative)\n",
    "    - [Unordered associative containers](#unordered)\n",
    "    - [Container adaptors](#adaptors)\n",
    "- [Lambda expressions](#lambda)\n",
    "- [Algorithms library](#algorithm)\n",
    "- [Numerics library](#numerics)"
   ]
  },
  {
   "cell_type": "markdown",
   "metadata": {},
   "source": [
    "<a id=\"stl\"></a>"
   ]
  },
  {
   "cell_type": "markdown",
   "metadata": {},
   "source": [
    "## STL containers\n",
    "- Standard Template Library\n",
    "- generic collection of class templates and algorithms that allow programmers to easily implement data structures like queues, lists, stacks, etc.\n",
    "- three classes of containers:\n",
    "    1. Sequence containers\n",
    "    2. Associative containers\n",
    "    3. Unordered associative containers\n",
    "- manage the storage space to store its elements\n",
    "- provide member functions to access elements, either directly or through iterators (objects with properties similar to pointers)\n",
    "- most containers have several similar member functions\n",
    "- which container is the best for the particular application depends on the offered funtionality and its efficiency for different workloads and problem specifications"
   ]
  },
  {
   "cell_type": "markdown",
   "metadata": {},
   "source": [
    "<a id=\"sequence\"></a>"
   ]
  },
  {
   "cell_type": "markdown",
   "metadata": {},
   "source": [
    "## Sequence containers\n",
    "- implement data structures which can be accessed sequentially\n",
    "\n",
    "    1. **[array](./Array.ipynb)** : static contiguous array\n",
    "    2. **[vector](./Vector.ipynb)** : dynamic contiguous array\n",
    "    3. **[deque](./Deque.ipynb)** : double-ended queue\n",
    "    4. **[forward_list](./ForwardList.ipynb)** : singly-linked list\n",
    "    5. **[list](./List.ipynb)** : doubly-linked list"
   ]
  },
  {
   "cell_type": "markdown",
   "metadata": {},
   "source": [
    "<a id=\"associative\"></a>"
   ]
  },
  {
   "cell_type": "markdown",
   "metadata": {},
   "source": [
    "## Associative containers\n",
    "- implement sorted data structures that can be quickly searched ( *O (lg n)* , big O of log n, running time complexity)\n",
    "    1. **[set](./Set.ipynb)** : collection of unique keys, sorted by keys\n",
    "    2. **[map](./Map.ipynb)** : collection of key-value pairs, sorted by keys, keys are unique\n",
    "    3. **multiset** : collection of keys, sorted by keys\n",
    "    4. **multimap** : collection of key-value pairs, sorted by keys"
   ]
  },
  {
   "cell_type": "markdown",
   "metadata": {},
   "source": [
    "<a id=\"unordered\"></a>"
   ]
  },
  {
   "cell_type": "markdown",
   "metadata": {},
   "source": [
    "## Unordered associative containers\n",
    "- implement unsorted (hashed) data structures that can be quickly searched ( *(O (1)* amortized, *O (n)* worst-case complexity)\n",
    "    1. **[unordered_set](./UnorderedSet.ipynb)** : collection of unique keys, hashed by keys\n",
    "    2. **[unordered_map](./UnorderedMap.ipynb)** : collection of key-value pairs, hashed by keys, keys are unique\n",
    "    3. **unordered_multiset** : collection of keys, hashed by keys\n",
    "    4. **unordered_multiset** : collection of key-value pairs, hashed by keys"
   ]
  },
  {
   "cell_type": "markdown",
   "metadata": {},
   "source": [
    "<a id=\"adaptors\"></a>"
   ]
  },
  {
   "cell_type": "markdown",
   "metadata": {},
   "source": [
    "## Container adaptors\n",
    "- provide different interface for sequential containers\n",
    "    1. **[stack](./Stack.ipynb)** : adapts a container to provide stack (LIFO data structure)\n",
    "    2. **[queue](./Queue.ipynb)** : adapts a container to provide queue (FIFO data structure)\n",
    "    3. **[priority_queue](./PriorityQueue.ipynb)** : adapts a container to provide priority queue"
   ]
  },
  {
   "cell_type": "markdown",
   "metadata": {},
   "source": [
    "<a id=\"lambda\"></a>"
   ]
  },
  {
   "cell_type": "markdown",
   "metadata": {},
   "source": [
    "## Lambda Expressions\n",
    "- **[Lambda expressions](./LambdaExpressions.ipynb)** : unnamed functions used in higher order functions"
   ]
  },
  {
   "cell_type": "markdown",
   "metadata": {},
   "source": [
    "<a id=\"algorithm\"></a>"
   ]
  },
  {
   "cell_type": "markdown",
   "metadata": {},
   "source": [
    "## Algorithms Library\n",
    "- **[Algorithms Library](./Algorithms.ipynb)** : commonly used algorithms for varieties of operations"
   ]
  },
  {
   "cell_type": "markdown",
   "metadata": {},
   "source": [
    "<a id=\"algorithm\"></a>"
   ]
  },
  {
   "cell_type": "markdown",
   "metadata": {},
   "source": [
    "<a id=\"numerics\"></a>"
   ]
  },
  {
   "cell_type": "markdown",
   "metadata": {},
   "source": [
    "## Numerics Library\n",
    "- **[Numerics Library](./Numerics.ipynb)** : includes common mathematical functions and types as well as optimized numeric arrays and support for random number generation"
   ]
  },
  {
   "cell_type": "code",
   "execution_count": null,
   "metadata": {},
   "outputs": [],
   "source": []
  }
 ],
 "metadata": {
  "kernelspec": {
   "display_name": "C++14",
   "language": "C++14",
   "name": "xeus-cling-cpp14"
  },
  "language_info": {
   "codemirror_mode": "text/x-c++src",
   "file_extension": ".cpp",
   "mimetype": "text/x-c++src",
   "name": "c++",
   "version": "-std=c++14"
  }
 },
 "nbformat": 4,
 "nbformat_minor": 2
}
