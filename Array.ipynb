{
 "cells": [
  {
   "cell_type": "markdown",
   "metadata": {},
   "source": [
    "# STL array\n",
    "https://en.cppreference.com/w/cpp/container/array\n",
    "\n",
    "## Table of Conetents\n",
    "- [array](#array)\n",
    "- [declare arrays](#declare)\n",
    "- [access elements](#access)\n",
    "- [capacity](#capacity)\n",
    "- [operations](#operations)\n",
    "- [iterators](#iterators)\n",
    "\n",
    "<a id=\"array\"></a>\n",
    "## array\n",
    "- container that encapsulates fixed size array\n",
    "- very similar to C-style array `Type[N]`\n",
    "- same performance as the C-style array along with the benefits of a standard container, such as knowing its own size, supporting assignment, random access iterators, etc.\n",
    "- defined in arrah.h library"
   ]
  },
  {
   "cell_type": "markdown",
   "metadata": {},
   "source": [
    "<a id=\"array\"></a>\n",
    "## declare arrays\n",
    "- must include header array and std namespace\n",
    "- template class with two template parameters\n",
    "    - first template parameter is type of data, and 2nd is size_t for max_size"
   ]
  },
  {
   "cell_type": "code",
   "execution_count": 1,
   "metadata": {},
   "outputs": [],
   "source": [
    "// includes\n",
    "#include <iostream>\n",
    "#include <string>\n",
    "#include <array>\n",
    "\n",
    "using namespace std;"
   ]
  },
  {
   "cell_type": "code",
   "execution_count": 2,
   "metadata": {},
   "outputs": [],
   "source": [
    "// printArray helper function\n",
    "template<class T, unsigned long N>\n",
    "void printArray(const array<T, N>& arr) {\n",
    "    char comma[3] = {'\\0', ' ', '\\0'};\n",
    "    cout << '[';\n",
    "    for (const auto& e: arr) {\n",
    "        cout << comma << e;\n",
    "        comma[0] = ',';\n",
    "    }\n",
    "    cout << \"]\";\n",
    "}"
   ]
  },
  {
   "cell_type": "code",
   "execution_count": 3,
   "metadata": {},
   "outputs": [],
   "source": [
    "// declaring array\n",
    "array<float, 5> tests;\n",
    "array<string, 2>names;"
   ]
  },
  {
   "cell_type": "code",
   "execution_count": 4,
   "metadata": {},
   "outputs": [],
   "source": [
    "// construction uses aggregate initialization\n",
    "array<int, 3> a2 = {1, 2, 3};\n",
    "array<string, 10> a3 = { \"a\", \"b\" };"
   ]
  },
  {
   "cell_type": "code",
   "execution_count": 5,
   "metadata": {},
   "outputs": [],
   "source": [
    "// 2-D array\n",
    "array<array<int, 2>, 3> matrix;"
   ]
  },
  {
   "cell_type": "markdown",
   "metadata": {},
   "source": [
    "<a id=\"access\"></a>\n",
    "## access elements\n",
    "- **at** : access specified element with bounds checking\n",
    "- **operator[ ]** : access specified element by index\n",
    "- **front** : access the first element\n",
    "- **back** : access the last element"
   ]
  },
  {
   "cell_type": "code",
   "execution_count": 6,
   "metadata": {},
   "outputs": [
    {
     "name": "stdout",
     "output_type": "stream",
     "text": [
      "avg = 88.3333\n"
     ]
    }
   ],
   "source": [
    "tests[0] = 100;\n",
    "tests[1] = 95;\n",
    "tests[2] = 70;\n",
    "cout << \"avg = \" << (tests.at(0) + tests.at(1) + tests[2])/3.0 << '\\n';"
   ]
  },
  {
   "cell_type": "code",
   "execution_count": 7,
   "metadata": {},
   "outputs": [
    {
     "name": "stdout",
     "output_type": "stream",
     "text": [
      "first test score: 100\n",
      "last test score: 0\n"
     ]
    }
   ],
   "source": [
    "cout << \"first test score: \" << tests.front() << '\\n';\n",
    "cout << \"last test score: \" << tests.back() << '\\n';"
   ]
  },
  {
   "cell_type": "code",
   "execution_count": 8,
   "metadata": {},
   "outputs": [
    {
     "name": "stdout",
     "output_type": "stream",
     "text": [
      "3\n",
      "0 0 \n",
      "0 0 \n",
      "0 3 \n"
     ]
    }
   ],
   "source": [
    "// 2D array access\n",
    "matrix[2][1] = 3;\n",
    "cout << matrix[2][1] << endl;\n",
    "for(int i=0; i<3; i++) {\n",
    "    for (int j=0; j<2; j++)\n",
    "        cout << matrix[i][j] << \" \";\n",
    "    cout << '\\n';\n",
    "}"
   ]
  },
  {
   "cell_type": "markdown",
   "metadata": {},
   "source": [
    "<a id=\"capacity\"></a>\n",
    "## capacity\n",
    "- **empty** : checks whethere the container is empty\n",
    "- **size** : returns the number of elements\n",
    "- **max_size** : returns the max possible # of elements"
   ]
  },
  {
   "cell_type": "code",
   "execution_count": 9,
   "metadata": {},
   "outputs": [
    {
     "name": "stdout",
     "output_type": "stream",
     "text": [
      "max sixe of a2 = 3\n",
      "a2 has 3 elements.\n"
     ]
    }
   ],
   "source": [
    "cout << \"max sixe of a2 = \" << a2.max_size() << '\\n';\n",
    "if (a2.empty())\n",
    "    cout << \"a2 is empty!\" << endl;\n",
    "else\n",
    "    cout << \"a2 has \" << a2.size() << \" elements.\\n\""
   ]
  },
  {
   "cell_type": "code",
   "execution_count": 10,
   "metadata": {},
   "outputs": [
    {
     "name": "stdout",
     "output_type": "stream",
     "text": [
      "a3 max possible length = 10\n",
      "a3 actual length = 10\n"
     ]
    }
   ],
   "source": [
    "cout << \"a3 max possible length = \" << a3.max_size() << '\\n';\n",
    "cout << \"a3 actual length = \" << a3.size() << '\\n';"
   ]
  },
  {
   "cell_type": "code",
   "execution_count": 11,
   "metadata": {},
   "outputs": [
    {
     "name": "stdout",
     "output_type": "stream",
     "text": [
      "tests max length = 5\n",
      "tests actual length = 5\n"
     ]
    }
   ],
   "source": [
    "cout << \"tests max length = \" << tests.max_size() << '\\n';\n",
    "cout << \"tests actual length = \" << tests.size() << '\\n';"
   ]
  },
  {
   "cell_type": "markdown",
   "metadata": {},
   "source": [
    "<a id=\"operations\"></a>\n",
    "## operations\n",
    "- **fill** : fill the container with specified value\n",
    "- **swap** : swaps the contents between two array containers"
   ]
  },
  {
   "cell_type": "code",
   "execution_count": 12,
   "metadata": {},
   "outputs": [
    {
     "name": "stdout",
     "output_type": "stream",
     "text": [
      "[100, 95, 70, 0, 0]\n"
     ]
    }
   ],
   "source": [
    "printArray(tests);"
   ]
  },
  {
   "cell_type": "code",
   "execution_count": 13,
   "metadata": {},
   "outputs": [
    {
     "name": "stdout",
     "output_type": "stream",
     "text": [
      "[1, 1, 1, 1, 1]\n"
     ]
    }
   ],
   "source": [
    "tests.fill(1);\n",
    "printArray(tests);"
   ]
  },
  {
   "cell_type": "code",
   "execution_count": 14,
   "metadata": {},
   "outputs": [
    {
     "name": "stdout",
     "output_type": "stream",
     "text": [
      "[100, 100, 100, 100, 100]\n"
     ]
    }
   ],
   "source": [
    "array<float, 5> hws = {100, 100, 100, 100, 100};\n",
    "printArray(hws)"
   ]
  },
  {
   "cell_type": "code",
   "execution_count": 15,
   "metadata": {},
   "outputs": [],
   "source": [
    "// # of elements between two containers have to equal\n",
    "tests.swap(hws);"
   ]
  },
  {
   "cell_type": "code",
   "execution_count": 16,
   "metadata": {},
   "outputs": [
    {
     "name": "stdout",
     "output_type": "stream",
     "text": [
      "tests contents: [100, 100, 100, 100, 100]\n"
     ]
    }
   ],
   "source": [
    "cout << \"tests contents: \"; \n",
    "printArray(tests);"
   ]
  },
  {
   "cell_type": "code",
   "execution_count": 17,
   "metadata": {},
   "outputs": [
    {
     "name": "stdout",
     "output_type": "stream",
     "text": [
      "hws contents: [1, 1, 1, 1, 1]\n"
     ]
    }
   ],
   "source": [
    "cout << \"hws contents: \";\n",
    "printArray(hws);"
   ]
  },
  {
   "cell_type": "code",
   "execution_count": 18,
   "metadata": {},
   "outputs": [
    {
     "name": "stdout",
     "output_type": "stream",
     "text": [
      "[0, 0, 0, 0, 0]\n",
      "[1, 1, 1, 1, 1]\n"
     ]
    }
   ],
   "source": [
    "// assignment is allowed as it copies elements from rhs to lhs\n",
    "array<float, 5> quizzes;\n",
    "printArray(quizzes);\n",
    "quizzes = hws;\n",
    "printArray(quizzes);"
   ]
  },
  {
   "cell_type": "markdown",
   "metadata": {},
   "source": [
    "<a id=\"iterators\"></a>\n",
    "## iterators\n",
    "- **begin** - returns iterator to the first element\n",
    "- **end** - returns iterator to the end (past the last element)\n",
    "- **rbegin** - returns reverse iterator to the last element\n",
    "- **rend** - returns a reverse iterator to the beginnning (prior to the first element)\n",
    "<img src=\"./resources/range-rbegin-rend.svg\" />"
   ]
  },
  {
   "cell_type": "code",
   "execution_count": 19,
   "metadata": {},
   "outputs": [],
   "source": [
    "array<int, 5> nums = {10, 15, 20, 30, 35};"
   ]
  },
  {
   "cell_type": "code",
   "execution_count": 20,
   "metadata": {},
   "outputs": [
    {
     "name": "stdout",
     "output_type": "stream",
     "text": [
      "10 15 20 30 35 \n"
     ]
    }
   ],
   "source": [
    "for(auto iterator = nums.begin(); iterator != nums.end(); iterator++)\n",
    "    cout << *iterator << \" \";\n",
    "cout << endl;"
   ]
  },
  {
   "cell_type": "code",
   "execution_count": 21,
   "metadata": {},
   "outputs": [
    {
     "name": "stdout",
     "output_type": "stream",
     "text": [
      "35 30 20 15 10 \n"
     ]
    }
   ],
   "source": [
    "for(auto iterator = nums.rbegin(); iterator != nums.rend(); iterator++)\n",
    "    cout << *iterator << \" \";\n",
    "cout << endl;"
   ]
  },
  {
   "cell_type": "code",
   "execution_count": 29,
   "metadata": {},
   "outputs": [
    {
     "name": "stderr",
     "output_type": "stream",
     "text": [
      "\u001b[1minput_line_37:3:6: \u001b[0m\u001b[0;1;31merror: \u001b[0m\u001b[1mredefinition of 'it'\u001b[0m\n",
      "auto it = nums.begin();\n",
      "\u001b[0;1;32m     ^\n",
      "\u001b[0m\u001b[1minput_line_30:3:6: \u001b[0m\u001b[0;1;30mnote: \u001b[0mprevious definition is here\u001b[0m\n",
      "auto it = nums.begin();\n",
      "\u001b[0;1;32m     ^\n",
      "\u001b[0m"
     ]
    },
    {
     "ename": "Interpreter Error",
     "evalue": "",
     "output_type": "error",
     "traceback": [
      "Interpreter Error: "
     ]
    }
   ],
   "source": [
    "// next function to advance iterator\n",
    "auto it = nums.begin();\n",
    "cout << *it << endl;"
   ]
  },
  {
   "cell_type": "code",
   "execution_count": 30,
   "metadata": {},
   "outputs": [
    {
     "name": "stdout",
     "output_type": "stream",
     "text": [
      "15\n"
     ]
    }
   ],
   "source": [
    "it = next(it); // one location at a time\n",
    "cout << *it << endl;"
   ]
  },
  {
   "cell_type": "code",
   "execution_count": 31,
   "metadata": {},
   "outputs": [
    {
     "name": "stdout",
     "output_type": "stream",
     "text": [
      "35\n"
     ]
    }
   ],
   "source": [
    "it = next(it, 3);\n",
    "cout << *it << endl;"
   ]
  },
  {
   "cell_type": "code",
   "execution_count": null,
   "metadata": {},
   "outputs": [],
   "source": []
  }
 ],
 "metadata": {
  "kernelspec": {
   "display_name": "C++14",
   "language": "C++14",
   "name": "xeus-cling-cpp14"
  },
  "language_info": {
   "codemirror_mode": "text/x-c++src",
   "file_extension": ".cpp",
   "mimetype": "text/x-c++src",
   "name": "c++",
   "version": "-std=c++14"
  }
 },
 "nbformat": 4,
 "nbformat_minor": 2
}
